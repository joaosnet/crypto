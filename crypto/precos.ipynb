{
 "cells": [
  {
   "cell_type": "code",
   "execution_count": 1,
   "metadata": {},
   "outputs": [],
   "source": [
    "import time\n",
    "from datetime import datetime\n",
    "from pprint import pprint as pp\n",
    "\n",
    "import fireducks.pandas as pd\n",
    "import pygwalker as pyg\n",
    "from api_binance import get_klines\n",
    "from api_bitpreco import (\n",
    "    Balance,\n",
    "    OpenOrders,\n",
    "    Orderbook,\n",
    "    Ticker,\n",
    "    Trades,\n",
    "    fetch_bitpreco_history,\n",
    "    get_coinpair,\n",
    ")\n",
    "from estrategias import BTCBRL_BITY, BTCBRL_FILE\n",
    "from rich import print\n",
    "\n",
    "# Tabela da ordem de compra e venda executadas\n",
    "from segredos import CAMINHO\n"
   ]
  },
  {
   "cell_type": "code",
   "execution_count": null,
   "metadata": {},
   "outputs": [],
   "source": [
    "print(datetime.now().astimezone().timetz().tzinfo)\n",
    "# dois dias atrás em timestamp\n",
    "print(datetime.now().timestamp() - 2 * 24 * 60 * 60)"
   ]
  },
  {
   "cell_type": "code",
   "execution_count": null,
   "metadata": {},
   "outputs": [],
   "source": [
    "response = get_klines()\n",
    "\n",
    "display(response.columns)"
   ]
  },
  {
   "cell_type": "markdown",
   "metadata": {},
   "source": [
    "# Minhas Ordens executadas"
   ]
  },
  {
   "cell_type": "code",
   "execution_count": null,
   "metadata": {},
   "outputs": [],
   "source": [
    "coinpair = get_coinpair()\n",
    "coinpair = 'all-brl'\n",
    "pp(Ticker(coinpair).json().keys())"
   ]
  },
  {
   "cell_type": "code",
   "execution_count": null,
   "metadata": {},
   "outputs": [],
   "source": [
    "balance = Balance().json()\n",
    "# pp(balance)\n",
    "balance_df = pd.DataFrame([balance])\n",
    "\n",
    "balance_df"
   ]
  },
  {
   "cell_type": "code",
   "execution_count": 6,
   "metadata": {},
   "outputs": [],
   "source": [
    "open_orders = OpenOrders().json()\n",
    "\n",
    "if open_orders != []:\n",
    "    open_orders_df = pd.DataFrame(open_orders)\n",
    "    pyg.walk(open_orders_df)"
   ]
  },
  {
   "cell_type": "code",
   "execution_count": null,
   "metadata": {},
   "outputs": [],
   "source": [
    "def calculate_fee(\n",
    "    order_type: str, origin: str, amount: float, price: float\n",
    ") -> float:\n",
    "    \"\"\"\n",
    "    Calcula a taxa da ordem baseado no tipo, origem e valor.\n",
    "\n",
    "    Args:\n",
    "        order_type: Tipo da ordem ('BUY' ou 'SELL')\n",
    "        origin: Origem da ordem ('API', 'APP' ou 'WEB')\n",
    "        amount: Quantidade de BTC\n",
    "        price: Preço unitário em BRL\n",
    "\n",
    "    Returns:\n",
    "        float: Valor da taxa em BTC\n",
    "    \"\"\"\n",
    "    valor_total = amount * price\n",
    "\n",
    "    # Taxa para ordens de venda (SELL)\n",
    "    if order_type == 'SELL':\n",
    "        if origin in {'API', 'WEB'}:\n",
    "            return amount * 0.002  # 0.2%\n",
    "        elif origin == 'APP':\n",
    "            return amount * 0.002  # 0.2%\n",
    "\n",
    "    # Taxa para ordens de compra (BUY)\n",
    "    elif order_type == 'BUY':\n",
    "        if origin == 'API':\n",
    "            return 2e-8 if valor_total < 50 else 5e-7  # noqa: PLR2004\n",
    "        elif origin == 'APP':\n",
    "            return 0.0  # Algumas ordens APP têm taxa zero\n",
    "        elif origin == 'WEB':\n",
    "            return 0.0  # Algumas ordens WEB têm taxa zero\n",
    "\n",
    "    return 0.0"
   ]
  },
  {
   "cell_type": "code",
   "execution_count": null,
   "metadata": {},
   "outputs": [
    {
     "data": {
      "text/html": [
       "<pre style=\"white-space:pre;overflow-x:auto;line-height:normal;font-family:Menlo,'DejaVu Sans Mono',consolas,'Courier New',monospace\">            id   market  type  status    amount          price  exec_amount  \\\n",
       "<span style=\"color: #008080; text-decoration-color: #008080; font-weight: bold\">0</span>   <span style=\"color: #008080; text-decoration-color: #008080; font-weight: bold\">1520875822</span>  BTC-BRL   BUY  FILLED  <span style=\"color: #008080; text-decoration-color: #008080; font-weight: bold\">0.000007</span>  <span style=\"color: #008080; text-decoration-color: #008080; font-weight: bold\">601200.000000</span>     <span style=\"color: #008080; text-decoration-color: #008080; font-weight: bold\">0.000007</span>   \n",
       "<span style=\"color: #008080; text-decoration-color: #008080; font-weight: bold\">1</span>   <span style=\"color: #008080; text-decoration-color: #008080; font-weight: bold\">1520875579</span>  BTC-BRL   BUY  FILLED  <span style=\"color: #008080; text-decoration-color: #008080; font-weight: bold\">0.000009</span>  <span style=\"color: #008080; text-decoration-color: #008080; font-weight: bold\">601200.000000</span>     <span style=\"color: #008080; text-decoration-color: #008080; font-weight: bold\">0.000009</span>   \n",
       "<span style=\"color: #008080; text-decoration-color: #008080; font-weight: bold\">2</span>   <span style=\"color: #008080; text-decoration-color: #008080; font-weight: bold\">1504227287</span>  BTC-BRL   BUY  FILLED  <span style=\"color: #008080; text-decoration-color: #008080; font-weight: bold\">0.000010</span>  <span style=\"color: #008080; text-decoration-color: #008080; font-weight: bold\">648107.029703</span>     <span style=\"color: #008080; text-decoration-color: #008080; font-weight: bold\">0.000010</span>   \n",
       "<span style=\"color: #008080; text-decoration-color: #008080; font-weight: bold\">3</span>   <span style=\"color: #008080; text-decoration-color: #008080; font-weight: bold\">1504205222</span>  BTC-BRL   BUY  FILLED  <span style=\"color: #008080; text-decoration-color: #008080; font-weight: bold\">0.000013</span>  <span style=\"color: #008080; text-decoration-color: #008080; font-weight: bold\">650346.979332</span>     <span style=\"color: #008080; text-decoration-color: #008080; font-weight: bold\">0.000013</span>   \n",
       "<span style=\"color: #008080; text-decoration-color: #008080; font-weight: bold\">4</span>   <span style=\"color: #008080; text-decoration-color: #008080; font-weight: bold\">1503401599</span>  BTC-BRL   BUY  FILLED  <span style=\"color: #008080; text-decoration-color: #008080; font-weight: bold\">0.000016</span>  <span style=\"color: #008080; text-decoration-color: #008080; font-weight: bold\">651822.016592</span>     <span style=\"color: #008080; text-decoration-color: #008080; font-weight: bold\">0.000016</span>   \n",
       "<span style=\"color: #008080; text-decoration-color: #008080; font-weight: bold\">5</span>   <span style=\"color: #008080; text-decoration-color: #008080; font-weight: bold\">1502873638</span>  BTC-BRL   BUY  FILLED  <span style=\"color: #008080; text-decoration-color: #008080; font-weight: bold\">0.000019</span>  <span style=\"color: #008080; text-decoration-color: #008080; font-weight: bold\">660740.000000</span>     <span style=\"color: #008080; text-decoration-color: #008080; font-weight: bold\">0.000019</span>   \n",
       "<span style=\"color: #008080; text-decoration-color: #008080; font-weight: bold\">6</span>   <span style=\"color: #008080; text-decoration-color: #008080; font-weight: bold\">1502871460</span>  BTC-BRL   BUY  FILLED  <span style=\"color: #008080; text-decoration-color: #008080; font-weight: bold\">0.000024</span>  <span style=\"color: #008080; text-decoration-color: #008080; font-weight: bold\">662639.004149</span>     <span style=\"color: #008080; text-decoration-color: #008080; font-weight: bold\">0.000024</span>   \n",
       "<span style=\"color: #008080; text-decoration-color: #008080; font-weight: bold\">7</span>   <span style=\"color: #008080; text-decoration-color: #008080; font-weight: bold\">1502870034</span>  BTC-BRL   BUY  FILLED  <span style=\"color: #008080; text-decoration-color: #008080; font-weight: bold\">0.000030</span>  <span style=\"color: #008080; text-decoration-color: #008080; font-weight: bold\">663701.995344</span>     <span style=\"color: #008080; text-decoration-color: #008080; font-weight: bold\">0.000030</span>   \n",
       "<span style=\"color: #008080; text-decoration-color: #008080; font-weight: bold\">8</span>   <span style=\"color: #008080; text-decoration-color: #008080; font-weight: bold\">1501991376</span>  BTC-BRL  SELL  FILLED  <span style=\"color: #008080; text-decoration-color: #008080; font-weight: bold\">0.000154</span>  <span style=\"color: #008080; text-decoration-color: #008080; font-weight: bold\">649247.000779</span>     <span style=\"color: #008080; text-decoration-color: #008080; font-weight: bold\">0.000154</span>   \n",
       "<span style=\"color: #008080; text-decoration-color: #008080; font-weight: bold\">9</span>   <span style=\"color: #008080; text-decoration-color: #008080; font-weight: bold\">1501767741</span>  BTC-BRL   BUY  FILLED  <span style=\"color: #008080; text-decoration-color: #008080; font-weight: bold\">0.000154</span>  <span style=\"color: #008080; text-decoration-color: #008080; font-weight: bold\">652086.036095</span>     <span style=\"color: #008080; text-decoration-color: #008080; font-weight: bold\">0.000154</span>   \n",
       "<span style=\"color: #008080; text-decoration-color: #008080; font-weight: bold\">10</span>  <span style=\"color: #008080; text-decoration-color: #008080; font-weight: bold\">1498589676</span>  BTC-BRL  SELL  FILLED  <span style=\"color: #008080; text-decoration-color: #008080; font-weight: bold\">0.000165</span>  <span style=\"color: #008080; text-decoration-color: #008080; font-weight: bold\">608500.000000</span>     <span style=\"color: #008080; text-decoration-color: #008080; font-weight: bold\">0.000165</span>   \n",
       "<span style=\"color: #008080; text-decoration-color: #008080; font-weight: bold\">11</span>  <span style=\"color: #008080; text-decoration-color: #008080; font-weight: bold\">1498588089</span>  BTC-BRL   BUY  FILLED  <span style=\"color: #008080; text-decoration-color: #008080; font-weight: bold\">0.000166</span>  <span style=\"color: #008080; text-decoration-color: #008080; font-weight: bold\">606898.998371</span>     <span style=\"color: #008080; text-decoration-color: #008080; font-weight: bold\">0.000166</span>   \n",
       "<span style=\"color: #008080; text-decoration-color: #008080; font-weight: bold\">12</span>  <span style=\"color: #008080; text-decoration-color: #008080; font-weight: bold\">1432828055</span>  BTC-BRL  SELL  FILLED  <span style=\"color: #008080; text-decoration-color: #008080; font-weight: bold\">0.000070</span>  <span style=\"color: #008080; text-decoration-color: #008080; font-weight: bold\">367698.993819</span>     <span style=\"color: #008080; text-decoration-color: #008080; font-weight: bold\">0.000070</span>   \n",
       "<span style=\"color: #008080; text-decoration-color: #008080; font-weight: bold\">13</span>  <span style=\"color: #008080; text-decoration-color: #008080; font-weight: bold\">1417883177</span>  BTC-BRL   BUY  FILLED  <span style=\"color: #008080; text-decoration-color: #008080; font-weight: bold\">0.000070</span>  <span style=\"color: #008080; text-decoration-color: #008080; font-weight: bold\">358728.794835</span>     <span style=\"color: #008080; text-decoration-color: #008080; font-weight: bold\">0.000070</span>   \n",
       "<span style=\"color: #008080; text-decoration-color: #008080; font-weight: bold\">14</span>  <span style=\"color: #008080; text-decoration-color: #008080; font-weight: bold\">1413970020</span>  BTC-BRL  SELL  FILLED  <span style=\"color: #008080; text-decoration-color: #008080; font-weight: bold\">0.000278</span>  <span style=\"color: #008080; text-decoration-color: #008080; font-weight: bold\">360000.000000</span>     <span style=\"color: #008080; text-decoration-color: #008080; font-weight: bold\">0.000278</span>   \n",
       "<span style=\"color: #008080; text-decoration-color: #008080; font-weight: bold\">15</span>  <span style=\"color: #008080; text-decoration-color: #008080; font-weight: bold\">1412867104</span>  BTC-BRL   BUY  FILLED  <span style=\"color: #008080; text-decoration-color: #008080; font-weight: bold\">0.000278</span>  <span style=\"color: #008080; text-decoration-color: #008080; font-weight: bold\">353500.000000</span>     <span style=\"color: #008080; text-decoration-color: #008080; font-weight: bold\">0.000278</span>   \n",
       "<span style=\"color: #008080; text-decoration-color: #008080; font-weight: bold\">16</span>  <span style=\"color: #008080; text-decoration-color: #008080; font-weight: bold\">1412311243</span>  BTC-BRL  SELL  FILLED  <span style=\"color: #008080; text-decoration-color: #008080; font-weight: bold\">0.000280</span>  <span style=\"color: #008080; text-decoration-color: #008080; font-weight: bold\">352000.000000</span>     <span style=\"color: #008080; text-decoration-color: #008080; font-weight: bold\">0.000280</span>   \n",
       "<span style=\"color: #008080; text-decoration-color: #008080; font-weight: bold\">17</span>  <span style=\"color: #008080; text-decoration-color: #008080; font-weight: bold\">1411474267</span>  BTC-BRL   BUY  FILLED  <span style=\"color: #008080; text-decoration-color: #008080; font-weight: bold\">0.000281</span>  <span style=\"color: #008080; text-decoration-color: #008080; font-weight: bold\">348983.000427</span>     <span style=\"color: #008080; text-decoration-color: #008080; font-weight: bold\">0.000281</span>   \n",
       "<span style=\"color: #008080; text-decoration-color: #008080; font-weight: bold\">18</span>  <span style=\"color: #008080; text-decoration-color: #008080; font-weight: bold\">1411095452</span>  BTC-BRL  SELL  FILLED  <span style=\"color: #008080; text-decoration-color: #008080; font-weight: bold\">0.000282</span>  <span style=\"color: #008080; text-decoration-color: #008080; font-weight: bold\">348500.000000</span>     <span style=\"color: #008080; text-decoration-color: #008080; font-weight: bold\">0.000282</span>   \n",
       "<span style=\"color: #008080; text-decoration-color: #008080; font-weight: bold\">19</span>  <span style=\"color: #008080; text-decoration-color: #008080; font-weight: bold\">1410548290</span>  BTC-BRL   BUY  FILLED  <span style=\"color: #008080; text-decoration-color: #008080; font-weight: bold\">0.000283</span>  <span style=\"color: #008080; text-decoration-color: #008080; font-weight: bold\">345937.991868</span>     <span style=\"color: #008080; text-decoration-color: #008080; font-weight: bold\">0.000283</span>   \n",
       "<span style=\"color: #008080; text-decoration-color: #008080; font-weight: bold\">20</span>  <span style=\"color: #008080; text-decoration-color: #008080; font-weight: bold\">1409138168</span>  BTC-BRL  SELL  FILLED  <span style=\"color: #008080; text-decoration-color: #008080; font-weight: bold\">0.000012</span>  <span style=\"color: #008080; text-decoration-color: #008080; font-weight: bold\">346000.000000</span>     <span style=\"color: #008080; text-decoration-color: #008080; font-weight: bold\">0.000012</span>   \n",
       "<span style=\"color: #008080; text-decoration-color: #008080; font-weight: bold\">21</span>  <span style=\"color: #008080; text-decoration-color: #008080; font-weight: bold\">1409136629</span>  BTC-BRL   BUY  FILLED  <span style=\"color: #008080; text-decoration-color: #008080; font-weight: bold\">0.000012</span>  <span style=\"color: #008080; text-decoration-color: #008080; font-weight: bold\">343101.974249</span>     <span style=\"color: #008080; text-decoration-color: #008080; font-weight: bold\">0.000012</span>   \n",
       "<span style=\"color: #008080; text-decoration-color: #008080; font-weight: bold\">22</span>  <span style=\"color: #008080; text-decoration-color: #008080; font-weight: bold\">1408949034</span>  BTC-BRL  SELL  FILLED  <span style=\"color: #008080; text-decoration-color: #008080; font-weight: bold\">0.000071</span>  <span style=\"color: #008080; text-decoration-color: #008080; font-weight: bold\">341406.000000</span>     <span style=\"color: #008080; text-decoration-color: #008080; font-weight: bold\">0.000071</span>   \n",
       "<span style=\"color: #008080; text-decoration-color: #008080; font-weight: bold\">23</span>  <span style=\"color: #008080; text-decoration-color: #008080; font-weight: bold\">1408948406</span>  BTC-BRL   BUY  FILLED  <span style=\"color: #008080; text-decoration-color: #008080; font-weight: bold\">0.000071</span>  <span style=\"color: #008080; text-decoration-color: #008080; font-weight: bold\">340809.994377</span>     <span style=\"color: #008080; text-decoration-color: #008080; font-weight: bold\">0.000071</span>   \n",
       "<span style=\"color: #008080; text-decoration-color: #008080; font-weight: bold\">24</span>  <span style=\"color: #008080; text-decoration-color: #008080; font-weight: bold\">1408942491</span>  BTC-BRL  SELL  FILLED  <span style=\"color: #008080; text-decoration-color: #008080; font-weight: bold\">0.000071</span>  <span style=\"color: #008080; text-decoration-color: #008080; font-weight: bold\">339500.000000</span>     <span style=\"color: #008080; text-decoration-color: #008080; font-weight: bold\">0.000071</span>   \n",
       "<span style=\"color: #008080; text-decoration-color: #008080; font-weight: bold\">25</span>  <span style=\"color: #008080; text-decoration-color: #008080; font-weight: bold\">1408933303</span>  BTC-BRL   BUY  FILLED  <span style=\"color: #008080; text-decoration-color: #008080; font-weight: bold\">0.000071</span>  <span style=\"color: #008080; text-decoration-color: #008080; font-weight: bold\">339316.994658</span>     <span style=\"color: #008080; text-decoration-color: #008080; font-weight: bold\">0.000071</span>   \n",
       "<span style=\"color: #008080; text-decoration-color: #008080; font-weight: bold\">26</span>  <span style=\"color: #008080; text-decoration-color: #008080; font-weight: bold\">1408074126</span>  BTC-BRL  SELL  FILLED  <span style=\"color: #008080; text-decoration-color: #008080; font-weight: bold\">0.000300</span>  <span style=\"color: #008080; text-decoration-color: #008080; font-weight: bold\">327352.852903</span>     <span style=\"color: #008080; text-decoration-color: #008080; font-weight: bold\">0.000300</span>   \n",
       "<span style=\"color: #008080; text-decoration-color: #008080; font-weight: bold\">27</span>  <span style=\"color: #008080; text-decoration-color: #008080; font-weight: bold\">1407326572</span>  BTC-BRL   BUY  FILLED  <span style=\"color: #008080; text-decoration-color: #008080; font-weight: bold\">0.000071</span>  <span style=\"color: #008080; text-decoration-color: #008080; font-weight: bold\">330548.003936</span>     <span style=\"color: #008080; text-decoration-color: #008080; font-weight: bold\">0.000071</span>   \n",
       "<span style=\"color: #008080; text-decoration-color: #008080; font-weight: bold\">28</span>  <span style=\"color: #008080; text-decoration-color: #008080; font-weight: bold\">1407146150</span>  BTC-BRL   BUY  FILLED  <span style=\"color: #008080; text-decoration-color: #008080; font-weight: bold\">0.000229</span>  <span style=\"color: #008080; text-decoration-color: #008080; font-weight: bold\">336975.000000</span>     <span style=\"color: #008080; text-decoration-color: #008080; font-weight: bold\">0.000229</span>   \n",
       "<span style=\"color: #008080; text-decoration-color: #008080; font-weight: bold\">29</span>  <span style=\"color: #008080; text-decoration-color: #008080; font-weight: bold\">1407143157</span>  BTC-BRL  SELL  FILLED  <span style=\"color: #008080; text-decoration-color: #008080; font-weight: bold\">0.000229</span>  <span style=\"color: #008080; text-decoration-color: #008080; font-weight: bold\">337077.991453</span>     <span style=\"color: #008080; text-decoration-color: #008080; font-weight: bold\">0.000229</span>   \n",
       "<span style=\"color: #008080; text-decoration-color: #008080; font-weight: bold\">30</span>  <span style=\"color: #008080; text-decoration-color: #008080; font-weight: bold\">1407130874</span>  BTC-BRL   BUY  FILLED  <span style=\"color: #008080; text-decoration-color: #008080; font-weight: bold\">0.000077</span>  <span style=\"color: #008080; text-decoration-color: #008080; font-weight: bold\">336367.006137</span>     <span style=\"color: #008080; text-decoration-color: #008080; font-weight: bold\">0.000077</span>   \n",
       "<span style=\"color: #008080; text-decoration-color: #008080; font-weight: bold\">31</span>  <span style=\"color: #008080; text-decoration-color: #008080; font-weight: bold\">1407130046</span>  BTC-BRL   BUY  FILLED  <span style=\"color: #008080; text-decoration-color: #008080; font-weight: bold\">0.000077</span>  <span style=\"color: #008080; text-decoration-color: #008080; font-weight: bold\">336947.995822</span>     <span style=\"color: #008080; text-decoration-color: #008080; font-weight: bold\">0.000077</span>   \n",
       "<span style=\"color: #008080; text-decoration-color: #008080; font-weight: bold\">32</span>  <span style=\"color: #008080; text-decoration-color: #008080; font-weight: bold\">1407127071</span>  BTC-BRL   BUY  FILLED  <span style=\"color: #008080; text-decoration-color: #008080; font-weight: bold\">0.000077</span>  <span style=\"color: #008080; text-decoration-color: #008080; font-weight: bold\">337077.999739</span>     <span style=\"color: #008080; text-decoration-color: #008080; font-weight: bold\">0.000077</span>   \n",
       "<span style=\"color: #008080; text-decoration-color: #008080; font-weight: bold\">33</span>  <span style=\"color: #008080; text-decoration-color: #008080; font-weight: bold\">1407126428</span>  BTC-BRL  SELL  FILLED  <span style=\"color: #008080; text-decoration-color: #008080; font-weight: bold\">0.000077</span>  <span style=\"color: #008080; text-decoration-color: #008080; font-weight: bold\">337130.003917</span>     <span style=\"color: #008080; text-decoration-color: #008080; font-weight: bold\">0.000077</span>   \n",
       "<span style=\"color: #008080; text-decoration-color: #008080; font-weight: bold\">34</span>  <span style=\"color: #008080; text-decoration-color: #008080; font-weight: bold\">1407068299</span>  BTC-BRL  SELL  FILLED  <span style=\"color: #008080; text-decoration-color: #008080; font-weight: bold\">0.000077</span>  <span style=\"color: #008080; text-decoration-color: #008080; font-weight: bold\">329167.995830</span>     <span style=\"color: #008080; text-decoration-color: #008080; font-weight: bold\">0.000077</span>   \n",
       "<span style=\"color: #008080; text-decoration-color: #008080; font-weight: bold\">35</span>  <span style=\"color: #008080; text-decoration-color: #008080; font-weight: bold\">1407056031</span>  BTC-BRL   BUY  FILLED  <span style=\"color: #008080; text-decoration-color: #008080; font-weight: bold\">0.000077</span>  <span style=\"color: #008080; text-decoration-color: #008080; font-weight: bold\">325000.000000</span>     <span style=\"color: #008080; text-decoration-color: #008080; font-weight: bold\">0.000077</span>   \n",
       "<span style=\"color: #008080; text-decoration-color: #008080; font-weight: bold\">36</span>  <span style=\"color: #008080; text-decoration-color: #008080; font-weight: bold\">1406519176</span>  BTC-BRL   BUY  FILLED  <span style=\"color: #008080; text-decoration-color: #008080; font-weight: bold\">0.000077</span>  <span style=\"color: #008080; text-decoration-color: #008080; font-weight: bold\">325737.268700</span>     <span style=\"color: #008080; text-decoration-color: #008080; font-weight: bold\">0.000077</span>   \n",
       "\n",
       "          cost           fee  limited  canceled origin           time_stamp  \\\n",
       "<span style=\"color: #008080; text-decoration-color: #008080; font-weight: bold\">0</span>     <span style=\"color: #008080; text-decoration-color: #008080; font-weight: bold\">4.184352</span>  <span style=\"color: #008080; text-decoration-color: #008080; font-weight: bold\">1.000000e-08</span>        <span style=\"color: #008080; text-decoration-color: #008080; font-weight: bold\">1</span>         <span style=\"color: #008080; text-decoration-color: #008080; font-weight: bold\">0</span>    API  <span style=\"color: #008080; text-decoration-color: #008080; font-weight: bold\">2025</span>-<span style=\"color: #008080; text-decoration-color: #008080; font-weight: bold\">01</span>-<span style=\"color: #008080; text-decoration-color: #008080; font-weight: bold\">02</span> <span style=\"color: #00ff00; text-decoration-color: #00ff00; font-weight: bold\">12:21:51</span>   \n",
       "<span style=\"color: #008080; text-decoration-color: #008080; font-weight: bold\">1</span>     <span style=\"color: #008080; text-decoration-color: #008080; font-weight: bold\">5.236452</span>  <span style=\"color: #008080; text-decoration-color: #008080; font-weight: bold\">1.000000e-08</span>        <span style=\"color: #008080; text-decoration-color: #008080; font-weight: bold\">1</span>         <span style=\"color: #008080; text-decoration-color: #008080; font-weight: bold\">0</span>    API  <span style=\"color: #008080; text-decoration-color: #008080; font-weight: bold\">2025</span>-<span style=\"color: #008080; text-decoration-color: #008080; font-weight: bold\">01</span>-<span style=\"color: #008080; text-decoration-color: #008080; font-weight: bold\">02</span> <span style=\"color: #00ff00; text-decoration-color: #00ff00; font-weight: bold\">12:21:35</span>   \n",
       "<span style=\"color: #008080; text-decoration-color: #008080; font-weight: bold\">2</span>     <span style=\"color: #008080; text-decoration-color: #008080; font-weight: bold\">6.545881</span>  <span style=\"color: #008080; text-decoration-color: #008080; font-weight: bold\">2.000000e-08</span>        <span style=\"color: #008080; text-decoration-color: #008080; font-weight: bold\">1</span>         <span style=\"color: #008080; text-decoration-color: #008080; font-weight: bold\">0</span>    API  <span style=\"color: #008080; text-decoration-color: #008080; font-weight: bold\">2024</span>-<span style=\"color: #008080; text-decoration-color: #008080; font-weight: bold\">12</span>-<span style=\"color: #008080; text-decoration-color: #008080; font-weight: bold\">18</span> <span style=\"color: #00ff00; text-decoration-color: #00ff00; font-weight: bold\">16:07:46</span>   \n",
       "<span style=\"color: #008080; text-decoration-color: #008080; font-weight: bold\">3</span>     <span style=\"color: #008080; text-decoration-color: #008080; font-weight: bold\">8.181365</span>  <span style=\"color: #008080; text-decoration-color: #008080; font-weight: bold\">2.000000e-08</span>        <span style=\"color: #008080; text-decoration-color: #008080; font-weight: bold\">1</span>         <span style=\"color: #008080; text-decoration-color: #008080; font-weight: bold\">0</span>    API  <span style=\"color: #008080; text-decoration-color: #008080; font-weight: bold\">2024</span>-<span style=\"color: #008080; text-decoration-color: #008080; font-weight: bold\">12</span>-<span style=\"color: #008080; text-decoration-color: #008080; font-weight: bold\">18</span> <span style=\"color: #00ff00; text-decoration-color: #00ff00; font-weight: bold\">15:42:06</span>   \n",
       "<span style=\"color: #008080; text-decoration-color: #008080; font-weight: bold\">4</span>    <span style=\"color: #008080; text-decoration-color: #008080; font-weight: bold\">10.214051</span>  <span style=\"color: #008080; text-decoration-color: #008080; font-weight: bold\">3.000000e-08</span>        <span style=\"color: #008080; text-decoration-color: #008080; font-weight: bold\">1</span>         <span style=\"color: #008080; text-decoration-color: #008080; font-weight: bold\">0</span>    API  <span style=\"color: #008080; text-decoration-color: #008080; font-weight: bold\">2024</span>-<span style=\"color: #008080; text-decoration-color: #008080; font-weight: bold\">12</span>-<span style=\"color: #008080; text-decoration-color: #008080; font-weight: bold\">17</span> <span style=\"color: #00ff00; text-decoration-color: #00ff00; font-weight: bold\">22:42:58</span>   \n",
       "<span style=\"color: #008080; text-decoration-color: #008080; font-weight: bold\">5</span>    <span style=\"color: #008080; text-decoration-color: #008080; font-weight: bold\">12.752282</span>  <span style=\"color: #008080; text-decoration-color: #008080; font-weight: bold\">3.000000e-08</span>        <span style=\"color: #008080; text-decoration-color: #008080; font-weight: bold\">1</span>         <span style=\"color: #008080; text-decoration-color: #008080; font-weight: bold\">0</span>    API  <span style=\"color: #008080; text-decoration-color: #008080; font-weight: bold\">2024</span>-<span style=\"color: #008080; text-decoration-color: #008080; font-weight: bold\">12</span>-<span style=\"color: #008080; text-decoration-color: #008080; font-weight: bold\">17</span> <span style=\"color: #00ff00; text-decoration-color: #00ff00; font-weight: bold\">12:17:48</span>   \n",
       "<span style=\"color: #008080; text-decoration-color: #008080; font-weight: bold\">6</span>    <span style=\"color: #008080; text-decoration-color: #008080; font-weight: bold\">15.969600</span>  <span style=\"color: #008080; text-decoration-color: #008080; font-weight: bold\">4.000000e-08</span>        <span style=\"color: #008080; text-decoration-color: #008080; font-weight: bold\">1</span>         <span style=\"color: #008080; text-decoration-color: #008080; font-weight: bold\">0</span>    API  <span style=\"color: #008080; text-decoration-color: #008080; font-weight: bold\">2024</span>-<span style=\"color: #008080; text-decoration-color: #008080; font-weight: bold\">12</span>-<span style=\"color: #008080; text-decoration-color: #008080; font-weight: bold\">17</span> <span style=\"color: #00ff00; text-decoration-color: #00ff00; font-weight: bold\">12:15:39</span>   \n",
       "<span style=\"color: #008080; text-decoration-color: #008080; font-weight: bold\">7</span>    <span style=\"color: #008080; text-decoration-color: #008080; font-weight: bold\">19.957519</span>  <span style=\"color: #008080; text-decoration-color: #008080; font-weight: bold\">6.000000e-08</span>        <span style=\"color: #008080; text-decoration-color: #008080; font-weight: bold\">1</span>         <span style=\"color: #008080; text-decoration-color: #008080; font-weight: bold\">0</span>    API  <span style=\"color: #008080; text-decoration-color: #008080; font-weight: bold\">2024</span>-<span style=\"color: #008080; text-decoration-color: #008080; font-weight: bold\">12</span>-<span style=\"color: #008080; text-decoration-color: #008080; font-weight: bold\">17</span> <span style=\"color: #00ff00; text-decoration-color: #00ff00; font-weight: bold\">12:14:04</span>   \n",
       "<span style=\"color: #008080; text-decoration-color: #008080; font-weight: bold\">8</span>   <span style=\"color: #008080; text-decoration-color: #008080; font-weight: bold\">100.010008</span>  <span style=\"color: #008080; text-decoration-color: #008080; font-weight: bold\">2.000200e-01</span>        <span style=\"color: #008080; text-decoration-color: #008080; font-weight: bold\">1</span>         <span style=\"color: #008080; text-decoration-color: #008080; font-weight: bold\">0</span>    API  <span style=\"color: #008080; text-decoration-color: #008080; font-weight: bold\">2024</span>-<span style=\"color: #008080; text-decoration-color: #008080; font-weight: bold\">12</span>-<span style=\"color: #008080; text-decoration-color: #008080; font-weight: bold\">16</span> <span style=\"color: #00ff00; text-decoration-color: #00ff00; font-weight: bold\">17:35:31</span>   \n",
       "<span style=\"color: #008080; text-decoration-color: #008080; font-weight: bold\">9</span>   <span style=\"color: #008080; text-decoration-color: #008080; font-weight: bold\">100.447333</span>  <span style=\"color: #008080; text-decoration-color: #008080; font-weight: bold\">0.000000e+00</span>        <span style=\"color: #008080; text-decoration-color: #008080; font-weight: bold\">1</span>         <span style=\"color: #008080; text-decoration-color: #008080; font-weight: bold\">0</span>    APP  <span style=\"color: #008080; text-decoration-color: #008080; font-weight: bold\">2024</span>-<span style=\"color: #008080; text-decoration-color: #008080; font-weight: bold\">12</span>-<span style=\"color: #008080; text-decoration-color: #008080; font-weight: bold\">16</span> <span style=\"color: #00ff00; text-decoration-color: #00ff00; font-weight: bold\">12:38:54</span>   \n",
       "<span style=\"color: #008080; text-decoration-color: #008080; font-weight: bold\">10</span>  <span style=\"color: #008080; text-decoration-color: #008080; font-weight: bold\">100.645900</span>  <span style=\"color: #008080; text-decoration-color: #008080; font-weight: bold\">2.012910e-01</span>        <span style=\"color: #008080; text-decoration-color: #008080; font-weight: bold\">1</span>         <span style=\"color: #008080; text-decoration-color: #008080; font-weight: bold\">0</span>    APP  <span style=\"color: #008080; text-decoration-color: #008080; font-weight: bold\">2024</span>-<span style=\"color: #008080; text-decoration-color: #008080; font-weight: bold\">12</span>-<span style=\"color: #008080; text-decoration-color: #008080; font-weight: bold\">13</span> <span style=\"color: #00ff00; text-decoration-color: #00ff00; font-weight: bold\">11:28:22</span>   \n",
       "<span style=\"color: #008080; text-decoration-color: #008080; font-weight: bold\">11</span>  <span style=\"color: #008080; text-decoration-color: #008080; font-weight: bold\">100.581371</span>  <span style=\"color: #008080; text-decoration-color: #008080; font-weight: bold\">3.300000e-07</span>        <span style=\"color: #008080; text-decoration-color: #008080; font-weight: bold\">1</span>         <span style=\"color: #008080; text-decoration-color: #008080; font-weight: bold\">0</span>    APP  <span style=\"color: #008080; text-decoration-color: #008080; font-weight: bold\">2024</span>-<span style=\"color: #008080; text-decoration-color: #008080; font-weight: bold\">12</span>-<span style=\"color: #008080; text-decoration-color: #008080; font-weight: bold\">13</span> <span style=\"color: #00ff00; text-decoration-color: #00ff00; font-weight: bold\">11:26:34</span>   \n",
       "<span style=\"color: #008080; text-decoration-color: #008080; font-weight: bold\">12</span>   <span style=\"color: #008080; text-decoration-color: #008080; font-weight: bold\">25.580819</span>  <span style=\"color: #008080; text-decoration-color: #008080; font-weight: bold\">5.116100e-02</span>        <span style=\"color: #008080; text-decoration-color: #008080; font-weight: bold\">1</span>         <span style=\"color: #008080; text-decoration-color: #008080; font-weight: bold\">0</span>    API  <span style=\"color: #008080; text-decoration-color: #008080; font-weight: bold\">2024</span>-<span style=\"color: #008080; text-decoration-color: #008080; font-weight: bold\">10</span>-<span style=\"color: #008080; text-decoration-color: #008080; font-weight: bold\">14</span> <span style=\"color: #00ff00; text-decoration-color: #00ff00; font-weight: bold\">13:46:21</span>   \n",
       "<span style=\"color: #008080; text-decoration-color: #008080; font-weight: bold\">13</span>   <span style=\"color: #008080; text-decoration-color: #008080; font-weight: bold\">25.003397</span>  <span style=\"color: #008080; text-decoration-color: #008080; font-weight: bold\">1.300000e-07</span>        <span style=\"color: #008080; text-decoration-color: #008080; font-weight: bold\">1</span>         <span style=\"color: #008080; text-decoration-color: #008080; font-weight: bold\">0</span>    API  <span style=\"color: #008080; text-decoration-color: #008080; font-weight: bold\">2024</span>-<span style=\"color: #008080; text-decoration-color: #008080; font-weight: bold\">09</span>-<span style=\"color: #008080; text-decoration-color: #008080; font-weight: bold\">28</span> <span style=\"color: #00ff00; text-decoration-color: #00ff00; font-weight: bold\">10:49:16</span>   \n",
       "<span style=\"color: #008080; text-decoration-color: #008080; font-weight: bold\">14</span>  <span style=\"color: #008080; text-decoration-color: #008080; font-weight: bold\">100.202400</span>  <span style=\"color: #008080; text-decoration-color: #008080; font-weight: bold\">2.004040e-01</span>        <span style=\"color: #008080; text-decoration-color: #008080; font-weight: bold\">1</span>         <span style=\"color: #008080; text-decoration-color: #008080; font-weight: bold\">0</span>    APP  <span style=\"color: #008080; text-decoration-color: #008080; font-weight: bold\">2024</span>-<span style=\"color: #008080; text-decoration-color: #008080; font-weight: bold\">09</span>-<span style=\"color: #008080; text-decoration-color: #008080; font-weight: bold\">24</span> <span style=\"color: #00ff00; text-decoration-color: #00ff00; font-weight: bold\">11:08:56</span>   \n",
       "<span style=\"color: #008080; text-decoration-color: #008080; font-weight: bold\">15</span>   <span style=\"color: #008080; text-decoration-color: #008080; font-weight: bold\">98.407330</span>  <span style=\"color: #008080; text-decoration-color: #008080; font-weight: bold\">5.500000e-07</span>        <span style=\"color: #008080; text-decoration-color: #008080; font-weight: bold\">1</span>         <span style=\"color: #008080; text-decoration-color: #008080; font-weight: bold\">0</span>    API  <span style=\"color: #008080; text-decoration-color: #008080; font-weight: bold\">2024</span>-<span style=\"color: #008080; text-decoration-color: #008080; font-weight: bold\">09</span>-<span style=\"color: #008080; text-decoration-color: #008080; font-weight: bold\">23</span> <span style=\"color: #00ff00; text-decoration-color: #00ff00; font-weight: bold\">09:16:39</span>   \n",
       "<span style=\"color: #008080; text-decoration-color: #008080; font-weight: bold\">16</span>   <span style=\"color: #008080; text-decoration-color: #008080; font-weight: bold\">98.665600</span>  <span style=\"color: #008080; text-decoration-color: #008080; font-weight: bold\">1.973300e-01</span>        <span style=\"color: #008080; text-decoration-color: #008080; font-weight: bold\">1</span>         <span style=\"color: #008080; text-decoration-color: #008080; font-weight: bold\">0</span>    API  <span style=\"color: #008080; text-decoration-color: #008080; font-weight: bold\">2024</span>-<span style=\"color: #008080; text-decoration-color: #008080; font-weight: bold\">09</span>-<span style=\"color: #008080; text-decoration-color: #008080; font-weight: bold\">22</span> <span style=\"color: #00ff00; text-decoration-color: #00ff00; font-weight: bold\">19:52:39</span>   \n",
       "<span style=\"color: #008080; text-decoration-color: #008080; font-weight: bold\">17</span>   <span style=\"color: #008080; text-decoration-color: #008080; font-weight: bold\">98.189857</span>  <span style=\"color: #008080; text-decoration-color: #008080; font-weight: bold\">5.600000e-07</span>        <span style=\"color: #008080; text-decoration-color: #008080; font-weight: bold\">0</span>         <span style=\"color: #008080; text-decoration-color: #008080; font-weight: bold\">0</span>    API  <span style=\"color: #008080; text-decoration-color: #008080; font-weight: bold\">2024</span>-<span style=\"color: #008080; text-decoration-color: #008080; font-weight: bold\">09</span>-<span style=\"color: #008080; text-decoration-color: #008080; font-weight: bold\">21</span> <span style=\"color: #00ff00; text-decoration-color: #00ff00; font-weight: bold\">22:00:47</span>   \n",
       "<span style=\"color: #008080; text-decoration-color: #008080; font-weight: bold\">18</span>   <span style=\"color: #008080; text-decoration-color: #008080; font-weight: bold\">98.378065</span>  <span style=\"color: #008080; text-decoration-color: #008080; font-weight: bold\">1.967560e-01</span>        <span style=\"color: #008080; text-decoration-color: #008080; font-weight: bold\">1</span>         <span style=\"color: #008080; text-decoration-color: #008080; font-weight: bold\">0</span>    WEB  <span style=\"color: #008080; text-decoration-color: #008080; font-weight: bold\">2024</span>-<span style=\"color: #008080; text-decoration-color: #008080; font-weight: bold\">09</span>-<span style=\"color: #008080; text-decoration-color: #008080; font-weight: bold\">21</span> <span style=\"color: #00ff00; text-decoration-color: #00ff00; font-weight: bold\">12:09:35</span>   \n",
       "<span style=\"color: #008080; text-decoration-color: #008080; font-weight: bold\">19</span>   <span style=\"color: #008080; text-decoration-color: #008080; font-weight: bold\">97.848561</span>  <span style=\"color: #008080; text-decoration-color: #008080; font-weight: bold\">5.500000e-07</span>        <span style=\"color: #008080; text-decoration-color: #008080; font-weight: bold\">1</span>         <span style=\"color: #008080; text-decoration-color: #008080; font-weight: bold\">0</span>    APP  <span style=\"color: #008080; text-decoration-color: #008080; font-weight: bold\">2024</span>-<span style=\"color: #008080; text-decoration-color: #008080; font-weight: bold\">09</span>-<span style=\"color: #008080; text-decoration-color: #008080; font-weight: bold\">20</span> <span style=\"color: #00ff00; text-decoration-color: #00ff00; font-weight: bold\">21:57:41</span>   \n",
       "<span style=\"color: #008080; text-decoration-color: #008080; font-weight: bold\">20</span>    <span style=\"color: #008080; text-decoration-color: #008080; font-weight: bold\">4.023980</span>  <span style=\"color: #008080; text-decoration-color: #008080; font-weight: bold\">8.047000e-03</span>        <span style=\"color: #008080; text-decoration-color: #008080; font-weight: bold\">1</span>         <span style=\"color: #008080; text-decoration-color: #008080; font-weight: bold\">0</span>    APP  <span style=\"color: #008080; text-decoration-color: #008080; font-weight: bold\">2024</span>-<span style=\"color: #008080; text-decoration-color: #008080; font-weight: bold\">09</span>-<span style=\"color: #008080; text-decoration-color: #008080; font-weight: bold\">19</span> <span style=\"color: #00ff00; text-decoration-color: #00ff00; font-weight: bold\">13:20:59</span>   \n",
       "<span style=\"color: #008080; text-decoration-color: #008080; font-weight: bold\">21</span>    <span style=\"color: #008080; text-decoration-color: #008080; font-weight: bold\">3.997138</span>  <span style=\"color: #008080; text-decoration-color: #008080; font-weight: bold\">2.000000e-08</span>        <span style=\"color: #008080; text-decoration-color: #008080; font-weight: bold\">1</span>         <span style=\"color: #008080; text-decoration-color: #008080; font-weight: bold\">0</span>    APP  <span style=\"color: #008080; text-decoration-color: #008080; font-weight: bold\">2024</span>-<span style=\"color: #008080; text-decoration-color: #008080; font-weight: bold\">09</span>-<span style=\"color: #008080; text-decoration-color: #008080; font-weight: bold\">19</span> <span style=\"color: #00ff00; text-decoration-color: #00ff00; font-weight: bold\">13:19:06</span>   \n",
       "<span style=\"color: #008080; text-decoration-color: #008080; font-weight: bold\">22</span>   <span style=\"color: #008080; text-decoration-color: #008080; font-weight: bold\">24.239826</span>  <span style=\"color: #008080; text-decoration-color: #008080; font-weight: bold\">4.847900e-02</span>        <span style=\"color: #008080; text-decoration-color: #008080; font-weight: bold\">1</span>         <span style=\"color: #008080; text-decoration-color: #008080; font-weight: bold\">0</span>    API  <span style=\"color: #008080; text-decoration-color: #008080; font-weight: bold\">2024</span>-<span style=\"color: #008080; text-decoration-color: #008080; font-weight: bold\">09</span>-<span style=\"color: #008080; text-decoration-color: #008080; font-weight: bold\">19</span> <span style=\"color: #00ff00; text-decoration-color: #00ff00; font-weight: bold\">09:16:39</span>   \n",
       "<span style=\"color: #008080; text-decoration-color: #008080; font-weight: bold\">23</span>   <span style=\"color: #008080; text-decoration-color: #008080; font-weight: bold\">24.245223</span>  <span style=\"color: #008080; text-decoration-color: #008080; font-weight: bold\">1.400000e-07</span>        <span style=\"color: #008080; text-decoration-color: #008080; font-weight: bold\">1</span>         <span style=\"color: #008080; text-decoration-color: #008080; font-weight: bold\">0</span>    API  <span style=\"color: #008080; text-decoration-color: #008080; font-weight: bold\">2024</span>-<span style=\"color: #008080; text-decoration-color: #008080; font-weight: bold\">09</span>-<span style=\"color: #008080; text-decoration-color: #008080; font-weight: bold\">19</span> <span style=\"color: #00ff00; text-decoration-color: #00ff00; font-weight: bold\">09:15:52</span>   \n",
       "<span style=\"color: #008080; text-decoration-color: #008080; font-weight: bold\">24</span>   <span style=\"color: #008080; text-decoration-color: #008080; font-weight: bold\">24.104500</span>  <span style=\"color: #008080; text-decoration-color: #008080; font-weight: bold\">4.820900e-02</span>        <span style=\"color: #008080; text-decoration-color: #008080; font-weight: bold\">1</span>         <span style=\"color: #008080; text-decoration-color: #008080; font-weight: bold\">0</span>    API  <span style=\"color: #008080; text-decoration-color: #008080; font-weight: bold\">2024</span>-<span style=\"color: #008080; text-decoration-color: #008080; font-weight: bold\">09</span>-<span style=\"color: #008080; text-decoration-color: #008080; font-weight: bold\">19</span> <span style=\"color: #00ff00; text-decoration-color: #00ff00; font-weight: bold\">09:01:24</span>   \n",
       "<span style=\"color: #008080; text-decoration-color: #008080; font-weight: bold\">25</span>   <span style=\"color: #008080; text-decoration-color: #008080; font-weight: bold\">24.139011</span>  <span style=\"color: #008080; text-decoration-color: #008080; font-weight: bold\">1.400000e-07</span>        <span style=\"color: #008080; text-decoration-color: #008080; font-weight: bold\">1</span>         <span style=\"color: #008080; text-decoration-color: #008080; font-weight: bold\">0</span>    API  <span style=\"color: #008080; text-decoration-color: #008080; font-weight: bold\">2024</span>-<span style=\"color: #008080; text-decoration-color: #008080; font-weight: bold\">09</span>-<span style=\"color: #008080; text-decoration-color: #008080; font-weight: bold\">19</span> <span style=\"color: #00ff00; text-decoration-color: #00ff00; font-weight: bold\">08:48:28</span>   \n",
       "<span style=\"color: #008080; text-decoration-color: #008080; font-weight: bold\">26</span>   <span style=\"color: #008080; text-decoration-color: #008080; font-weight: bold\">98.163300</span>  <span style=\"color: #008080; text-decoration-color: #008080; font-weight: bold\">1.963250e-01</span>        <span style=\"color: #008080; text-decoration-color: #008080; font-weight: bold\">1</span>         <span style=\"color: #008080; text-decoration-color: #008080; font-weight: bold\">0</span>    APP  <span style=\"color: #008080; text-decoration-color: #008080; font-weight: bold\">2024</span>-<span style=\"color: #008080; text-decoration-color: #008080; font-weight: bold\">09</span>-<span style=\"color: #008080; text-decoration-color: #008080; font-weight: bold\">18</span> <span style=\"color: #00ff00; text-decoration-color: #00ff00; font-weight: bold\">12:55:08</span>   \n",
       "<span style=\"color: #008080; text-decoration-color: #008080; font-weight: bold\">27</span>   <span style=\"color: #008080; text-decoration-color: #008080; font-weight: bold\">23.515185</span>  <span style=\"color: #008080; text-decoration-color: #008080; font-weight: bold\">1.400000e-07</span>        <span style=\"color: #008080; text-decoration-color: #008080; font-weight: bold\">1</span>         <span style=\"color: #008080; text-decoration-color: #008080; font-weight: bold\">0</span>    APP  <span style=\"color: #008080; text-decoration-color: #008080; font-weight: bold\">2024</span>-<span style=\"color: #008080; text-decoration-color: #008080; font-weight: bold\">09</span>-<span style=\"color: #008080; text-decoration-color: #008080; font-weight: bold\">17</span> <span style=\"color: #00ff00; text-decoration-color: #00ff00; font-weight: bold\">16:59:05</span>   \n",
       "<span style=\"color: #008080; text-decoration-color: #008080; font-weight: bold\">28</span>   <span style=\"color: #008080; text-decoration-color: #008080; font-weight: bold\">77.275107</span>  <span style=\"color: #008080; text-decoration-color: #008080; font-weight: bold\">4.500000e-07</span>        <span style=\"color: #008080; text-decoration-color: #008080; font-weight: bold\">1</span>         <span style=\"color: #008080; text-decoration-color: #008080; font-weight: bold\">0</span>    API  <span style=\"color: #008080; text-decoration-color: #008080; font-weight: bold\">2024</span>-<span style=\"color: #008080; text-decoration-color: #008080; font-weight: bold\">09</span>-<span style=\"color: #008080; text-decoration-color: #008080; font-weight: bold\">17</span> <span style=\"color: #00ff00; text-decoration-color: #00ff00; font-weight: bold\">12:54:27</span>   \n",
       "<span style=\"color: #008080; text-decoration-color: #008080; font-weight: bold\">29</span>   <span style=\"color: #008080; text-decoration-color: #008080; font-weight: bold\">77.298725</span>  <span style=\"color: #008080; text-decoration-color: #008080; font-weight: bold\">1.545970e-01</span>        <span style=\"color: #008080; text-decoration-color: #008080; font-weight: bold\">1</span>         <span style=\"color: #008080; text-decoration-color: #008080; font-weight: bold\">0</span>    APP  <span style=\"color: #008080; text-decoration-color: #008080; font-weight: bold\">2024</span>-<span style=\"color: #008080; text-decoration-color: #008080; font-weight: bold\">09</span>-<span style=\"color: #008080; text-decoration-color: #008080; font-weight: bold\">17</span> <span style=\"color: #00ff00; text-decoration-color: #00ff00; font-weight: bold\">12:50:27</span>   \n",
       "<span style=\"color: #008080; text-decoration-color: #008080; font-weight: bold\">30</span>   <span style=\"color: #008080; text-decoration-color: #008080; font-weight: bold\">25.762349</span>  <span style=\"color: #008080; text-decoration-color: #008080; font-weight: bold\">1.500000e-07</span>        <span style=\"color: #008080; text-decoration-color: #008080; font-weight: bold\">1</span>         <span style=\"color: #008080; text-decoration-color: #008080; font-weight: bold\">0</span>    API  <span style=\"color: #008080; text-decoration-color: #008080; font-weight: bold\">2024</span>-<span style=\"color: #008080; text-decoration-color: #008080; font-weight: bold\">09</span>-<span style=\"color: #008080; text-decoration-color: #008080; font-weight: bold\">17</span> <span style=\"color: #00ff00; text-decoration-color: #00ff00; font-weight: bold\">12:34:03</span>   \n",
       "<span style=\"color: #008080; text-decoration-color: #008080; font-weight: bold\">31</span>   <span style=\"color: #008080; text-decoration-color: #008080; font-weight: bold\">25.806847</span>  <span style=\"color: #008080; text-decoration-color: #008080; font-weight: bold\">1.500000e-07</span>        <span style=\"color: #008080; text-decoration-color: #008080; font-weight: bold\">1</span>         <span style=\"color: #008080; text-decoration-color: #008080; font-weight: bold\">0</span>    API  <span style=\"color: #008080; text-decoration-color: #008080; font-weight: bold\">2024</span>-<span style=\"color: #008080; text-decoration-color: #008080; font-weight: bold\">09</span>-<span style=\"color: #008080; text-decoration-color: #008080; font-weight: bold\">17</span> <span style=\"color: #00ff00; text-decoration-color: #00ff00; font-weight: bold\">12:32:58</span>   \n",
       "<span style=\"color: #008080; text-decoration-color: #008080; font-weight: bold\">32</span>   <span style=\"color: #008080; text-decoration-color: #008080; font-weight: bold\">25.816804</span>  <span style=\"color: #008080; text-decoration-color: #008080; font-weight: bold\">1.500000e-07</span>        <span style=\"color: #008080; text-decoration-color: #008080; font-weight: bold\">1</span>         <span style=\"color: #008080; text-decoration-color: #008080; font-weight: bold\">0</span>    API  <span style=\"color: #008080; text-decoration-color: #008080; font-weight: bold\">2024</span>-<span style=\"color: #008080; text-decoration-color: #008080; font-weight: bold\">09</span>-<span style=\"color: #008080; text-decoration-color: #008080; font-weight: bold\">17</span> <span style=\"color: #00ff00; text-decoration-color: #00ff00; font-weight: bold\">12:29:12</span>   \n",
       "<span style=\"color: #008080; text-decoration-color: #008080; font-weight: bold\">33</span>   <span style=\"color: #008080; text-decoration-color: #008080; font-weight: bold\">25.820787</span>  <span style=\"color: #008080; text-decoration-color: #008080; font-weight: bold\">5.164100e-02</span>        <span style=\"color: #008080; text-decoration-color: #008080; font-weight: bold\">1</span>         <span style=\"color: #008080; text-decoration-color: #008080; font-weight: bold\">0</span>    APP  <span style=\"color: #008080; text-decoration-color: #008080; font-weight: bold\">2024</span>-<span style=\"color: #008080; text-decoration-color: #008080; font-weight: bold\">09</span>-<span style=\"color: #008080; text-decoration-color: #008080; font-weight: bold\">17</span> <span style=\"color: #00ff00; text-decoration-color: #00ff00; font-weight: bold\">12:28:20</span>   \n",
       "<span style=\"color: #008080; text-decoration-color: #008080; font-weight: bold\">34</span>   <span style=\"color: #008080; text-decoration-color: #008080; font-weight: bold\">25.260352</span>  <span style=\"color: #008080; text-decoration-color: #008080; font-weight: bold\">5.052000e-02</span>        <span style=\"color: #008080; text-decoration-color: #008080; font-weight: bold\">1</span>         <span style=\"color: #008080; text-decoration-color: #008080; font-weight: bold\">0</span>    API  <span style=\"color: #008080; text-decoration-color: #008080; font-weight: bold\">2024</span>-<span style=\"color: #008080; text-decoration-color: #008080; font-weight: bold\">09</span>-<span style=\"color: #008080; text-decoration-color: #008080; font-weight: bold\">17</span> <span style=\"color: #00ff00; text-decoration-color: #00ff00; font-weight: bold\">11:12:40</span>   \n",
       "<span style=\"color: #008080; text-decoration-color: #008080; font-weight: bold\">35</span>   <span style=\"color: #008080; text-decoration-color: #008080; font-weight: bold\">24.940500</span>  <span style=\"color: #008080; text-decoration-color: #008080; font-weight: bold\">1.500000e-07</span>        <span style=\"color: #008080; text-decoration-color: #008080; font-weight: bold\">1</span>         <span style=\"color: #008080; text-decoration-color: #008080; font-weight: bold\">0</span>    API  <span style=\"color: #008080; text-decoration-color: #008080; font-weight: bold\">2024</span>-<span style=\"color: #008080; text-decoration-color: #008080; font-weight: bold\">09</span>-<span style=\"color: #008080; text-decoration-color: #008080; font-weight: bold\">17</span> <span style=\"color: #00ff00; text-decoration-color: #00ff00; font-weight: bold\">10:56:41</span>   \n",
       "<span style=\"color: #008080; text-decoration-color: #008080; font-weight: bold\">36</span>   <span style=\"color: #008080; text-decoration-color: #008080; font-weight: bold\">24.997078</span>  <span style=\"color: #008080; text-decoration-color: #008080; font-weight: bold\">0.000000e+00</span>        <span style=\"color: #008080; text-decoration-color: #008080; font-weight: bold\">1</span>         <span style=\"color: #008080; text-decoration-color: #008080; font-weight: bold\">0</span>    WEB  <span style=\"color: #008080; text-decoration-color: #008080; font-weight: bold\">2024</span>-<span style=\"color: #008080; text-decoration-color: #008080; font-weight: bold\">09</span>-<span style=\"color: #008080; text-decoration-color: #008080; font-weight: bold\">16</span> <span style=\"color: #00ff00; text-decoration-color: #00ff00; font-weight: bold\">21:24:28</span>   \n",
       "\n",
       "              concluded  \n",
       "<span style=\"color: #008080; text-decoration-color: #008080; font-weight: bold\">0</span>   <span style=\"color: #008080; text-decoration-color: #008080; font-weight: bold\">2025</span>-<span style=\"color: #008080; text-decoration-color: #008080; font-weight: bold\">01</span>-<span style=\"color: #008080; text-decoration-color: #008080; font-weight: bold\">02</span> <span style=\"color: #00ff00; text-decoration-color: #00ff00; font-weight: bold\">12:22:00</span>  \n",
       "<span style=\"color: #008080; text-decoration-color: #008080; font-weight: bold\">1</span>   <span style=\"color: #008080; text-decoration-color: #008080; font-weight: bold\">2025</span>-<span style=\"color: #008080; text-decoration-color: #008080; font-weight: bold\">01</span>-<span style=\"color: #008080; text-decoration-color: #008080; font-weight: bold\">02</span> <span style=\"color: #00ff00; text-decoration-color: #00ff00; font-weight: bold\">12:22:00</span>  \n",
       "<span style=\"color: #008080; text-decoration-color: #008080; font-weight: bold\">2</span>   <span style=\"color: #008080; text-decoration-color: #008080; font-weight: bold\">2024</span>-<span style=\"color: #008080; text-decoration-color: #008080; font-weight: bold\">12</span>-<span style=\"color: #008080; text-decoration-color: #008080; font-weight: bold\">18</span> <span style=\"color: #00ff00; text-decoration-color: #00ff00; font-weight: bold\">16:07:51</span>  \n",
       "<span style=\"color: #008080; text-decoration-color: #008080; font-weight: bold\">3</span>   <span style=\"color: #008080; text-decoration-color: #008080; font-weight: bold\">2024</span>-<span style=\"color: #008080; text-decoration-color: #008080; font-weight: bold\">12</span>-<span style=\"color: #008080; text-decoration-color: #008080; font-weight: bold\">18</span> <span style=\"color: #00ff00; text-decoration-color: #00ff00; font-weight: bold\">15:42:26</span>  \n",
       "<span style=\"color: #008080; text-decoration-color: #008080; font-weight: bold\">4</span>   <span style=\"color: #008080; text-decoration-color: #008080; font-weight: bold\">2024</span>-<span style=\"color: #008080; text-decoration-color: #008080; font-weight: bold\">12</span>-<span style=\"color: #008080; text-decoration-color: #008080; font-weight: bold\">17</span> <span style=\"color: #00ff00; text-decoration-color: #00ff00; font-weight: bold\">22:42:58</span>  \n",
       "<span style=\"color: #008080; text-decoration-color: #008080; font-weight: bold\">5</span>   <span style=\"color: #008080; text-decoration-color: #008080; font-weight: bold\">2024</span>-<span style=\"color: #008080; text-decoration-color: #008080; font-weight: bold\">12</span>-<span style=\"color: #008080; text-decoration-color: #008080; font-weight: bold\">17</span> <span style=\"color: #00ff00; text-decoration-color: #00ff00; font-weight: bold\">12:17:48</span>  \n",
       "<span style=\"color: #008080; text-decoration-color: #008080; font-weight: bold\">6</span>   <span style=\"color: #008080; text-decoration-color: #008080; font-weight: bold\">2024</span>-<span style=\"color: #008080; text-decoration-color: #008080; font-weight: bold\">12</span>-<span style=\"color: #008080; text-decoration-color: #008080; font-weight: bold\">17</span> <span style=\"color: #00ff00; text-decoration-color: #00ff00; font-weight: bold\">12:15:39</span>  \n",
       "<span style=\"color: #008080; text-decoration-color: #008080; font-weight: bold\">7</span>   <span style=\"color: #008080; text-decoration-color: #008080; font-weight: bold\">2024</span>-<span style=\"color: #008080; text-decoration-color: #008080; font-weight: bold\">12</span>-<span style=\"color: #008080; text-decoration-color: #008080; font-weight: bold\">17</span> <span style=\"color: #00ff00; text-decoration-color: #00ff00; font-weight: bold\">12:14:05</span>  \n",
       "<span style=\"color: #008080; text-decoration-color: #008080; font-weight: bold\">8</span>   <span style=\"color: #008080; text-decoration-color: #008080; font-weight: bold\">2024</span>-<span style=\"color: #008080; text-decoration-color: #008080; font-weight: bold\">12</span>-<span style=\"color: #008080; text-decoration-color: #008080; font-weight: bold\">16</span> <span style=\"color: #00ff00; text-decoration-color: #00ff00; font-weight: bold\">17:35:31</span>  \n",
       "<span style=\"color: #008080; text-decoration-color: #008080; font-weight: bold\">9</span>   <span style=\"color: #008080; text-decoration-color: #008080; font-weight: bold\">2024</span>-<span style=\"color: #008080; text-decoration-color: #008080; font-weight: bold\">12</span>-<span style=\"color: #008080; text-decoration-color: #008080; font-weight: bold\">16</span> <span style=\"color: #00ff00; text-decoration-color: #00ff00; font-weight: bold\">12:38:54</span>  \n",
       "<span style=\"color: #008080; text-decoration-color: #008080; font-weight: bold\">10</span>  <span style=\"color: #008080; text-decoration-color: #008080; font-weight: bold\">2024</span>-<span style=\"color: #008080; text-decoration-color: #008080; font-weight: bold\">12</span>-<span style=\"color: #008080; text-decoration-color: #008080; font-weight: bold\">13</span> <span style=\"color: #00ff00; text-decoration-color: #00ff00; font-weight: bold\">11:39:25</span>  \n",
       "<span style=\"color: #008080; text-decoration-color: #008080; font-weight: bold\">11</span>  <span style=\"color: #008080; text-decoration-color: #008080; font-weight: bold\">2024</span>-<span style=\"color: #008080; text-decoration-color: #008080; font-weight: bold\">12</span>-<span style=\"color: #008080; text-decoration-color: #008080; font-weight: bold\">13</span> <span style=\"color: #00ff00; text-decoration-color: #00ff00; font-weight: bold\">11:26:34</span>  \n",
       "<span style=\"color: #008080; text-decoration-color: #008080; font-weight: bold\">12</span>  <span style=\"color: #008080; text-decoration-color: #008080; font-weight: bold\">2024</span>-<span style=\"color: #008080; text-decoration-color: #008080; font-weight: bold\">10</span>-<span style=\"color: #008080; text-decoration-color: #008080; font-weight: bold\">14</span> <span style=\"color: #00ff00; text-decoration-color: #00ff00; font-weight: bold\">13:46:33</span>  \n",
       "<span style=\"color: #008080; text-decoration-color: #008080; font-weight: bold\">13</span>  <span style=\"color: #008080; text-decoration-color: #008080; font-weight: bold\">2024</span>-<span style=\"color: #008080; text-decoration-color: #008080; font-weight: bold\">09</span>-<span style=\"color: #008080; text-decoration-color: #008080; font-weight: bold\">28</span> <span style=\"color: #00ff00; text-decoration-color: #00ff00; font-weight: bold\">10:49:16</span>  \n",
       "<span style=\"color: #008080; text-decoration-color: #008080; font-weight: bold\">14</span>  <span style=\"color: #008080; text-decoration-color: #008080; font-weight: bold\">2024</span>-<span style=\"color: #008080; text-decoration-color: #008080; font-weight: bold\">09</span>-<span style=\"color: #008080; text-decoration-color: #008080; font-weight: bold\">27</span> <span style=\"color: #00ff00; text-decoration-color: #00ff00; font-weight: bold\">11:10:36</span>  \n",
       "<span style=\"color: #008080; text-decoration-color: #008080; font-weight: bold\">15</span>  <span style=\"color: #008080; text-decoration-color: #008080; font-weight: bold\">2024</span>-<span style=\"color: #008080; text-decoration-color: #008080; font-weight: bold\">09</span>-<span style=\"color: #008080; text-decoration-color: #008080; font-weight: bold\">23</span> <span style=\"color: #00ff00; text-decoration-color: #00ff00; font-weight: bold\">09:16:40</span>  \n",
       "<span style=\"color: #008080; text-decoration-color: #008080; font-weight: bold\">16</span>  <span style=\"color: #008080; text-decoration-color: #008080; font-weight: bold\">2024</span>-<span style=\"color: #008080; text-decoration-color: #008080; font-weight: bold\">09</span>-<span style=\"color: #008080; text-decoration-color: #008080; font-weight: bold\">22</span> <span style=\"color: #00ff00; text-decoration-color: #00ff00; font-weight: bold\">19:53:38</span>  \n",
       "<span style=\"color: #008080; text-decoration-color: #008080; font-weight: bold\">17</span>  <span style=\"color: #008080; text-decoration-color: #008080; font-weight: bold\">2024</span>-<span style=\"color: #008080; text-decoration-color: #008080; font-weight: bold\">09</span>-<span style=\"color: #008080; text-decoration-color: #008080; font-weight: bold\">21</span> <span style=\"color: #00ff00; text-decoration-color: #00ff00; font-weight: bold\">22:00:47</span>  \n",
       "<span style=\"color: #008080; text-decoration-color: #008080; font-weight: bold\">18</span>  <span style=\"color: #008080; text-decoration-color: #008080; font-weight: bold\">2024</span>-<span style=\"color: #008080; text-decoration-color: #008080; font-weight: bold\">09</span>-<span style=\"color: #008080; text-decoration-color: #008080; font-weight: bold\">21</span> <span style=\"color: #00ff00; text-decoration-color: #00ff00; font-weight: bold\">12:28:09</span>  \n",
       "<span style=\"color: #008080; text-decoration-color: #008080; font-weight: bold\">19</span>  <span style=\"color: #008080; text-decoration-color: #008080; font-weight: bold\">2024</span>-<span style=\"color: #008080; text-decoration-color: #008080; font-weight: bold\">09</span>-<span style=\"color: #008080; text-decoration-color: #008080; font-weight: bold\">20</span> <span style=\"color: #00ff00; text-decoration-color: #00ff00; font-weight: bold\">21:57:49</span>  \n",
       "<span style=\"color: #008080; text-decoration-color: #008080; font-weight: bold\">20</span>  <span style=\"color: #008080; text-decoration-color: #008080; font-weight: bold\">2024</span>-<span style=\"color: #008080; text-decoration-color: #008080; font-weight: bold\">09</span>-<span style=\"color: #008080; text-decoration-color: #008080; font-weight: bold\">19</span> <span style=\"color: #00ff00; text-decoration-color: #00ff00; font-weight: bold\">14:02:32</span>  \n",
       "<span style=\"color: #008080; text-decoration-color: #008080; font-weight: bold\">21</span>  <span style=\"color: #008080; text-decoration-color: #008080; font-weight: bold\">2024</span>-<span style=\"color: #008080; text-decoration-color: #008080; font-weight: bold\">09</span>-<span style=\"color: #008080; text-decoration-color: #008080; font-weight: bold\">19</span> <span style=\"color: #00ff00; text-decoration-color: #00ff00; font-weight: bold\">13:19:06</span>  \n",
       "<span style=\"color: #008080; text-decoration-color: #008080; font-weight: bold\">22</span>  <span style=\"color: #008080; text-decoration-color: #008080; font-weight: bold\">2024</span>-<span style=\"color: #008080; text-decoration-color: #008080; font-weight: bold\">09</span>-<span style=\"color: #008080; text-decoration-color: #008080; font-weight: bold\">19</span> <span style=\"color: #00ff00; text-decoration-color: #00ff00; font-weight: bold\">09:16:45</span>  \n",
       "<span style=\"color: #008080; text-decoration-color: #008080; font-weight: bold\">23</span>  <span style=\"color: #008080; text-decoration-color: #008080; font-weight: bold\">2024</span>-<span style=\"color: #008080; text-decoration-color: #008080; font-weight: bold\">09</span>-<span style=\"color: #008080; text-decoration-color: #008080; font-weight: bold\">19</span> <span style=\"color: #00ff00; text-decoration-color: #00ff00; font-weight: bold\">09:16:01</span>  \n",
       "<span style=\"color: #008080; text-decoration-color: #008080; font-weight: bold\">24</span>  <span style=\"color: #008080; text-decoration-color: #008080; font-weight: bold\">2024</span>-<span style=\"color: #008080; text-decoration-color: #008080; font-weight: bold\">09</span>-<span style=\"color: #008080; text-decoration-color: #008080; font-weight: bold\">19</span> <span style=\"color: #00ff00; text-decoration-color: #00ff00; font-weight: bold\">09:01:43</span>  \n",
       "<span style=\"color: #008080; text-decoration-color: #008080; font-weight: bold\">25</span>  <span style=\"color: #008080; text-decoration-color: #008080; font-weight: bold\">2024</span>-<span style=\"color: #008080; text-decoration-color: #008080; font-weight: bold\">09</span>-<span style=\"color: #008080; text-decoration-color: #008080; font-weight: bold\">19</span> <span style=\"color: #00ff00; text-decoration-color: #00ff00; font-weight: bold\">08:48:28</span>  \n",
       "<span style=\"color: #008080; text-decoration-color: #008080; font-weight: bold\">26</span>  <span style=\"color: #008080; text-decoration-color: #008080; font-weight: bold\">2024</span>-<span style=\"color: #008080; text-decoration-color: #008080; font-weight: bold\">09</span>-<span style=\"color: #008080; text-decoration-color: #008080; font-weight: bold\">18</span> <span style=\"color: #00ff00; text-decoration-color: #00ff00; font-weight: bold\">12:55:43</span>  \n",
       "<span style=\"color: #008080; text-decoration-color: #008080; font-weight: bold\">27</span>  <span style=\"color: #008080; text-decoration-color: #008080; font-weight: bold\">2024</span>-<span style=\"color: #008080; text-decoration-color: #008080; font-weight: bold\">09</span>-<span style=\"color: #008080; text-decoration-color: #008080; font-weight: bold\">17</span> <span style=\"color: #00ff00; text-decoration-color: #00ff00; font-weight: bold\">16:59:35</span>  \n",
       "<span style=\"color: #008080; text-decoration-color: #008080; font-weight: bold\">28</span>  <span style=\"color: #008080; text-decoration-color: #008080; font-weight: bold\">2024</span>-<span style=\"color: #008080; text-decoration-color: #008080; font-weight: bold\">09</span>-<span style=\"color: #008080; text-decoration-color: #008080; font-weight: bold\">17</span> <span style=\"color: #00ff00; text-decoration-color: #00ff00; font-weight: bold\">12:54:44</span>  \n",
       "<span style=\"color: #008080; text-decoration-color: #008080; font-weight: bold\">29</span>  <span style=\"color: #008080; text-decoration-color: #008080; font-weight: bold\">2024</span>-<span style=\"color: #008080; text-decoration-color: #008080; font-weight: bold\">09</span>-<span style=\"color: #008080; text-decoration-color: #008080; font-weight: bold\">17</span> <span style=\"color: #00ff00; text-decoration-color: #00ff00; font-weight: bold\">12:52:55</span>  \n",
       "<span style=\"color: #008080; text-decoration-color: #008080; font-weight: bold\">30</span>  <span style=\"color: #008080; text-decoration-color: #008080; font-weight: bold\">2024</span>-<span style=\"color: #008080; text-decoration-color: #008080; font-weight: bold\">09</span>-<span style=\"color: #008080; text-decoration-color: #008080; font-weight: bold\">17</span> <span style=\"color: #00ff00; text-decoration-color: #00ff00; font-weight: bold\">12:34:03</span>  \n",
       "<span style=\"color: #008080; text-decoration-color: #008080; font-weight: bold\">31</span>  <span style=\"color: #008080; text-decoration-color: #008080; font-weight: bold\">2024</span>-<span style=\"color: #008080; text-decoration-color: #008080; font-weight: bold\">09</span>-<span style=\"color: #008080; text-decoration-color: #008080; font-weight: bold\">17</span> <span style=\"color: #00ff00; text-decoration-color: #00ff00; font-weight: bold\">12:32:59</span>  \n",
       "<span style=\"color: #008080; text-decoration-color: #008080; font-weight: bold\">32</span>  <span style=\"color: #008080; text-decoration-color: #008080; font-weight: bold\">2024</span>-<span style=\"color: #008080; text-decoration-color: #008080; font-weight: bold\">09</span>-<span style=\"color: #008080; text-decoration-color: #008080; font-weight: bold\">17</span> <span style=\"color: #00ff00; text-decoration-color: #00ff00; font-weight: bold\">12:32:32</span>  \n",
       "<span style=\"color: #008080; text-decoration-color: #008080; font-weight: bold\">33</span>  <span style=\"color: #008080; text-decoration-color: #008080; font-weight: bold\">2024</span>-<span style=\"color: #008080; text-decoration-color: #008080; font-weight: bold\">09</span>-<span style=\"color: #008080; text-decoration-color: #008080; font-weight: bold\">17</span> <span style=\"color: #00ff00; text-decoration-color: #00ff00; font-weight: bold\">12:28:20</span>  \n",
       "<span style=\"color: #008080; text-decoration-color: #008080; font-weight: bold\">34</span>  <span style=\"color: #008080; text-decoration-color: #008080; font-weight: bold\">2024</span>-<span style=\"color: #008080; text-decoration-color: #008080; font-weight: bold\">09</span>-<span style=\"color: #008080; text-decoration-color: #008080; font-weight: bold\">17</span> <span style=\"color: #00ff00; text-decoration-color: #00ff00; font-weight: bold\">11:12:45</span>  \n",
       "<span style=\"color: #008080; text-decoration-color: #008080; font-weight: bold\">35</span>  <span style=\"color: #008080; text-decoration-color: #008080; font-weight: bold\">2024</span>-<span style=\"color: #008080; text-decoration-color: #008080; font-weight: bold\">09</span>-<span style=\"color: #008080; text-decoration-color: #008080; font-weight: bold\">17</span> <span style=\"color: #00ff00; text-decoration-color: #00ff00; font-weight: bold\">10:57:26</span>  \n",
       "<span style=\"color: #008080; text-decoration-color: #008080; font-weight: bold\">36</span>  <span style=\"color: #008080; text-decoration-color: #008080; font-weight: bold\">2024</span>-<span style=\"color: #008080; text-decoration-color: #008080; font-weight: bold\">09</span>-<span style=\"color: #008080; text-decoration-color: #008080; font-weight: bold\">16</span> <span style=\"color: #00ff00; text-decoration-color: #00ff00; font-weight: bold\">21:24:28</span>  \n",
       "</pre>\n"
      ],
      "text/plain": [
       "            id   market  type  status    amount          price  exec_amount  \\\n",
       "\u001b[1;36m0\u001b[0m   \u001b[1;36m1520875822\u001b[0m  BTC-BRL   BUY  FILLED  \u001b[1;36m0.000007\u001b[0m  \u001b[1;36m601200.000000\u001b[0m     \u001b[1;36m0.000007\u001b[0m   \n",
       "\u001b[1;36m1\u001b[0m   \u001b[1;36m1520875579\u001b[0m  BTC-BRL   BUY  FILLED  \u001b[1;36m0.000009\u001b[0m  \u001b[1;36m601200.000000\u001b[0m     \u001b[1;36m0.000009\u001b[0m   \n",
       "\u001b[1;36m2\u001b[0m   \u001b[1;36m1504227287\u001b[0m  BTC-BRL   BUY  FILLED  \u001b[1;36m0.000010\u001b[0m  \u001b[1;36m648107.029703\u001b[0m     \u001b[1;36m0.000010\u001b[0m   \n",
       "\u001b[1;36m3\u001b[0m   \u001b[1;36m1504205222\u001b[0m  BTC-BRL   BUY  FILLED  \u001b[1;36m0.000013\u001b[0m  \u001b[1;36m650346.979332\u001b[0m     \u001b[1;36m0.000013\u001b[0m   \n",
       "\u001b[1;36m4\u001b[0m   \u001b[1;36m1503401599\u001b[0m  BTC-BRL   BUY  FILLED  \u001b[1;36m0.000016\u001b[0m  \u001b[1;36m651822.016592\u001b[0m     \u001b[1;36m0.000016\u001b[0m   \n",
       "\u001b[1;36m5\u001b[0m   \u001b[1;36m1502873638\u001b[0m  BTC-BRL   BUY  FILLED  \u001b[1;36m0.000019\u001b[0m  \u001b[1;36m660740.000000\u001b[0m     \u001b[1;36m0.000019\u001b[0m   \n",
       "\u001b[1;36m6\u001b[0m   \u001b[1;36m1502871460\u001b[0m  BTC-BRL   BUY  FILLED  \u001b[1;36m0.000024\u001b[0m  \u001b[1;36m662639.004149\u001b[0m     \u001b[1;36m0.000024\u001b[0m   \n",
       "\u001b[1;36m7\u001b[0m   \u001b[1;36m1502870034\u001b[0m  BTC-BRL   BUY  FILLED  \u001b[1;36m0.000030\u001b[0m  \u001b[1;36m663701.995344\u001b[0m     \u001b[1;36m0.000030\u001b[0m   \n",
       "\u001b[1;36m8\u001b[0m   \u001b[1;36m1501991376\u001b[0m  BTC-BRL  SELL  FILLED  \u001b[1;36m0.000154\u001b[0m  \u001b[1;36m649247.000779\u001b[0m     \u001b[1;36m0.000154\u001b[0m   \n",
       "\u001b[1;36m9\u001b[0m   \u001b[1;36m1501767741\u001b[0m  BTC-BRL   BUY  FILLED  \u001b[1;36m0.000154\u001b[0m  \u001b[1;36m652086.036095\u001b[0m     \u001b[1;36m0.000154\u001b[0m   \n",
       "\u001b[1;36m10\u001b[0m  \u001b[1;36m1498589676\u001b[0m  BTC-BRL  SELL  FILLED  \u001b[1;36m0.000165\u001b[0m  \u001b[1;36m608500.000000\u001b[0m     \u001b[1;36m0.000165\u001b[0m   \n",
       "\u001b[1;36m11\u001b[0m  \u001b[1;36m1498588089\u001b[0m  BTC-BRL   BUY  FILLED  \u001b[1;36m0.000166\u001b[0m  \u001b[1;36m606898.998371\u001b[0m     \u001b[1;36m0.000166\u001b[0m   \n",
       "\u001b[1;36m12\u001b[0m  \u001b[1;36m1432828055\u001b[0m  BTC-BRL  SELL  FILLED  \u001b[1;36m0.000070\u001b[0m  \u001b[1;36m367698.993819\u001b[0m     \u001b[1;36m0.000070\u001b[0m   \n",
       "\u001b[1;36m13\u001b[0m  \u001b[1;36m1417883177\u001b[0m  BTC-BRL   BUY  FILLED  \u001b[1;36m0.000070\u001b[0m  \u001b[1;36m358728.794835\u001b[0m     \u001b[1;36m0.000070\u001b[0m   \n",
       "\u001b[1;36m14\u001b[0m  \u001b[1;36m1413970020\u001b[0m  BTC-BRL  SELL  FILLED  \u001b[1;36m0.000278\u001b[0m  \u001b[1;36m360000.000000\u001b[0m     \u001b[1;36m0.000278\u001b[0m   \n",
       "\u001b[1;36m15\u001b[0m  \u001b[1;36m1412867104\u001b[0m  BTC-BRL   BUY  FILLED  \u001b[1;36m0.000278\u001b[0m  \u001b[1;36m353500.000000\u001b[0m     \u001b[1;36m0.000278\u001b[0m   \n",
       "\u001b[1;36m16\u001b[0m  \u001b[1;36m1412311243\u001b[0m  BTC-BRL  SELL  FILLED  \u001b[1;36m0.000280\u001b[0m  \u001b[1;36m352000.000000\u001b[0m     \u001b[1;36m0.000280\u001b[0m   \n",
       "\u001b[1;36m17\u001b[0m  \u001b[1;36m1411474267\u001b[0m  BTC-BRL   BUY  FILLED  \u001b[1;36m0.000281\u001b[0m  \u001b[1;36m348983.000427\u001b[0m     \u001b[1;36m0.000281\u001b[0m   \n",
       "\u001b[1;36m18\u001b[0m  \u001b[1;36m1411095452\u001b[0m  BTC-BRL  SELL  FILLED  \u001b[1;36m0.000282\u001b[0m  \u001b[1;36m348500.000000\u001b[0m     \u001b[1;36m0.000282\u001b[0m   \n",
       "\u001b[1;36m19\u001b[0m  \u001b[1;36m1410548290\u001b[0m  BTC-BRL   BUY  FILLED  \u001b[1;36m0.000283\u001b[0m  \u001b[1;36m345937.991868\u001b[0m     \u001b[1;36m0.000283\u001b[0m   \n",
       "\u001b[1;36m20\u001b[0m  \u001b[1;36m1409138168\u001b[0m  BTC-BRL  SELL  FILLED  \u001b[1;36m0.000012\u001b[0m  \u001b[1;36m346000.000000\u001b[0m     \u001b[1;36m0.000012\u001b[0m   \n",
       "\u001b[1;36m21\u001b[0m  \u001b[1;36m1409136629\u001b[0m  BTC-BRL   BUY  FILLED  \u001b[1;36m0.000012\u001b[0m  \u001b[1;36m343101.974249\u001b[0m     \u001b[1;36m0.000012\u001b[0m   \n",
       "\u001b[1;36m22\u001b[0m  \u001b[1;36m1408949034\u001b[0m  BTC-BRL  SELL  FILLED  \u001b[1;36m0.000071\u001b[0m  \u001b[1;36m341406.000000\u001b[0m     \u001b[1;36m0.000071\u001b[0m   \n",
       "\u001b[1;36m23\u001b[0m  \u001b[1;36m1408948406\u001b[0m  BTC-BRL   BUY  FILLED  \u001b[1;36m0.000071\u001b[0m  \u001b[1;36m340809.994377\u001b[0m     \u001b[1;36m0.000071\u001b[0m   \n",
       "\u001b[1;36m24\u001b[0m  \u001b[1;36m1408942491\u001b[0m  BTC-BRL  SELL  FILLED  \u001b[1;36m0.000071\u001b[0m  \u001b[1;36m339500.000000\u001b[0m     \u001b[1;36m0.000071\u001b[0m   \n",
       "\u001b[1;36m25\u001b[0m  \u001b[1;36m1408933303\u001b[0m  BTC-BRL   BUY  FILLED  \u001b[1;36m0.000071\u001b[0m  \u001b[1;36m339316.994658\u001b[0m     \u001b[1;36m0.000071\u001b[0m   \n",
       "\u001b[1;36m26\u001b[0m  \u001b[1;36m1408074126\u001b[0m  BTC-BRL  SELL  FILLED  \u001b[1;36m0.000300\u001b[0m  \u001b[1;36m327352.852903\u001b[0m     \u001b[1;36m0.000300\u001b[0m   \n",
       "\u001b[1;36m27\u001b[0m  \u001b[1;36m1407326572\u001b[0m  BTC-BRL   BUY  FILLED  \u001b[1;36m0.000071\u001b[0m  \u001b[1;36m330548.003936\u001b[0m     \u001b[1;36m0.000071\u001b[0m   \n",
       "\u001b[1;36m28\u001b[0m  \u001b[1;36m1407146150\u001b[0m  BTC-BRL   BUY  FILLED  \u001b[1;36m0.000229\u001b[0m  \u001b[1;36m336975.000000\u001b[0m     \u001b[1;36m0.000229\u001b[0m   \n",
       "\u001b[1;36m29\u001b[0m  \u001b[1;36m1407143157\u001b[0m  BTC-BRL  SELL  FILLED  \u001b[1;36m0.000229\u001b[0m  \u001b[1;36m337077.991453\u001b[0m     \u001b[1;36m0.000229\u001b[0m   \n",
       "\u001b[1;36m30\u001b[0m  \u001b[1;36m1407130874\u001b[0m  BTC-BRL   BUY  FILLED  \u001b[1;36m0.000077\u001b[0m  \u001b[1;36m336367.006137\u001b[0m     \u001b[1;36m0.000077\u001b[0m   \n",
       "\u001b[1;36m31\u001b[0m  \u001b[1;36m1407130046\u001b[0m  BTC-BRL   BUY  FILLED  \u001b[1;36m0.000077\u001b[0m  \u001b[1;36m336947.995822\u001b[0m     \u001b[1;36m0.000077\u001b[0m   \n",
       "\u001b[1;36m32\u001b[0m  \u001b[1;36m1407127071\u001b[0m  BTC-BRL   BUY  FILLED  \u001b[1;36m0.000077\u001b[0m  \u001b[1;36m337077.999739\u001b[0m     \u001b[1;36m0.000077\u001b[0m   \n",
       "\u001b[1;36m33\u001b[0m  \u001b[1;36m1407126428\u001b[0m  BTC-BRL  SELL  FILLED  \u001b[1;36m0.000077\u001b[0m  \u001b[1;36m337130.003917\u001b[0m     \u001b[1;36m0.000077\u001b[0m   \n",
       "\u001b[1;36m34\u001b[0m  \u001b[1;36m1407068299\u001b[0m  BTC-BRL  SELL  FILLED  \u001b[1;36m0.000077\u001b[0m  \u001b[1;36m329167.995830\u001b[0m     \u001b[1;36m0.000077\u001b[0m   \n",
       "\u001b[1;36m35\u001b[0m  \u001b[1;36m1407056031\u001b[0m  BTC-BRL   BUY  FILLED  \u001b[1;36m0.000077\u001b[0m  \u001b[1;36m325000.000000\u001b[0m     \u001b[1;36m0.000077\u001b[0m   \n",
       "\u001b[1;36m36\u001b[0m  \u001b[1;36m1406519176\u001b[0m  BTC-BRL   BUY  FILLED  \u001b[1;36m0.000077\u001b[0m  \u001b[1;36m325737.268700\u001b[0m     \u001b[1;36m0.000077\u001b[0m   \n",
       "\n",
       "          cost           fee  limited  canceled origin           time_stamp  \\\n",
       "\u001b[1;36m0\u001b[0m     \u001b[1;36m4.184352\u001b[0m  \u001b[1;36m1.000000e-08\u001b[0m        \u001b[1;36m1\u001b[0m         \u001b[1;36m0\u001b[0m    API  \u001b[1;36m2025\u001b[0m-\u001b[1;36m01\u001b[0m-\u001b[1;36m02\u001b[0m \u001b[1;92m12:21:51\u001b[0m   \n",
       "\u001b[1;36m1\u001b[0m     \u001b[1;36m5.236452\u001b[0m  \u001b[1;36m1.000000e-08\u001b[0m        \u001b[1;36m1\u001b[0m         \u001b[1;36m0\u001b[0m    API  \u001b[1;36m2025\u001b[0m-\u001b[1;36m01\u001b[0m-\u001b[1;36m02\u001b[0m \u001b[1;92m12:21:35\u001b[0m   \n",
       "\u001b[1;36m2\u001b[0m     \u001b[1;36m6.545881\u001b[0m  \u001b[1;36m2.000000e-08\u001b[0m        \u001b[1;36m1\u001b[0m         \u001b[1;36m0\u001b[0m    API  \u001b[1;36m2024\u001b[0m-\u001b[1;36m12\u001b[0m-\u001b[1;36m18\u001b[0m \u001b[1;92m16:07:46\u001b[0m   \n",
       "\u001b[1;36m3\u001b[0m     \u001b[1;36m8.181365\u001b[0m  \u001b[1;36m2.000000e-08\u001b[0m        \u001b[1;36m1\u001b[0m         \u001b[1;36m0\u001b[0m    API  \u001b[1;36m2024\u001b[0m-\u001b[1;36m12\u001b[0m-\u001b[1;36m18\u001b[0m \u001b[1;92m15:42:06\u001b[0m   \n",
       "\u001b[1;36m4\u001b[0m    \u001b[1;36m10.214051\u001b[0m  \u001b[1;36m3.000000e-08\u001b[0m        \u001b[1;36m1\u001b[0m         \u001b[1;36m0\u001b[0m    API  \u001b[1;36m2024\u001b[0m-\u001b[1;36m12\u001b[0m-\u001b[1;36m17\u001b[0m \u001b[1;92m22:42:58\u001b[0m   \n",
       "\u001b[1;36m5\u001b[0m    \u001b[1;36m12.752282\u001b[0m  \u001b[1;36m3.000000e-08\u001b[0m        \u001b[1;36m1\u001b[0m         \u001b[1;36m0\u001b[0m    API  \u001b[1;36m2024\u001b[0m-\u001b[1;36m12\u001b[0m-\u001b[1;36m17\u001b[0m \u001b[1;92m12:17:48\u001b[0m   \n",
       "\u001b[1;36m6\u001b[0m    \u001b[1;36m15.969600\u001b[0m  \u001b[1;36m4.000000e-08\u001b[0m        \u001b[1;36m1\u001b[0m         \u001b[1;36m0\u001b[0m    API  \u001b[1;36m2024\u001b[0m-\u001b[1;36m12\u001b[0m-\u001b[1;36m17\u001b[0m \u001b[1;92m12:15:39\u001b[0m   \n",
       "\u001b[1;36m7\u001b[0m    \u001b[1;36m19.957519\u001b[0m  \u001b[1;36m6.000000e-08\u001b[0m        \u001b[1;36m1\u001b[0m         \u001b[1;36m0\u001b[0m    API  \u001b[1;36m2024\u001b[0m-\u001b[1;36m12\u001b[0m-\u001b[1;36m17\u001b[0m \u001b[1;92m12:14:04\u001b[0m   \n",
       "\u001b[1;36m8\u001b[0m   \u001b[1;36m100.010008\u001b[0m  \u001b[1;36m2.000200e-01\u001b[0m        \u001b[1;36m1\u001b[0m         \u001b[1;36m0\u001b[0m    API  \u001b[1;36m2024\u001b[0m-\u001b[1;36m12\u001b[0m-\u001b[1;36m16\u001b[0m \u001b[1;92m17:35:31\u001b[0m   \n",
       "\u001b[1;36m9\u001b[0m   \u001b[1;36m100.447333\u001b[0m  \u001b[1;36m0.000000e+00\u001b[0m        \u001b[1;36m1\u001b[0m         \u001b[1;36m0\u001b[0m    APP  \u001b[1;36m2024\u001b[0m-\u001b[1;36m12\u001b[0m-\u001b[1;36m16\u001b[0m \u001b[1;92m12:38:54\u001b[0m   \n",
       "\u001b[1;36m10\u001b[0m  \u001b[1;36m100.645900\u001b[0m  \u001b[1;36m2.012910e-01\u001b[0m        \u001b[1;36m1\u001b[0m         \u001b[1;36m0\u001b[0m    APP  \u001b[1;36m2024\u001b[0m-\u001b[1;36m12\u001b[0m-\u001b[1;36m13\u001b[0m \u001b[1;92m11:28:22\u001b[0m   \n",
       "\u001b[1;36m11\u001b[0m  \u001b[1;36m100.581371\u001b[0m  \u001b[1;36m3.300000e-07\u001b[0m        \u001b[1;36m1\u001b[0m         \u001b[1;36m0\u001b[0m    APP  \u001b[1;36m2024\u001b[0m-\u001b[1;36m12\u001b[0m-\u001b[1;36m13\u001b[0m \u001b[1;92m11:26:34\u001b[0m   \n",
       "\u001b[1;36m12\u001b[0m   \u001b[1;36m25.580819\u001b[0m  \u001b[1;36m5.116100e-02\u001b[0m        \u001b[1;36m1\u001b[0m         \u001b[1;36m0\u001b[0m    API  \u001b[1;36m2024\u001b[0m-\u001b[1;36m10\u001b[0m-\u001b[1;36m14\u001b[0m \u001b[1;92m13:46:21\u001b[0m   \n",
       "\u001b[1;36m13\u001b[0m   \u001b[1;36m25.003397\u001b[0m  \u001b[1;36m1.300000e-07\u001b[0m        \u001b[1;36m1\u001b[0m         \u001b[1;36m0\u001b[0m    API  \u001b[1;36m2024\u001b[0m-\u001b[1;36m09\u001b[0m-\u001b[1;36m28\u001b[0m \u001b[1;92m10:49:16\u001b[0m   \n",
       "\u001b[1;36m14\u001b[0m  \u001b[1;36m100.202400\u001b[0m  \u001b[1;36m2.004040e-01\u001b[0m        \u001b[1;36m1\u001b[0m         \u001b[1;36m0\u001b[0m    APP  \u001b[1;36m2024\u001b[0m-\u001b[1;36m09\u001b[0m-\u001b[1;36m24\u001b[0m \u001b[1;92m11:08:56\u001b[0m   \n",
       "\u001b[1;36m15\u001b[0m   \u001b[1;36m98.407330\u001b[0m  \u001b[1;36m5.500000e-07\u001b[0m        \u001b[1;36m1\u001b[0m         \u001b[1;36m0\u001b[0m    API  \u001b[1;36m2024\u001b[0m-\u001b[1;36m09\u001b[0m-\u001b[1;36m23\u001b[0m \u001b[1;92m09:16:39\u001b[0m   \n",
       "\u001b[1;36m16\u001b[0m   \u001b[1;36m98.665600\u001b[0m  \u001b[1;36m1.973300e-01\u001b[0m        \u001b[1;36m1\u001b[0m         \u001b[1;36m0\u001b[0m    API  \u001b[1;36m2024\u001b[0m-\u001b[1;36m09\u001b[0m-\u001b[1;36m22\u001b[0m \u001b[1;92m19:52:39\u001b[0m   \n",
       "\u001b[1;36m17\u001b[0m   \u001b[1;36m98.189857\u001b[0m  \u001b[1;36m5.600000e-07\u001b[0m        \u001b[1;36m0\u001b[0m         \u001b[1;36m0\u001b[0m    API  \u001b[1;36m2024\u001b[0m-\u001b[1;36m09\u001b[0m-\u001b[1;36m21\u001b[0m \u001b[1;92m22:00:47\u001b[0m   \n",
       "\u001b[1;36m18\u001b[0m   \u001b[1;36m98.378065\u001b[0m  \u001b[1;36m1.967560e-01\u001b[0m        \u001b[1;36m1\u001b[0m         \u001b[1;36m0\u001b[0m    WEB  \u001b[1;36m2024\u001b[0m-\u001b[1;36m09\u001b[0m-\u001b[1;36m21\u001b[0m \u001b[1;92m12:09:35\u001b[0m   \n",
       "\u001b[1;36m19\u001b[0m   \u001b[1;36m97.848561\u001b[0m  \u001b[1;36m5.500000e-07\u001b[0m        \u001b[1;36m1\u001b[0m         \u001b[1;36m0\u001b[0m    APP  \u001b[1;36m2024\u001b[0m-\u001b[1;36m09\u001b[0m-\u001b[1;36m20\u001b[0m \u001b[1;92m21:57:41\u001b[0m   \n",
       "\u001b[1;36m20\u001b[0m    \u001b[1;36m4.023980\u001b[0m  \u001b[1;36m8.047000e-03\u001b[0m        \u001b[1;36m1\u001b[0m         \u001b[1;36m0\u001b[0m    APP  \u001b[1;36m2024\u001b[0m-\u001b[1;36m09\u001b[0m-\u001b[1;36m19\u001b[0m \u001b[1;92m13:20:59\u001b[0m   \n",
       "\u001b[1;36m21\u001b[0m    \u001b[1;36m3.997138\u001b[0m  \u001b[1;36m2.000000e-08\u001b[0m        \u001b[1;36m1\u001b[0m         \u001b[1;36m0\u001b[0m    APP  \u001b[1;36m2024\u001b[0m-\u001b[1;36m09\u001b[0m-\u001b[1;36m19\u001b[0m \u001b[1;92m13:19:06\u001b[0m   \n",
       "\u001b[1;36m22\u001b[0m   \u001b[1;36m24.239826\u001b[0m  \u001b[1;36m4.847900e-02\u001b[0m        \u001b[1;36m1\u001b[0m         \u001b[1;36m0\u001b[0m    API  \u001b[1;36m2024\u001b[0m-\u001b[1;36m09\u001b[0m-\u001b[1;36m19\u001b[0m \u001b[1;92m09:16:39\u001b[0m   \n",
       "\u001b[1;36m23\u001b[0m   \u001b[1;36m24.245223\u001b[0m  \u001b[1;36m1.400000e-07\u001b[0m        \u001b[1;36m1\u001b[0m         \u001b[1;36m0\u001b[0m    API  \u001b[1;36m2024\u001b[0m-\u001b[1;36m09\u001b[0m-\u001b[1;36m19\u001b[0m \u001b[1;92m09:15:52\u001b[0m   \n",
       "\u001b[1;36m24\u001b[0m   \u001b[1;36m24.104500\u001b[0m  \u001b[1;36m4.820900e-02\u001b[0m        \u001b[1;36m1\u001b[0m         \u001b[1;36m0\u001b[0m    API  \u001b[1;36m2024\u001b[0m-\u001b[1;36m09\u001b[0m-\u001b[1;36m19\u001b[0m \u001b[1;92m09:01:24\u001b[0m   \n",
       "\u001b[1;36m25\u001b[0m   \u001b[1;36m24.139011\u001b[0m  \u001b[1;36m1.400000e-07\u001b[0m        \u001b[1;36m1\u001b[0m         \u001b[1;36m0\u001b[0m    API  \u001b[1;36m2024\u001b[0m-\u001b[1;36m09\u001b[0m-\u001b[1;36m19\u001b[0m \u001b[1;92m08:48:28\u001b[0m   \n",
       "\u001b[1;36m26\u001b[0m   \u001b[1;36m98.163300\u001b[0m  \u001b[1;36m1.963250e-01\u001b[0m        \u001b[1;36m1\u001b[0m         \u001b[1;36m0\u001b[0m    APP  \u001b[1;36m2024\u001b[0m-\u001b[1;36m09\u001b[0m-\u001b[1;36m18\u001b[0m \u001b[1;92m12:55:08\u001b[0m   \n",
       "\u001b[1;36m27\u001b[0m   \u001b[1;36m23.515185\u001b[0m  \u001b[1;36m1.400000e-07\u001b[0m        \u001b[1;36m1\u001b[0m         \u001b[1;36m0\u001b[0m    APP  \u001b[1;36m2024\u001b[0m-\u001b[1;36m09\u001b[0m-\u001b[1;36m17\u001b[0m \u001b[1;92m16:59:05\u001b[0m   \n",
       "\u001b[1;36m28\u001b[0m   \u001b[1;36m77.275107\u001b[0m  \u001b[1;36m4.500000e-07\u001b[0m        \u001b[1;36m1\u001b[0m         \u001b[1;36m0\u001b[0m    API  \u001b[1;36m2024\u001b[0m-\u001b[1;36m09\u001b[0m-\u001b[1;36m17\u001b[0m \u001b[1;92m12:54:27\u001b[0m   \n",
       "\u001b[1;36m29\u001b[0m   \u001b[1;36m77.298725\u001b[0m  \u001b[1;36m1.545970e-01\u001b[0m        \u001b[1;36m1\u001b[0m         \u001b[1;36m0\u001b[0m    APP  \u001b[1;36m2024\u001b[0m-\u001b[1;36m09\u001b[0m-\u001b[1;36m17\u001b[0m \u001b[1;92m12:50:27\u001b[0m   \n",
       "\u001b[1;36m30\u001b[0m   \u001b[1;36m25.762349\u001b[0m  \u001b[1;36m1.500000e-07\u001b[0m        \u001b[1;36m1\u001b[0m         \u001b[1;36m0\u001b[0m    API  \u001b[1;36m2024\u001b[0m-\u001b[1;36m09\u001b[0m-\u001b[1;36m17\u001b[0m \u001b[1;92m12:34:03\u001b[0m   \n",
       "\u001b[1;36m31\u001b[0m   \u001b[1;36m25.806847\u001b[0m  \u001b[1;36m1.500000e-07\u001b[0m        \u001b[1;36m1\u001b[0m         \u001b[1;36m0\u001b[0m    API  \u001b[1;36m2024\u001b[0m-\u001b[1;36m09\u001b[0m-\u001b[1;36m17\u001b[0m \u001b[1;92m12:32:58\u001b[0m   \n",
       "\u001b[1;36m32\u001b[0m   \u001b[1;36m25.816804\u001b[0m  \u001b[1;36m1.500000e-07\u001b[0m        \u001b[1;36m1\u001b[0m         \u001b[1;36m0\u001b[0m    API  \u001b[1;36m2024\u001b[0m-\u001b[1;36m09\u001b[0m-\u001b[1;36m17\u001b[0m \u001b[1;92m12:29:12\u001b[0m   \n",
       "\u001b[1;36m33\u001b[0m   \u001b[1;36m25.820787\u001b[0m  \u001b[1;36m5.164100e-02\u001b[0m        \u001b[1;36m1\u001b[0m         \u001b[1;36m0\u001b[0m    APP  \u001b[1;36m2024\u001b[0m-\u001b[1;36m09\u001b[0m-\u001b[1;36m17\u001b[0m \u001b[1;92m12:28:20\u001b[0m   \n",
       "\u001b[1;36m34\u001b[0m   \u001b[1;36m25.260352\u001b[0m  \u001b[1;36m5.052000e-02\u001b[0m        \u001b[1;36m1\u001b[0m         \u001b[1;36m0\u001b[0m    API  \u001b[1;36m2024\u001b[0m-\u001b[1;36m09\u001b[0m-\u001b[1;36m17\u001b[0m \u001b[1;92m11:12:40\u001b[0m   \n",
       "\u001b[1;36m35\u001b[0m   \u001b[1;36m24.940500\u001b[0m  \u001b[1;36m1.500000e-07\u001b[0m        \u001b[1;36m1\u001b[0m         \u001b[1;36m0\u001b[0m    API  \u001b[1;36m2024\u001b[0m-\u001b[1;36m09\u001b[0m-\u001b[1;36m17\u001b[0m \u001b[1;92m10:56:41\u001b[0m   \n",
       "\u001b[1;36m36\u001b[0m   \u001b[1;36m24.997078\u001b[0m  \u001b[1;36m0.000000e+00\u001b[0m        \u001b[1;36m1\u001b[0m         \u001b[1;36m0\u001b[0m    WEB  \u001b[1;36m2024\u001b[0m-\u001b[1;36m09\u001b[0m-\u001b[1;36m16\u001b[0m \u001b[1;92m21:24:28\u001b[0m   \n",
       "\n",
       "              concluded  \n",
       "\u001b[1;36m0\u001b[0m   \u001b[1;36m2025\u001b[0m-\u001b[1;36m01\u001b[0m-\u001b[1;36m02\u001b[0m \u001b[1;92m12:22:00\u001b[0m  \n",
       "\u001b[1;36m1\u001b[0m   \u001b[1;36m2025\u001b[0m-\u001b[1;36m01\u001b[0m-\u001b[1;36m02\u001b[0m \u001b[1;92m12:22:00\u001b[0m  \n",
       "\u001b[1;36m2\u001b[0m   \u001b[1;36m2024\u001b[0m-\u001b[1;36m12\u001b[0m-\u001b[1;36m18\u001b[0m \u001b[1;92m16:07:51\u001b[0m  \n",
       "\u001b[1;36m3\u001b[0m   \u001b[1;36m2024\u001b[0m-\u001b[1;36m12\u001b[0m-\u001b[1;36m18\u001b[0m \u001b[1;92m15:42:26\u001b[0m  \n",
       "\u001b[1;36m4\u001b[0m   \u001b[1;36m2024\u001b[0m-\u001b[1;36m12\u001b[0m-\u001b[1;36m17\u001b[0m \u001b[1;92m22:42:58\u001b[0m  \n",
       "\u001b[1;36m5\u001b[0m   \u001b[1;36m2024\u001b[0m-\u001b[1;36m12\u001b[0m-\u001b[1;36m17\u001b[0m \u001b[1;92m12:17:48\u001b[0m  \n",
       "\u001b[1;36m6\u001b[0m   \u001b[1;36m2024\u001b[0m-\u001b[1;36m12\u001b[0m-\u001b[1;36m17\u001b[0m \u001b[1;92m12:15:39\u001b[0m  \n",
       "\u001b[1;36m7\u001b[0m   \u001b[1;36m2024\u001b[0m-\u001b[1;36m12\u001b[0m-\u001b[1;36m17\u001b[0m \u001b[1;92m12:14:05\u001b[0m  \n",
       "\u001b[1;36m8\u001b[0m   \u001b[1;36m2024\u001b[0m-\u001b[1;36m12\u001b[0m-\u001b[1;36m16\u001b[0m \u001b[1;92m17:35:31\u001b[0m  \n",
       "\u001b[1;36m9\u001b[0m   \u001b[1;36m2024\u001b[0m-\u001b[1;36m12\u001b[0m-\u001b[1;36m16\u001b[0m \u001b[1;92m12:38:54\u001b[0m  \n",
       "\u001b[1;36m10\u001b[0m  \u001b[1;36m2024\u001b[0m-\u001b[1;36m12\u001b[0m-\u001b[1;36m13\u001b[0m \u001b[1;92m11:39:25\u001b[0m  \n",
       "\u001b[1;36m11\u001b[0m  \u001b[1;36m2024\u001b[0m-\u001b[1;36m12\u001b[0m-\u001b[1;36m13\u001b[0m \u001b[1;92m11:26:34\u001b[0m  \n",
       "\u001b[1;36m12\u001b[0m  \u001b[1;36m2024\u001b[0m-\u001b[1;36m10\u001b[0m-\u001b[1;36m14\u001b[0m \u001b[1;92m13:46:33\u001b[0m  \n",
       "\u001b[1;36m13\u001b[0m  \u001b[1;36m2024\u001b[0m-\u001b[1;36m09\u001b[0m-\u001b[1;36m28\u001b[0m \u001b[1;92m10:49:16\u001b[0m  \n",
       "\u001b[1;36m14\u001b[0m  \u001b[1;36m2024\u001b[0m-\u001b[1;36m09\u001b[0m-\u001b[1;36m27\u001b[0m \u001b[1;92m11:10:36\u001b[0m  \n",
       "\u001b[1;36m15\u001b[0m  \u001b[1;36m2024\u001b[0m-\u001b[1;36m09\u001b[0m-\u001b[1;36m23\u001b[0m \u001b[1;92m09:16:40\u001b[0m  \n",
       "\u001b[1;36m16\u001b[0m  \u001b[1;36m2024\u001b[0m-\u001b[1;36m09\u001b[0m-\u001b[1;36m22\u001b[0m \u001b[1;92m19:53:38\u001b[0m  \n",
       "\u001b[1;36m17\u001b[0m  \u001b[1;36m2024\u001b[0m-\u001b[1;36m09\u001b[0m-\u001b[1;36m21\u001b[0m \u001b[1;92m22:00:47\u001b[0m  \n",
       "\u001b[1;36m18\u001b[0m  \u001b[1;36m2024\u001b[0m-\u001b[1;36m09\u001b[0m-\u001b[1;36m21\u001b[0m \u001b[1;92m12:28:09\u001b[0m  \n",
       "\u001b[1;36m19\u001b[0m  \u001b[1;36m2024\u001b[0m-\u001b[1;36m09\u001b[0m-\u001b[1;36m20\u001b[0m \u001b[1;92m21:57:49\u001b[0m  \n",
       "\u001b[1;36m20\u001b[0m  \u001b[1;36m2024\u001b[0m-\u001b[1;36m09\u001b[0m-\u001b[1;36m19\u001b[0m \u001b[1;92m14:02:32\u001b[0m  \n",
       "\u001b[1;36m21\u001b[0m  \u001b[1;36m2024\u001b[0m-\u001b[1;36m09\u001b[0m-\u001b[1;36m19\u001b[0m \u001b[1;92m13:19:06\u001b[0m  \n",
       "\u001b[1;36m22\u001b[0m  \u001b[1;36m2024\u001b[0m-\u001b[1;36m09\u001b[0m-\u001b[1;36m19\u001b[0m \u001b[1;92m09:16:45\u001b[0m  \n",
       "\u001b[1;36m23\u001b[0m  \u001b[1;36m2024\u001b[0m-\u001b[1;36m09\u001b[0m-\u001b[1;36m19\u001b[0m \u001b[1;92m09:16:01\u001b[0m  \n",
       "\u001b[1;36m24\u001b[0m  \u001b[1;36m2024\u001b[0m-\u001b[1;36m09\u001b[0m-\u001b[1;36m19\u001b[0m \u001b[1;92m09:01:43\u001b[0m  \n",
       "\u001b[1;36m25\u001b[0m  \u001b[1;36m2024\u001b[0m-\u001b[1;36m09\u001b[0m-\u001b[1;36m19\u001b[0m \u001b[1;92m08:48:28\u001b[0m  \n",
       "\u001b[1;36m26\u001b[0m  \u001b[1;36m2024\u001b[0m-\u001b[1;36m09\u001b[0m-\u001b[1;36m18\u001b[0m \u001b[1;92m12:55:43\u001b[0m  \n",
       "\u001b[1;36m27\u001b[0m  \u001b[1;36m2024\u001b[0m-\u001b[1;36m09\u001b[0m-\u001b[1;36m17\u001b[0m \u001b[1;92m16:59:35\u001b[0m  \n",
       "\u001b[1;36m28\u001b[0m  \u001b[1;36m2024\u001b[0m-\u001b[1;36m09\u001b[0m-\u001b[1;36m17\u001b[0m \u001b[1;92m12:54:44\u001b[0m  \n",
       "\u001b[1;36m29\u001b[0m  \u001b[1;36m2024\u001b[0m-\u001b[1;36m09\u001b[0m-\u001b[1;36m17\u001b[0m \u001b[1;92m12:52:55\u001b[0m  \n",
       "\u001b[1;36m30\u001b[0m  \u001b[1;36m2024\u001b[0m-\u001b[1;36m09\u001b[0m-\u001b[1;36m17\u001b[0m \u001b[1;92m12:34:03\u001b[0m  \n",
       "\u001b[1;36m31\u001b[0m  \u001b[1;36m2024\u001b[0m-\u001b[1;36m09\u001b[0m-\u001b[1;36m17\u001b[0m \u001b[1;92m12:32:59\u001b[0m  \n",
       "\u001b[1;36m32\u001b[0m  \u001b[1;36m2024\u001b[0m-\u001b[1;36m09\u001b[0m-\u001b[1;36m17\u001b[0m \u001b[1;92m12:32:32\u001b[0m  \n",
       "\u001b[1;36m33\u001b[0m  \u001b[1;36m2024\u001b[0m-\u001b[1;36m09\u001b[0m-\u001b[1;36m17\u001b[0m \u001b[1;92m12:28:20\u001b[0m  \n",
       "\u001b[1;36m34\u001b[0m  \u001b[1;36m2024\u001b[0m-\u001b[1;36m09\u001b[0m-\u001b[1;36m17\u001b[0m \u001b[1;92m11:12:45\u001b[0m  \n",
       "\u001b[1;36m35\u001b[0m  \u001b[1;36m2024\u001b[0m-\u001b[1;36m09\u001b[0m-\u001b[1;36m17\u001b[0m \u001b[1;92m10:57:26\u001b[0m  \n",
       "\u001b[1;36m36\u001b[0m  \u001b[1;36m2024\u001b[0m-\u001b[1;36m09\u001b[0m-\u001b[1;36m16\u001b[0m \u001b[1;92m21:24:28\u001b[0m  \n"
      ]
     },
     "metadata": {},
     "output_type": "display_data"
    },
    {
     "data": {
      "text/html": [
       "<pre style=\"white-space:pre;overflow-x:auto;line-height:normal;font-family:Menlo,'DejaVu Sans Mono',consolas,'Courier New',monospace\">           id   market type  status    amount          price  exec_amount  \\\n",
       "<span style=\"color: #008080; text-decoration-color: #008080; font-weight: bold\">0</span>  <span style=\"color: #008080; text-decoration-color: #008080; font-weight: bold\">1520875822</span>  BTC-BRL  BUY  FILLED  <span style=\"color: #008080; text-decoration-color: #008080; font-weight: bold\">0.000007</span>  <span style=\"color: #008080; text-decoration-color: #008080; font-weight: bold\">601200.000000</span>     <span style=\"color: #008080; text-decoration-color: #008080; font-weight: bold\">0.000007</span>   \n",
       "<span style=\"color: #008080; text-decoration-color: #008080; font-weight: bold\">1</span>  <span style=\"color: #008080; text-decoration-color: #008080; font-weight: bold\">1520875579</span>  BTC-BRL  BUY  FILLED  <span style=\"color: #008080; text-decoration-color: #008080; font-weight: bold\">0.000009</span>  <span style=\"color: #008080; text-decoration-color: #008080; font-weight: bold\">601200.000000</span>     <span style=\"color: #008080; text-decoration-color: #008080; font-weight: bold\">0.000009</span>   \n",
       "<span style=\"color: #008080; text-decoration-color: #008080; font-weight: bold\">2</span>  <span style=\"color: #008080; text-decoration-color: #008080; font-weight: bold\">1504227287</span>  BTC-BRL  BUY  FILLED  <span style=\"color: #008080; text-decoration-color: #008080; font-weight: bold\">0.000010</span>  <span style=\"color: #008080; text-decoration-color: #008080; font-weight: bold\">648107.029703</span>     <span style=\"color: #008080; text-decoration-color: #008080; font-weight: bold\">0.000010</span>   \n",
       "<span style=\"color: #008080; text-decoration-color: #008080; font-weight: bold\">3</span>  <span style=\"color: #008080; text-decoration-color: #008080; font-weight: bold\">1504205222</span>  BTC-BRL  BUY  FILLED  <span style=\"color: #008080; text-decoration-color: #008080; font-weight: bold\">0.000013</span>  <span style=\"color: #008080; text-decoration-color: #008080; font-weight: bold\">650346.979332</span>     <span style=\"color: #008080; text-decoration-color: #008080; font-weight: bold\">0.000013</span>   \n",
       "<span style=\"color: #008080; text-decoration-color: #008080; font-weight: bold\">4</span>  <span style=\"color: #008080; text-decoration-color: #008080; font-weight: bold\">1503401599</span>  BTC-BRL  BUY  FILLED  <span style=\"color: #008080; text-decoration-color: #008080; font-weight: bold\">0.000016</span>  <span style=\"color: #008080; text-decoration-color: #008080; font-weight: bold\">651822.016592</span>     <span style=\"color: #008080; text-decoration-color: #008080; font-weight: bold\">0.000016</span>   \n",
       "<span style=\"color: #008080; text-decoration-color: #008080; font-weight: bold\">5</span>  <span style=\"color: #008080; text-decoration-color: #008080; font-weight: bold\">1502873638</span>  BTC-BRL  BUY  FILLED  <span style=\"color: #008080; text-decoration-color: #008080; font-weight: bold\">0.000019</span>  <span style=\"color: #008080; text-decoration-color: #008080; font-weight: bold\">660740.000000</span>     <span style=\"color: #008080; text-decoration-color: #008080; font-weight: bold\">0.000019</span>   \n",
       "<span style=\"color: #008080; text-decoration-color: #008080; font-weight: bold\">6</span>  <span style=\"color: #008080; text-decoration-color: #008080; font-weight: bold\">1502871460</span>  BTC-BRL  BUY  FILLED  <span style=\"color: #008080; text-decoration-color: #008080; font-weight: bold\">0.000024</span>  <span style=\"color: #008080; text-decoration-color: #008080; font-weight: bold\">662639.004149</span>     <span style=\"color: #008080; text-decoration-color: #008080; font-weight: bold\">0.000024</span>   \n",
       "<span style=\"color: #008080; text-decoration-color: #008080; font-weight: bold\">7</span>  <span style=\"color: #008080; text-decoration-color: #008080; font-weight: bold\">1502870034</span>  BTC-BRL  BUY  FILLED  <span style=\"color: #008080; text-decoration-color: #008080; font-weight: bold\">0.000030</span>  <span style=\"color: #008080; text-decoration-color: #008080; font-weight: bold\">663701.995344</span>     <span style=\"color: #008080; text-decoration-color: #008080; font-weight: bold\">0.000030</span>   \n",
       "\n",
       "        cost           fee  limited  canceled origin           time_stamp  \\\n",
       "<span style=\"color: #008080; text-decoration-color: #008080; font-weight: bold\">0</span>   <span style=\"color: #008080; text-decoration-color: #008080; font-weight: bold\">4.184352</span>  <span style=\"color: #008080; text-decoration-color: #008080; font-weight: bold\">1.000000e-08</span>        <span style=\"color: #008080; text-decoration-color: #008080; font-weight: bold\">1</span>         <span style=\"color: #008080; text-decoration-color: #008080; font-weight: bold\">0</span>    API  <span style=\"color: #008080; text-decoration-color: #008080; font-weight: bold\">2025</span>-<span style=\"color: #008080; text-decoration-color: #008080; font-weight: bold\">01</span>-<span style=\"color: #008080; text-decoration-color: #008080; font-weight: bold\">02</span> <span style=\"color: #00ff00; text-decoration-color: #00ff00; font-weight: bold\">12:21:51</span>   \n",
       "<span style=\"color: #008080; text-decoration-color: #008080; font-weight: bold\">1</span>   <span style=\"color: #008080; text-decoration-color: #008080; font-weight: bold\">5.236452</span>  <span style=\"color: #008080; text-decoration-color: #008080; font-weight: bold\">1.000000e-08</span>        <span style=\"color: #008080; text-decoration-color: #008080; font-weight: bold\">1</span>         <span style=\"color: #008080; text-decoration-color: #008080; font-weight: bold\">0</span>    API  <span style=\"color: #008080; text-decoration-color: #008080; font-weight: bold\">2025</span>-<span style=\"color: #008080; text-decoration-color: #008080; font-weight: bold\">01</span>-<span style=\"color: #008080; text-decoration-color: #008080; font-weight: bold\">02</span> <span style=\"color: #00ff00; text-decoration-color: #00ff00; font-weight: bold\">12:21:35</span>   \n",
       "<span style=\"color: #008080; text-decoration-color: #008080; font-weight: bold\">2</span>   <span style=\"color: #008080; text-decoration-color: #008080; font-weight: bold\">6.545881</span>  <span style=\"color: #008080; text-decoration-color: #008080; font-weight: bold\">2.000000e-08</span>        <span style=\"color: #008080; text-decoration-color: #008080; font-weight: bold\">1</span>         <span style=\"color: #008080; text-decoration-color: #008080; font-weight: bold\">0</span>    API  <span style=\"color: #008080; text-decoration-color: #008080; font-weight: bold\">2024</span>-<span style=\"color: #008080; text-decoration-color: #008080; font-weight: bold\">12</span>-<span style=\"color: #008080; text-decoration-color: #008080; font-weight: bold\">18</span> <span style=\"color: #00ff00; text-decoration-color: #00ff00; font-weight: bold\">16:07:46</span>   \n",
       "<span style=\"color: #008080; text-decoration-color: #008080; font-weight: bold\">3</span>   <span style=\"color: #008080; text-decoration-color: #008080; font-weight: bold\">8.181365</span>  <span style=\"color: #008080; text-decoration-color: #008080; font-weight: bold\">2.000000e-08</span>        <span style=\"color: #008080; text-decoration-color: #008080; font-weight: bold\">1</span>         <span style=\"color: #008080; text-decoration-color: #008080; font-weight: bold\">0</span>    API  <span style=\"color: #008080; text-decoration-color: #008080; font-weight: bold\">2024</span>-<span style=\"color: #008080; text-decoration-color: #008080; font-weight: bold\">12</span>-<span style=\"color: #008080; text-decoration-color: #008080; font-weight: bold\">18</span> <span style=\"color: #00ff00; text-decoration-color: #00ff00; font-weight: bold\">15:42:06</span>   \n",
       "<span style=\"color: #008080; text-decoration-color: #008080; font-weight: bold\">4</span>  <span style=\"color: #008080; text-decoration-color: #008080; font-weight: bold\">10.214051</span>  <span style=\"color: #008080; text-decoration-color: #008080; font-weight: bold\">3.000000e-08</span>        <span style=\"color: #008080; text-decoration-color: #008080; font-weight: bold\">1</span>         <span style=\"color: #008080; text-decoration-color: #008080; font-weight: bold\">0</span>    API  <span style=\"color: #008080; text-decoration-color: #008080; font-weight: bold\">2024</span>-<span style=\"color: #008080; text-decoration-color: #008080; font-weight: bold\">12</span>-<span style=\"color: #008080; text-decoration-color: #008080; font-weight: bold\">17</span> <span style=\"color: #00ff00; text-decoration-color: #00ff00; font-weight: bold\">22:42:58</span>   \n",
       "<span style=\"color: #008080; text-decoration-color: #008080; font-weight: bold\">5</span>  <span style=\"color: #008080; text-decoration-color: #008080; font-weight: bold\">12.752282</span>  <span style=\"color: #008080; text-decoration-color: #008080; font-weight: bold\">3.000000e-08</span>        <span style=\"color: #008080; text-decoration-color: #008080; font-weight: bold\">1</span>         <span style=\"color: #008080; text-decoration-color: #008080; font-weight: bold\">0</span>    API  <span style=\"color: #008080; text-decoration-color: #008080; font-weight: bold\">2024</span>-<span style=\"color: #008080; text-decoration-color: #008080; font-weight: bold\">12</span>-<span style=\"color: #008080; text-decoration-color: #008080; font-weight: bold\">17</span> <span style=\"color: #00ff00; text-decoration-color: #00ff00; font-weight: bold\">12:17:48</span>   \n",
       "<span style=\"color: #008080; text-decoration-color: #008080; font-weight: bold\">6</span>  <span style=\"color: #008080; text-decoration-color: #008080; font-weight: bold\">15.969600</span>  <span style=\"color: #008080; text-decoration-color: #008080; font-weight: bold\">4.000000e-08</span>        <span style=\"color: #008080; text-decoration-color: #008080; font-weight: bold\">1</span>         <span style=\"color: #008080; text-decoration-color: #008080; font-weight: bold\">0</span>    API  <span style=\"color: #008080; text-decoration-color: #008080; font-weight: bold\">2024</span>-<span style=\"color: #008080; text-decoration-color: #008080; font-weight: bold\">12</span>-<span style=\"color: #008080; text-decoration-color: #008080; font-weight: bold\">17</span> <span style=\"color: #00ff00; text-decoration-color: #00ff00; font-weight: bold\">12:15:39</span>   \n",
       "<span style=\"color: #008080; text-decoration-color: #008080; font-weight: bold\">7</span>  <span style=\"color: #008080; text-decoration-color: #008080; font-weight: bold\">19.957519</span>  <span style=\"color: #008080; text-decoration-color: #008080; font-weight: bold\">6.000000e-08</span>        <span style=\"color: #008080; text-decoration-color: #008080; font-weight: bold\">1</span>         <span style=\"color: #008080; text-decoration-color: #008080; font-weight: bold\">0</span>    API  <span style=\"color: #008080; text-decoration-color: #008080; font-weight: bold\">2024</span>-<span style=\"color: #008080; text-decoration-color: #008080; font-weight: bold\">12</span>-<span style=\"color: #008080; text-decoration-color: #008080; font-weight: bold\">17</span> <span style=\"color: #00ff00; text-decoration-color: #00ff00; font-weight: bold\">12:14:04</span>   \n",
       "\n",
       "             concluded  \n",
       "<span style=\"color: #008080; text-decoration-color: #008080; font-weight: bold\">0</span>  <span style=\"color: #008080; text-decoration-color: #008080; font-weight: bold\">2025</span>-<span style=\"color: #008080; text-decoration-color: #008080; font-weight: bold\">01</span>-<span style=\"color: #008080; text-decoration-color: #008080; font-weight: bold\">02</span> <span style=\"color: #00ff00; text-decoration-color: #00ff00; font-weight: bold\">12:22:00</span>  \n",
       "<span style=\"color: #008080; text-decoration-color: #008080; font-weight: bold\">1</span>  <span style=\"color: #008080; text-decoration-color: #008080; font-weight: bold\">2025</span>-<span style=\"color: #008080; text-decoration-color: #008080; font-weight: bold\">01</span>-<span style=\"color: #008080; text-decoration-color: #008080; font-weight: bold\">02</span> <span style=\"color: #00ff00; text-decoration-color: #00ff00; font-weight: bold\">12:22:00</span>  \n",
       "<span style=\"color: #008080; text-decoration-color: #008080; font-weight: bold\">2</span>  <span style=\"color: #008080; text-decoration-color: #008080; font-weight: bold\">2024</span>-<span style=\"color: #008080; text-decoration-color: #008080; font-weight: bold\">12</span>-<span style=\"color: #008080; text-decoration-color: #008080; font-weight: bold\">18</span> <span style=\"color: #00ff00; text-decoration-color: #00ff00; font-weight: bold\">16:07:51</span>  \n",
       "<span style=\"color: #008080; text-decoration-color: #008080; font-weight: bold\">3</span>  <span style=\"color: #008080; text-decoration-color: #008080; font-weight: bold\">2024</span>-<span style=\"color: #008080; text-decoration-color: #008080; font-weight: bold\">12</span>-<span style=\"color: #008080; text-decoration-color: #008080; font-weight: bold\">18</span> <span style=\"color: #00ff00; text-decoration-color: #00ff00; font-weight: bold\">15:42:26</span>  \n",
       "<span style=\"color: #008080; text-decoration-color: #008080; font-weight: bold\">4</span>  <span style=\"color: #008080; text-decoration-color: #008080; font-weight: bold\">2024</span>-<span style=\"color: #008080; text-decoration-color: #008080; font-weight: bold\">12</span>-<span style=\"color: #008080; text-decoration-color: #008080; font-weight: bold\">17</span> <span style=\"color: #00ff00; text-decoration-color: #00ff00; font-weight: bold\">22:42:58</span>  \n",
       "<span style=\"color: #008080; text-decoration-color: #008080; font-weight: bold\">5</span>  <span style=\"color: #008080; text-decoration-color: #008080; font-weight: bold\">2024</span>-<span style=\"color: #008080; text-decoration-color: #008080; font-weight: bold\">12</span>-<span style=\"color: #008080; text-decoration-color: #008080; font-weight: bold\">17</span> <span style=\"color: #00ff00; text-decoration-color: #00ff00; font-weight: bold\">12:17:48</span>  \n",
       "<span style=\"color: #008080; text-decoration-color: #008080; font-weight: bold\">6</span>  <span style=\"color: #008080; text-decoration-color: #008080; font-weight: bold\">2024</span>-<span style=\"color: #008080; text-decoration-color: #008080; font-weight: bold\">12</span>-<span style=\"color: #008080; text-decoration-color: #008080; font-weight: bold\">17</span> <span style=\"color: #00ff00; text-decoration-color: #00ff00; font-weight: bold\">12:15:39</span>  \n",
       "<span style=\"color: #008080; text-decoration-color: #008080; font-weight: bold\">7</span>  <span style=\"color: #008080; text-decoration-color: #008080; font-weight: bold\">2024</span>-<span style=\"color: #008080; text-decoration-color: #008080; font-weight: bold\">12</span>-<span style=\"color: #008080; text-decoration-color: #008080; font-weight: bold\">17</span> <span style=\"color: #00ff00; text-decoration-color: #00ff00; font-weight: bold\">12:14:05</span>  \n",
       "</pre>\n"
      ],
      "text/plain": [
       "           id   market type  status    amount          price  exec_amount  \\\n",
       "\u001b[1;36m0\u001b[0m  \u001b[1;36m1520875822\u001b[0m  BTC-BRL  BUY  FILLED  \u001b[1;36m0.000007\u001b[0m  \u001b[1;36m601200.000000\u001b[0m     \u001b[1;36m0.000007\u001b[0m   \n",
       "\u001b[1;36m1\u001b[0m  \u001b[1;36m1520875579\u001b[0m  BTC-BRL  BUY  FILLED  \u001b[1;36m0.000009\u001b[0m  \u001b[1;36m601200.000000\u001b[0m     \u001b[1;36m0.000009\u001b[0m   \n",
       "\u001b[1;36m2\u001b[0m  \u001b[1;36m1504227287\u001b[0m  BTC-BRL  BUY  FILLED  \u001b[1;36m0.000010\u001b[0m  \u001b[1;36m648107.029703\u001b[0m     \u001b[1;36m0.000010\u001b[0m   \n",
       "\u001b[1;36m3\u001b[0m  \u001b[1;36m1504205222\u001b[0m  BTC-BRL  BUY  FILLED  \u001b[1;36m0.000013\u001b[0m  \u001b[1;36m650346.979332\u001b[0m     \u001b[1;36m0.000013\u001b[0m   \n",
       "\u001b[1;36m4\u001b[0m  \u001b[1;36m1503401599\u001b[0m  BTC-BRL  BUY  FILLED  \u001b[1;36m0.000016\u001b[0m  \u001b[1;36m651822.016592\u001b[0m     \u001b[1;36m0.000016\u001b[0m   \n",
       "\u001b[1;36m5\u001b[0m  \u001b[1;36m1502873638\u001b[0m  BTC-BRL  BUY  FILLED  \u001b[1;36m0.000019\u001b[0m  \u001b[1;36m660740.000000\u001b[0m     \u001b[1;36m0.000019\u001b[0m   \n",
       "\u001b[1;36m6\u001b[0m  \u001b[1;36m1502871460\u001b[0m  BTC-BRL  BUY  FILLED  \u001b[1;36m0.000024\u001b[0m  \u001b[1;36m662639.004149\u001b[0m     \u001b[1;36m0.000024\u001b[0m   \n",
       "\u001b[1;36m7\u001b[0m  \u001b[1;36m1502870034\u001b[0m  BTC-BRL  BUY  FILLED  \u001b[1;36m0.000030\u001b[0m  \u001b[1;36m663701.995344\u001b[0m     \u001b[1;36m0.000030\u001b[0m   \n",
       "\n",
       "        cost           fee  limited  canceled origin           time_stamp  \\\n",
       "\u001b[1;36m0\u001b[0m   \u001b[1;36m4.184352\u001b[0m  \u001b[1;36m1.000000e-08\u001b[0m        \u001b[1;36m1\u001b[0m         \u001b[1;36m0\u001b[0m    API  \u001b[1;36m2025\u001b[0m-\u001b[1;36m01\u001b[0m-\u001b[1;36m02\u001b[0m \u001b[1;92m12:21:51\u001b[0m   \n",
       "\u001b[1;36m1\u001b[0m   \u001b[1;36m5.236452\u001b[0m  \u001b[1;36m1.000000e-08\u001b[0m        \u001b[1;36m1\u001b[0m         \u001b[1;36m0\u001b[0m    API  \u001b[1;36m2025\u001b[0m-\u001b[1;36m01\u001b[0m-\u001b[1;36m02\u001b[0m \u001b[1;92m12:21:35\u001b[0m   \n",
       "\u001b[1;36m2\u001b[0m   \u001b[1;36m6.545881\u001b[0m  \u001b[1;36m2.000000e-08\u001b[0m        \u001b[1;36m1\u001b[0m         \u001b[1;36m0\u001b[0m    API  \u001b[1;36m2024\u001b[0m-\u001b[1;36m12\u001b[0m-\u001b[1;36m18\u001b[0m \u001b[1;92m16:07:46\u001b[0m   \n",
       "\u001b[1;36m3\u001b[0m   \u001b[1;36m8.181365\u001b[0m  \u001b[1;36m2.000000e-08\u001b[0m        \u001b[1;36m1\u001b[0m         \u001b[1;36m0\u001b[0m    API  \u001b[1;36m2024\u001b[0m-\u001b[1;36m12\u001b[0m-\u001b[1;36m18\u001b[0m \u001b[1;92m15:42:06\u001b[0m   \n",
       "\u001b[1;36m4\u001b[0m  \u001b[1;36m10.214051\u001b[0m  \u001b[1;36m3.000000e-08\u001b[0m        \u001b[1;36m1\u001b[0m         \u001b[1;36m0\u001b[0m    API  \u001b[1;36m2024\u001b[0m-\u001b[1;36m12\u001b[0m-\u001b[1;36m17\u001b[0m \u001b[1;92m22:42:58\u001b[0m   \n",
       "\u001b[1;36m5\u001b[0m  \u001b[1;36m12.752282\u001b[0m  \u001b[1;36m3.000000e-08\u001b[0m        \u001b[1;36m1\u001b[0m         \u001b[1;36m0\u001b[0m    API  \u001b[1;36m2024\u001b[0m-\u001b[1;36m12\u001b[0m-\u001b[1;36m17\u001b[0m \u001b[1;92m12:17:48\u001b[0m   \n",
       "\u001b[1;36m6\u001b[0m  \u001b[1;36m15.969600\u001b[0m  \u001b[1;36m4.000000e-08\u001b[0m        \u001b[1;36m1\u001b[0m         \u001b[1;36m0\u001b[0m    API  \u001b[1;36m2024\u001b[0m-\u001b[1;36m12\u001b[0m-\u001b[1;36m17\u001b[0m \u001b[1;92m12:15:39\u001b[0m   \n",
       "\u001b[1;36m7\u001b[0m  \u001b[1;36m19.957519\u001b[0m  \u001b[1;36m6.000000e-08\u001b[0m        \u001b[1;36m1\u001b[0m         \u001b[1;36m0\u001b[0m    API  \u001b[1;36m2024\u001b[0m-\u001b[1;36m12\u001b[0m-\u001b[1;36m17\u001b[0m \u001b[1;92m12:14:04\u001b[0m   \n",
       "\n",
       "             concluded  \n",
       "\u001b[1;36m0\u001b[0m  \u001b[1;36m2025\u001b[0m-\u001b[1;36m01\u001b[0m-\u001b[1;36m02\u001b[0m \u001b[1;92m12:22:00\u001b[0m  \n",
       "\u001b[1;36m1\u001b[0m  \u001b[1;36m2025\u001b[0m-\u001b[1;36m01\u001b[0m-\u001b[1;36m02\u001b[0m \u001b[1;92m12:22:00\u001b[0m  \n",
       "\u001b[1;36m2\u001b[0m  \u001b[1;36m2024\u001b[0m-\u001b[1;36m12\u001b[0m-\u001b[1;36m18\u001b[0m \u001b[1;92m16:07:51\u001b[0m  \n",
       "\u001b[1;36m3\u001b[0m  \u001b[1;36m2024\u001b[0m-\u001b[1;36m12\u001b[0m-\u001b[1;36m18\u001b[0m \u001b[1;92m15:42:26\u001b[0m  \n",
       "\u001b[1;36m4\u001b[0m  \u001b[1;36m2024\u001b[0m-\u001b[1;36m12\u001b[0m-\u001b[1;36m17\u001b[0m \u001b[1;92m22:42:58\u001b[0m  \n",
       "\u001b[1;36m5\u001b[0m  \u001b[1;36m2024\u001b[0m-\u001b[1;36m12\u001b[0m-\u001b[1;36m17\u001b[0m \u001b[1;92m12:17:48\u001b[0m  \n",
       "\u001b[1;36m6\u001b[0m  \u001b[1;36m2024\u001b[0m-\u001b[1;36m12\u001b[0m-\u001b[1;36m17\u001b[0m \u001b[1;92m12:15:39\u001b[0m  \n",
       "\u001b[1;36m7\u001b[0m  \u001b[1;36m2024\u001b[0m-\u001b[1;36m12\u001b[0m-\u001b[1;36m17\u001b[0m \u001b[1;92m12:14:05\u001b[0m  \n"
      ]
     },
     "metadata": {},
     "output_type": "display_data"
    }
   ],
   "source": [
    "ORDERS_FILE = CAMINHO + '/executed_orders.csv'\n",
    "\n",
    "executed_orders_df = pd.read_csv(ORDERS_FILE)\n",
    "# pegando todas as ordens de compra até a ultima ordem de venda\n",
    "# Filtra ordens executadas até a última ordem de venda\n",
    "last_sell_index = executed_orders_df[\n",
    "    executed_orders_df['type'] == 'SELL'\n",
    "].index[0]\n",
    "filtered_orders = executed_orders_df.loc[:last_sell_index]\n",
    "\n",
    "# Filtra apenas ordens de compra\n",
    "buy_orders = filtered_orders[filtered_orders['type'] == 'BUY']\n",
    "print(executed_orders_df)\n",
    "print(buy_orders)\n",
    "\n",
    "# criando uma lista de amount que ainda precisam ser\n",
    "# vendidos com seus respectivos preços e taxas\n",
    "amounts_to_sell = []\n"
   ]
  },
  {
   "cell_type": "markdown",
   "metadata": {},
   "source": [
    "Preciso de um grafico que me mostre o melhor momento para comprar bitcoin"
   ]
  },
  {
   "cell_type": "code",
   "execution_count": 8,
   "metadata": {},
   "outputs": [
    {
     "data": {
      "text/html": [
       "<pre style=\"white-space:pre;overflow-x:auto;line-height:normal;font-family:Menlo,'DejaVu Sans Mono',consolas,'Courier New',monospace\">DataFrame Info:\n",
       "</pre>\n"
      ],
      "text/plain": [
       "DataFrame Info:\n"
      ]
     },
     "metadata": {},
     "output_type": "display_data"
    },
    {
     "ename": "",
     "evalue": "",
     "output_type": "error",
     "traceback": [
      "\u001b[1;31mO Kernel deu pane ao executar o código na célula atual ou em uma célula anterior. \n",
      "\u001b[1;31mAnalise o código nas células para identificar uma possível causa da pane. \n",
      "\u001b[1;31mClique <a href='https://aka.ms/vscodeJupyterKernelCrash'>aqui</a> para obter mais informações. \n",
      "\u001b[1;31mConsulte Jupyter <a href='command:jupyter.viewOutput'>log</a> para obter mais detalhes."
     ]
    }
   ],
   "source": [
    "# Read the CSV file with error handling\n",
    "try:\n",
    "    df_bity = pd.read_csv(BTCBRL_BITY)\n",
    "\n",
    "    # Display basic information about the dataframe\n",
    "    print('DataFrame Info:')\n",
    "    print(df_bity.info())\n",
    "    print('\\nFirst few rows:')\n",
    "    display(df_bity.head())\n",
    "    print('\\nLast few rows:')\n",
    "    display(df_bity.tail())\n",
    "\n",
    "except Exception as e:\n",
    "    print(f'Error reading file: {e}')\n",
    "    # Try to identify the problematic rows\n",
    "    with open(BTCBRL_BITY, 'r', encoding='utf-8') as file:\n",
    "        for i, line in enumerate(file):\n",
    "            if len(line.split(',')) != len(file.readline().split(',')):\n",
    "                print(f'Inconsistent columns at line {i + 1}')\n",
    "                break"
   ]
  },
  {
   "cell_type": "code",
   "execution_count": 4,
   "metadata": {},
   "outputs": [
    {
     "data": {
      "text/html": [
       "<pre style=\"white-space:pre;overflow-x:auto;line-height:normal;font-family:Menlo,'DejaVu Sans Mono',consolas,'Courier New',monospace\">Cleaned DataFrame saved with <span style=\"color: #008080; text-decoration-color: #008080; font-weight: bold\">245334</span> rows\n",
       "</pre>\n"
      ],
      "text/plain": [
       "Cleaned DataFrame saved with \u001b[1;36m245334\u001b[0m rows\n"
      ]
     },
     "metadata": {},
     "output_type": "display_data"
    }
   ],
   "source": [
    "# Drop rows with any NaN values\n",
    "df_bity = df_bity.dropna()\n",
    "\n",
    "# Remove rows where any column has invalid values\n",
    "df_bity = df_bity[df_bity['timestamp'].notna()]  # Ensure timestamp is not null\n",
    "df_bity = df_bity[df_bity['close'] > 0]  # Remove rows with invalid prices\n",
    "\n",
    "# Convert timestamp to datetime if it's not already\n",
    "df_bity['timestamp'] = pd.to_datetime(df_bity['timestamp'])\n",
    "\n",
    "# Sort by timestamp\n",
    "df_bity = df_bity.sort_values('timestamp')\n",
    "\n",
    "# Reset index\n",
    "df_bity = df_bity.reset_index(drop=True)\n",
    "\n",
    "# Save the cleaned DataFrame back to the same file\n",
    "df_bity.to_csv(BTCBRL_BITY, index=False)\n",
    "\n",
    "print(f'Cleaned DataFrame saved with {len(df_bity)} rows')"
   ]
  },
  {
   "cell_type": "code",
   "execution_count": null,
   "metadata": {},
   "outputs": [],
   "source": [
    "orders_json = Orderbook().json()\n",
    "\n",
    "pp(orders_json)"
   ]
  },
  {
   "cell_type": "code",
   "execution_count": null,
   "metadata": {},
   "outputs": [],
   "source": [
    "# transformando em um dataframe pandas para ver no pygwalker\n",
    "df = pd.DataFrame(orders_json)\n",
    "\n",
    "# Expandir as colunas 'bids' e 'asks' em DataFrames separados\n",
    "bids_df = pd.DataFrame(orders_json['bids'])\n",
    "asks_df = pd.DataFrame(orders_json['asks'])\n",
    "\n",
    "# Adicionar uma coluna para indicar o tipo de ordem\n",
    "bids_df['type'] = 'bid'\n",
    "asks_df['type'] = 'ask'\n",
    "\n",
    "# Concatenar os DataFrames\n",
    "orders_df = pd.concat([bids_df, asks_df], ignore_index=True)\n",
    "\n",
    "# Exibir o DataFrame resultante\n",
    "display(orders_df)"
   ]
  },
  {
   "cell_type": "code",
   "execution_count": null,
   "metadata": {},
   "outputs": [],
   "source": [
    "pyg.walk(orders_df)"
   ]
  },
  {
   "cell_type": "markdown",
   "metadata": {},
   "source": [
    "### Retorna uma lista de ordens já executadas.\n",
    "\n",
    "Os retornos terão a seguinte estrutura:\n",
    "\n",
    "type - Se a ordem é do tipo compra ou do tipo venda;\n",
    "amount - Volume negociado na ordem;\n",
    "market - Moedas envolvidas na ordem;\n",
    "price - Preço do BTC no momento da ordem;\n",
    "timestamp - Timestamp da ordem."
   ]
  },
  {
   "cell_type": "code",
   "execution_count": null,
   "metadata": {},
   "outputs": [],
   "source": [
    "trades_df = pd.DataFrame(Trades().json())\n",
    "\n",
    "pyg.walk(trades_df)"
   ]
  },
  {
   "cell_type": "code",
   "execution_count": null,
   "metadata": {},
   "outputs": [],
   "source": [
    "# Set the starting timestamp (e.g., September 1, 2017)\n",
    "start_time = int(datetime(2017, 9, 1).timestamp() * 1000)\n",
    "\n",
    "# Get the current timestamp\n",
    "end_time = int(time.time() * 1000)\n",
    "\n",
    "# Initialize a list to store data frames\n",
    "data_frames = []\n",
    "\n",
    "# Maximum interval per request (200 days in milliseconds)\n",
    "max_interval = 200 * 24 * 60 * 60 * 1000\n",
    "\n",
    "# Loop over the time range\n",
    "current_time = start_time\n",
    "while current_time < end_time:\n",
    "    next_time = min(current_time + max_interval, end_time)\n",
    "    df = get_klines(\n",
    "        symbol='BTCBRL',\n",
    "        interval='2h',\n",
    "        startTime=current_time,\n",
    "        endTime=next_time,\n",
    "        limit=1500,\n",
    "    )\n",
    "    df['timestamp'] = pd.to_datetime(df['Kline open time'])\n",
    "    df = df.rename(\n",
    "        columns={\n",
    "            'Close price': 'close',\n",
    "            'High price': 'high',\n",
    "            'Low price': 'low',\n",
    "        }\n",
    "    )\n",
    "    data_frames.append(df)\n",
    "    current_time = next_time\n",
    "    time.sleep(1)  # Respect API rate limits\n",
    "\n",
    "# Combine all data frames into one\n",
    "full_df = pd.concat(data_frames, ignore_index=True)\n",
    "\n",
    "# Save the data to a CSV file\n",
    "full_df.to_csv(BTCBRL_FILE, index=False)"
   ]
  },
  {
   "cell_type": "code",
   "execution_count": 6,
   "metadata": {},
   "outputs": [
    {
     "data": {
      "text/html": [
       "<pre style=\"white-space:pre;overflow-x:auto;line-height:normal;font-family:Menlo,'DejaVu Sans Mono',consolas,'Courier New',monospace\"><span style=\"color: #800000; text-decoration-color: #800000\">Erro HTTP:</span> <span style=\"color: #008080; text-decoration-color: #008080; font-weight: bold\">400</span>\n",
       "</pre>\n"
      ],
      "text/plain": [
       "\u001b[31mErro HTTP:\u001b[0m \u001b[1;36m400\u001b[0m\n"
      ]
     },
     "metadata": {},
     "output_type": "display_data"
    },
    {
     "data": {
      "text/html": [
       "<pre style=\"white-space:pre;overflow-x:auto;line-height:normal;font-family:Menlo,'DejaVu Sans Mono',consolas,'Courier New',monospace\"><span style=\"color: #808000; text-decoration-color: #808000\">Conteúdo da página:</span>\n",
       "</pre>\n"
      ],
      "text/plain": [
       "\u001b[33mConteúdo da página:\u001b[0m\n"
      ]
     },
     "metadata": {},
     "output_type": "display_data"
    },
    {
     "data": {
      "text/html": [
       "<pre style=\"white-space:pre;overflow-x:auto;line-height:normal;font-family:Menlo,'DejaVu Sans Mono',consolas,'Courier New',monospace\"><span style=\"font-weight: bold\">{</span><span style=\"color: #008000; text-decoration-color: #008000\">\"s\"</span>:<span style=\"color: #008000; text-decoration-color: #008000\">\"error\"</span>,<span style=\"color: #008000; text-decoration-color: #008000\">\"errmsg\"</span>:<span style=\"color: #008000; text-decoration-color: #008000\">\"sizeCalculation return invalid (expect positive integer)\"</span><span style=\"font-weight: bold\">}</span>\n",
       "</pre>\n"
      ],
      "text/plain": [
       "\u001b[1m{\u001b[0m\u001b[32m\"s\"\u001b[0m:\u001b[32m\"error\"\u001b[0m,\u001b[32m\"errmsg\"\u001b[0m:\u001b[32m\"sizeCalculation return invalid \u001b[0m\u001b[32m(\u001b[0m\u001b[32mexpect positive integer\u001b[0m\u001b[32m)\u001b[0m\u001b[32m\"\u001b[0m\u001b[1m}\u001b[0m\n"
      ]
     },
     "metadata": {},
     "output_type": "display_data"
    },
    {
     "data": {
      "text/html": [
       "<pre style=\"white-space:pre;overflow-x:auto;line-height:normal;font-family:Menlo,'DejaVu Sans Mono',consolas,'Courier New',monospace\"><span style=\"color: #800000; text-decoration-color: #800000\">Erro HTTP:</span> <span style=\"color: #008080; text-decoration-color: #008080; font-weight: bold\">400</span>\n",
       "</pre>\n"
      ],
      "text/plain": [
       "\u001b[31mErro HTTP:\u001b[0m \u001b[1;36m400\u001b[0m\n"
      ]
     },
     "metadata": {},
     "output_type": "display_data"
    },
    {
     "data": {
      "text/html": [
       "<pre style=\"white-space:pre;overflow-x:auto;line-height:normal;font-family:Menlo,'DejaVu Sans Mono',consolas,'Courier New',monospace\"><span style=\"color: #808000; text-decoration-color: #808000\">Conteúdo da página:</span>\n",
       "</pre>\n"
      ],
      "text/plain": [
       "\u001b[33mConteúdo da página:\u001b[0m\n"
      ]
     },
     "metadata": {},
     "output_type": "display_data"
    },
    {
     "data": {
      "text/html": [
       "<pre style=\"white-space:pre;overflow-x:auto;line-height:normal;font-family:Menlo,'DejaVu Sans Mono',consolas,'Courier New',monospace\"><span style=\"font-weight: bold\">{</span><span style=\"color: #008000; text-decoration-color: #008000\">\"s\"</span>:<span style=\"color: #008000; text-decoration-color: #008000\">\"error\"</span>,<span style=\"color: #008000; text-decoration-color: #008000\">\"errmsg\"</span>:<span style=\"color: #008000; text-decoration-color: #008000\">\"sizeCalculation return invalid (expect positive integer)\"</span><span style=\"font-weight: bold\">}</span>\n",
       "</pre>\n"
      ],
      "text/plain": [
       "\u001b[1m{\u001b[0m\u001b[32m\"s\"\u001b[0m:\u001b[32m\"error\"\u001b[0m,\u001b[32m\"errmsg\"\u001b[0m:\u001b[32m\"sizeCalculation return invalid \u001b[0m\u001b[32m(\u001b[0m\u001b[32mexpect positive integer\u001b[0m\u001b[32m)\u001b[0m\u001b[32m\"\u001b[0m\u001b[1m}\u001b[0m\n"
      ]
     },
     "metadata": {},
     "output_type": "display_data"
    },
    {
     "data": {
      "text/html": [
       "<pre style=\"white-space:pre;overflow-x:auto;line-height:normal;font-family:Menlo,'DejaVu Sans Mono',consolas,'Courier New',monospace\"><span style=\"color: #800000; text-decoration-color: #800000\">Erro HTTP:</span> <span style=\"color: #008080; text-decoration-color: #008080; font-weight: bold\">400</span>\n",
       "</pre>\n"
      ],
      "text/plain": [
       "\u001b[31mErro HTTP:\u001b[0m \u001b[1;36m400\u001b[0m\n"
      ]
     },
     "metadata": {},
     "output_type": "display_data"
    },
    {
     "data": {
      "text/html": [
       "<pre style=\"white-space:pre;overflow-x:auto;line-height:normal;font-family:Menlo,'DejaVu Sans Mono',consolas,'Courier New',monospace\"><span style=\"color: #808000; text-decoration-color: #808000\">Conteúdo da página:</span>\n",
       "</pre>\n"
      ],
      "text/plain": [
       "\u001b[33mConteúdo da página:\u001b[0m\n"
      ]
     },
     "metadata": {},
     "output_type": "display_data"
    },
    {
     "data": {
      "text/html": [
       "<pre style=\"white-space:pre;overflow-x:auto;line-height:normal;font-family:Menlo,'DejaVu Sans Mono',consolas,'Courier New',monospace\"><span style=\"font-weight: bold\">{</span><span style=\"color: #008000; text-decoration-color: #008000\">\"s\"</span>:<span style=\"color: #008000; text-decoration-color: #008000\">\"error\"</span>,<span style=\"color: #008000; text-decoration-color: #008000\">\"errmsg\"</span>:<span style=\"color: #008000; text-decoration-color: #008000\">\"sizeCalculation return invalid (expect positive integer)\"</span><span style=\"font-weight: bold\">}</span>\n",
       "</pre>\n"
      ],
      "text/plain": [
       "\u001b[1m{\u001b[0m\u001b[32m\"s\"\u001b[0m:\u001b[32m\"error\"\u001b[0m,\u001b[32m\"errmsg\"\u001b[0m:\u001b[32m\"sizeCalculation return invalid \u001b[0m\u001b[32m(\u001b[0m\u001b[32mexpect positive integer\u001b[0m\u001b[32m)\u001b[0m\u001b[32m\"\u001b[0m\u001b[1m}\u001b[0m\n"
      ]
     },
     "metadata": {},
     "output_type": "display_data"
    },
    {
     "data": {
      "text/html": [
       "<pre style=\"white-space:pre;overflow-x:auto;line-height:normal;font-family:Menlo,'DejaVu Sans Mono',consolas,'Courier New',monospace\"><span style=\"color: #800000; text-decoration-color: #800000\">Erro HTTP:</span> <span style=\"color: #008080; text-decoration-color: #008080; font-weight: bold\">400</span>\n",
       "</pre>\n"
      ],
      "text/plain": [
       "\u001b[31mErro HTTP:\u001b[0m \u001b[1;36m400\u001b[0m\n"
      ]
     },
     "metadata": {},
     "output_type": "display_data"
    },
    {
     "data": {
      "text/html": [
       "<pre style=\"white-space:pre;overflow-x:auto;line-height:normal;font-family:Menlo,'DejaVu Sans Mono',consolas,'Courier New',monospace\"><span style=\"color: #808000; text-decoration-color: #808000\">Conteúdo da página:</span>\n",
       "</pre>\n"
      ],
      "text/plain": [
       "\u001b[33mConteúdo da página:\u001b[0m\n"
      ]
     },
     "metadata": {},
     "output_type": "display_data"
    },
    {
     "data": {
      "text/html": [
       "<pre style=\"white-space:pre;overflow-x:auto;line-height:normal;font-family:Menlo,'DejaVu Sans Mono',consolas,'Courier New',monospace\"><span style=\"font-weight: bold\">{</span><span style=\"color: #008000; text-decoration-color: #008000\">\"s\"</span>:<span style=\"color: #008000; text-decoration-color: #008000\">\"error\"</span>,<span style=\"color: #008000; text-decoration-color: #008000\">\"errmsg\"</span>:<span style=\"color: #008000; text-decoration-color: #008000\">\"sizeCalculation return invalid (expect positive integer)\"</span><span style=\"font-weight: bold\">}</span>\n",
       "</pre>\n"
      ],
      "text/plain": [
       "\u001b[1m{\u001b[0m\u001b[32m\"s\"\u001b[0m:\u001b[32m\"error\"\u001b[0m,\u001b[32m\"errmsg\"\u001b[0m:\u001b[32m\"sizeCalculation return invalid \u001b[0m\u001b[32m(\u001b[0m\u001b[32mexpect positive integer\u001b[0m\u001b[32m)\u001b[0m\u001b[32m\"\u001b[0m\u001b[1m}\u001b[0m\n"
      ]
     },
     "metadata": {},
     "output_type": "display_data"
    },
    {
     "data": {
      "text/html": [
       "<pre style=\"white-space:pre;overflow-x:auto;line-height:normal;font-family:Menlo,'DejaVu Sans Mono',consolas,'Courier New',monospace\"><span style=\"color: #800000; text-decoration-color: #800000\">Erro HTTP:</span> <span style=\"color: #008080; text-decoration-color: #008080; font-weight: bold\">400</span>\n",
       "</pre>\n"
      ],
      "text/plain": [
       "\u001b[31mErro HTTP:\u001b[0m \u001b[1;36m400\u001b[0m\n"
      ]
     },
     "metadata": {},
     "output_type": "display_data"
    },
    {
     "data": {
      "text/html": [
       "<pre style=\"white-space:pre;overflow-x:auto;line-height:normal;font-family:Menlo,'DejaVu Sans Mono',consolas,'Courier New',monospace\"><span style=\"color: #808000; text-decoration-color: #808000\">Conteúdo da página:</span>\n",
       "</pre>\n"
      ],
      "text/plain": [
       "\u001b[33mConteúdo da página:\u001b[0m\n"
      ]
     },
     "metadata": {},
     "output_type": "display_data"
    },
    {
     "data": {
      "text/html": [
       "<pre style=\"white-space:pre;overflow-x:auto;line-height:normal;font-family:Menlo,'DejaVu Sans Mono',consolas,'Courier New',monospace\"><span style=\"font-weight: bold\">{</span><span style=\"color: #008000; text-decoration-color: #008000\">\"s\"</span>:<span style=\"color: #008000; text-decoration-color: #008000\">\"error\"</span>,<span style=\"color: #008000; text-decoration-color: #008000\">\"errmsg\"</span>:<span style=\"color: #008000; text-decoration-color: #008000\">\"sizeCalculation return invalid (expect positive integer)\"</span><span style=\"font-weight: bold\">}</span>\n",
       "</pre>\n"
      ],
      "text/plain": [
       "\u001b[1m{\u001b[0m\u001b[32m\"s\"\u001b[0m:\u001b[32m\"error\"\u001b[0m,\u001b[32m\"errmsg\"\u001b[0m:\u001b[32m\"sizeCalculation return invalid \u001b[0m\u001b[32m(\u001b[0m\u001b[32mexpect positive integer\u001b[0m\u001b[32m)\u001b[0m\u001b[32m\"\u001b[0m\u001b[1m}\u001b[0m\n"
      ]
     },
     "metadata": {},
     "output_type": "display_data"
    },
    {
     "data": {
      "text/html": [
       "<pre style=\"white-space:pre;overflow-x:auto;line-height:normal;font-family:Menlo,'DejaVu Sans Mono',consolas,'Courier New',monospace\"><span style=\"color: #800000; text-decoration-color: #800000\">Erro HTTP:</span> <span style=\"color: #008080; text-decoration-color: #008080; font-weight: bold\">400</span>\n",
       "</pre>\n"
      ],
      "text/plain": [
       "\u001b[31mErro HTTP:\u001b[0m \u001b[1;36m400\u001b[0m\n"
      ]
     },
     "metadata": {},
     "output_type": "display_data"
    },
    {
     "data": {
      "text/html": [
       "<pre style=\"white-space:pre;overflow-x:auto;line-height:normal;font-family:Menlo,'DejaVu Sans Mono',consolas,'Courier New',monospace\"><span style=\"color: #808000; text-decoration-color: #808000\">Conteúdo da página:</span>\n",
       "</pre>\n"
      ],
      "text/plain": [
       "\u001b[33mConteúdo da página:\u001b[0m\n"
      ]
     },
     "metadata": {},
     "output_type": "display_data"
    },
    {
     "data": {
      "text/html": [
       "<pre style=\"white-space:pre;overflow-x:auto;line-height:normal;font-family:Menlo,'DejaVu Sans Mono',consolas,'Courier New',monospace\"><span style=\"font-weight: bold\">{</span><span style=\"color: #008000; text-decoration-color: #008000\">\"s\"</span>:<span style=\"color: #008000; text-decoration-color: #008000\">\"error\"</span>,<span style=\"color: #008000; text-decoration-color: #008000\">\"errmsg\"</span>:<span style=\"color: #008000; text-decoration-color: #008000\">\"sizeCalculation return invalid (expect positive integer)\"</span><span style=\"font-weight: bold\">}</span>\n",
       "</pre>\n"
      ],
      "text/plain": [
       "\u001b[1m{\u001b[0m\u001b[32m\"s\"\u001b[0m:\u001b[32m\"error\"\u001b[0m,\u001b[32m\"errmsg\"\u001b[0m:\u001b[32m\"sizeCalculation return invalid \u001b[0m\u001b[32m(\u001b[0m\u001b[32mexpect positive integer\u001b[0m\u001b[32m)\u001b[0m\u001b[32m\"\u001b[0m\u001b[1m}\u001b[0m\n"
      ]
     },
     "metadata": {},
     "output_type": "display_data"
    },
    {
     "data": {
      "text/html": [
       "<pre style=\"white-space:pre;overflow-x:auto;line-height:normal;font-family:Menlo,'DejaVu Sans Mono',consolas,'Courier New',monospace\"><span style=\"color: #800000; text-decoration-color: #800000\">Erro HTTP:</span> <span style=\"color: #008080; text-decoration-color: #008080; font-weight: bold\">400</span>\n",
       "</pre>\n"
      ],
      "text/plain": [
       "\u001b[31mErro HTTP:\u001b[0m \u001b[1;36m400\u001b[0m\n"
      ]
     },
     "metadata": {},
     "output_type": "display_data"
    },
    {
     "data": {
      "text/html": [
       "<pre style=\"white-space:pre;overflow-x:auto;line-height:normal;font-family:Menlo,'DejaVu Sans Mono',consolas,'Courier New',monospace\"><span style=\"color: #808000; text-decoration-color: #808000\">Conteúdo da página:</span>\n",
       "</pre>\n"
      ],
      "text/plain": [
       "\u001b[33mConteúdo da página:\u001b[0m\n"
      ]
     },
     "metadata": {},
     "output_type": "display_data"
    },
    {
     "data": {
      "text/html": [
       "<pre style=\"white-space:pre;overflow-x:auto;line-height:normal;font-family:Menlo,'DejaVu Sans Mono',consolas,'Courier New',monospace\"><span style=\"font-weight: bold\">{</span><span style=\"color: #008000; text-decoration-color: #008000\">\"s\"</span>:<span style=\"color: #008000; text-decoration-color: #008000\">\"error\"</span>,<span style=\"color: #008000; text-decoration-color: #008000\">\"errmsg\"</span>:<span style=\"color: #008000; text-decoration-color: #008000\">\"sizeCalculation return invalid (expect positive integer)\"</span><span style=\"font-weight: bold\">}</span>\n",
       "</pre>\n"
      ],
      "text/plain": [
       "\u001b[1m{\u001b[0m\u001b[32m\"s\"\u001b[0m:\u001b[32m\"error\"\u001b[0m,\u001b[32m\"errmsg\"\u001b[0m:\u001b[32m\"sizeCalculation return invalid \u001b[0m\u001b[32m(\u001b[0m\u001b[32mexpect positive integer\u001b[0m\u001b[32m)\u001b[0m\u001b[32m\"\u001b[0m\u001b[1m}\u001b[0m\n"
      ]
     },
     "metadata": {},
     "output_type": "display_data"
    },
    {
     "data": {
      "text/html": [
       "<pre style=\"white-space:pre;overflow-x:auto;line-height:normal;font-family:Menlo,'DejaVu Sans Mono',consolas,'Courier New',monospace\"><span style=\"color: #800000; text-decoration-color: #800000\">Erro HTTP:</span> <span style=\"color: #008080; text-decoration-color: #008080; font-weight: bold\">400</span>\n",
       "</pre>\n"
      ],
      "text/plain": [
       "\u001b[31mErro HTTP:\u001b[0m \u001b[1;36m400\u001b[0m\n"
      ]
     },
     "metadata": {},
     "output_type": "display_data"
    },
    {
     "data": {
      "text/html": [
       "<pre style=\"white-space:pre;overflow-x:auto;line-height:normal;font-family:Menlo,'DejaVu Sans Mono',consolas,'Courier New',monospace\"><span style=\"color: #808000; text-decoration-color: #808000\">Conteúdo da página:</span>\n",
       "</pre>\n"
      ],
      "text/plain": [
       "\u001b[33mConteúdo da página:\u001b[0m\n"
      ]
     },
     "metadata": {},
     "output_type": "display_data"
    },
    {
     "data": {
      "text/html": [
       "<pre style=\"white-space:pre;overflow-x:auto;line-height:normal;font-family:Menlo,'DejaVu Sans Mono',consolas,'Courier New',monospace\"><span style=\"font-weight: bold\">{</span><span style=\"color: #008000; text-decoration-color: #008000\">\"s\"</span>:<span style=\"color: #008000; text-decoration-color: #008000\">\"error\"</span>,<span style=\"color: #008000; text-decoration-color: #008000\">\"errmsg\"</span>:<span style=\"color: #008000; text-decoration-color: #008000\">\"sizeCalculation return invalid (expect positive integer)\"</span><span style=\"font-weight: bold\">}</span>\n",
       "</pre>\n"
      ],
      "text/plain": [
       "\u001b[1m{\u001b[0m\u001b[32m\"s\"\u001b[0m:\u001b[32m\"error\"\u001b[0m,\u001b[32m\"errmsg\"\u001b[0m:\u001b[32m\"sizeCalculation return invalid \u001b[0m\u001b[32m(\u001b[0m\u001b[32mexpect positive integer\u001b[0m\u001b[32m)\u001b[0m\u001b[32m\"\u001b[0m\u001b[1m}\u001b[0m\n"
      ]
     },
     "metadata": {},
     "output_type": "display_data"
    },
    {
     "data": {
      "text/html": [
       "<pre style=\"white-space:pre;overflow-x:auto;line-height:normal;font-family:Menlo,'DejaVu Sans Mono',consolas,'Courier New',monospace\"><span style=\"color: #800000; text-decoration-color: #800000\">Erro HTTP:</span> <span style=\"color: #008080; text-decoration-color: #008080; font-weight: bold\">400</span>\n",
       "</pre>\n"
      ],
      "text/plain": [
       "\u001b[31mErro HTTP:\u001b[0m \u001b[1;36m400\u001b[0m\n"
      ]
     },
     "metadata": {},
     "output_type": "display_data"
    },
    {
     "data": {
      "text/html": [
       "<pre style=\"white-space:pre;overflow-x:auto;line-height:normal;font-family:Menlo,'DejaVu Sans Mono',consolas,'Courier New',monospace\"><span style=\"color: #808000; text-decoration-color: #808000\">Conteúdo da página:</span>\n",
       "</pre>\n"
      ],
      "text/plain": [
       "\u001b[33mConteúdo da página:\u001b[0m\n"
      ]
     },
     "metadata": {},
     "output_type": "display_data"
    },
    {
     "data": {
      "text/html": [
       "<pre style=\"white-space:pre;overflow-x:auto;line-height:normal;font-family:Menlo,'DejaVu Sans Mono',consolas,'Courier New',monospace\"><span style=\"font-weight: bold\">{</span><span style=\"color: #008000; text-decoration-color: #008000\">\"s\"</span>:<span style=\"color: #008000; text-decoration-color: #008000\">\"error\"</span>,<span style=\"color: #008000; text-decoration-color: #008000\">\"errmsg\"</span>:<span style=\"color: #008000; text-decoration-color: #008000\">\"sizeCalculation return invalid (expect positive integer)\"</span><span style=\"font-weight: bold\">}</span>\n",
       "</pre>\n"
      ],
      "text/plain": [
       "\u001b[1m{\u001b[0m\u001b[32m\"s\"\u001b[0m:\u001b[32m\"error\"\u001b[0m,\u001b[32m\"errmsg\"\u001b[0m:\u001b[32m\"sizeCalculation return invalid \u001b[0m\u001b[32m(\u001b[0m\u001b[32mexpect positive integer\u001b[0m\u001b[32m)\u001b[0m\u001b[32m\"\u001b[0m\u001b[1m}\u001b[0m\n"
      ]
     },
     "metadata": {},
     "output_type": "display_data"
    },
    {
     "data": {
      "text/html": [
       "<pre style=\"white-space:pre;overflow-x:auto;line-height:normal;font-family:Menlo,'DejaVu Sans Mono',consolas,'Courier New',monospace\"><span style=\"color: #800000; text-decoration-color: #800000\">Erro HTTP:</span> <span style=\"color: #008080; text-decoration-color: #008080; font-weight: bold\">400</span>\n",
       "</pre>\n"
      ],
      "text/plain": [
       "\u001b[31mErro HTTP:\u001b[0m \u001b[1;36m400\u001b[0m\n"
      ]
     },
     "metadata": {},
     "output_type": "display_data"
    },
    {
     "data": {
      "text/html": [
       "<pre style=\"white-space:pre;overflow-x:auto;line-height:normal;font-family:Menlo,'DejaVu Sans Mono',consolas,'Courier New',monospace\"><span style=\"color: #808000; text-decoration-color: #808000\">Conteúdo da página:</span>\n",
       "</pre>\n"
      ],
      "text/plain": [
       "\u001b[33mConteúdo da página:\u001b[0m\n"
      ]
     },
     "metadata": {},
     "output_type": "display_data"
    },
    {
     "data": {
      "text/html": [
       "<pre style=\"white-space:pre;overflow-x:auto;line-height:normal;font-family:Menlo,'DejaVu Sans Mono',consolas,'Courier New',monospace\"><span style=\"font-weight: bold\">{</span><span style=\"color: #008000; text-decoration-color: #008000\">\"s\"</span>:<span style=\"color: #008000; text-decoration-color: #008000\">\"error\"</span>,<span style=\"color: #008000; text-decoration-color: #008000\">\"errmsg\"</span>:<span style=\"color: #008000; text-decoration-color: #008000\">\"sizeCalculation return invalid (expect positive integer)\"</span><span style=\"font-weight: bold\">}</span>\n",
       "</pre>\n"
      ],
      "text/plain": [
       "\u001b[1m{\u001b[0m\u001b[32m\"s\"\u001b[0m:\u001b[32m\"error\"\u001b[0m,\u001b[32m\"errmsg\"\u001b[0m:\u001b[32m\"sizeCalculation return invalid \u001b[0m\u001b[32m(\u001b[0m\u001b[32mexpect positive integer\u001b[0m\u001b[32m)\u001b[0m\u001b[32m\"\u001b[0m\u001b[1m}\u001b[0m\n"
      ]
     },
     "metadata": {},
     "output_type": "display_data"
    },
    {
     "data": {
      "text/html": [
       "<pre style=\"white-space:pre;overflow-x:auto;line-height:normal;font-family:Menlo,'DejaVu Sans Mono',consolas,'Courier New',monospace\"><span style=\"color: #800000; text-decoration-color: #800000\">Erro HTTP:</span> <span style=\"color: #008080; text-decoration-color: #008080; font-weight: bold\">400</span>\n",
       "</pre>\n"
      ],
      "text/plain": [
       "\u001b[31mErro HTTP:\u001b[0m \u001b[1;36m400\u001b[0m\n"
      ]
     },
     "metadata": {},
     "output_type": "display_data"
    },
    {
     "data": {
      "text/html": [
       "<pre style=\"white-space:pre;overflow-x:auto;line-height:normal;font-family:Menlo,'DejaVu Sans Mono',consolas,'Courier New',monospace\"><span style=\"color: #808000; text-decoration-color: #808000\">Conteúdo da página:</span>\n",
       "</pre>\n"
      ],
      "text/plain": [
       "\u001b[33mConteúdo da página:\u001b[0m\n"
      ]
     },
     "metadata": {},
     "output_type": "display_data"
    },
    {
     "data": {
      "text/html": [
       "<pre style=\"white-space:pre;overflow-x:auto;line-height:normal;font-family:Menlo,'DejaVu Sans Mono',consolas,'Courier New',monospace\"><span style=\"font-weight: bold\">{</span><span style=\"color: #008000; text-decoration-color: #008000\">\"s\"</span>:<span style=\"color: #008000; text-decoration-color: #008000\">\"error\"</span>,<span style=\"color: #008000; text-decoration-color: #008000\">\"errmsg\"</span>:<span style=\"color: #008000; text-decoration-color: #008000\">\"sizeCalculation return invalid (expect positive integer)\"</span><span style=\"font-weight: bold\">}</span>\n",
       "</pre>\n"
      ],
      "text/plain": [
       "\u001b[1m{\u001b[0m\u001b[32m\"s\"\u001b[0m:\u001b[32m\"error\"\u001b[0m,\u001b[32m\"errmsg\"\u001b[0m:\u001b[32m\"sizeCalculation return invalid \u001b[0m\u001b[32m(\u001b[0m\u001b[32mexpect positive integer\u001b[0m\u001b[32m)\u001b[0m\u001b[32m\"\u001b[0m\u001b[1m}\u001b[0m\n"
      ]
     },
     "metadata": {},
     "output_type": "display_data"
    },
    {
     "data": {
      "text/html": [
       "<pre style=\"white-space:pre;overflow-x:auto;line-height:normal;font-family:Menlo,'DejaVu Sans Mono',consolas,'Courier New',monospace\"><span style=\"color: #800000; text-decoration-color: #800000\">Erro HTTP:</span> <span style=\"color: #008080; text-decoration-color: #008080; font-weight: bold\">400</span>\n",
       "</pre>\n"
      ],
      "text/plain": [
       "\u001b[31mErro HTTP:\u001b[0m \u001b[1;36m400\u001b[0m\n"
      ]
     },
     "metadata": {},
     "output_type": "display_data"
    },
    {
     "data": {
      "text/html": [
       "<pre style=\"white-space:pre;overflow-x:auto;line-height:normal;font-family:Menlo,'DejaVu Sans Mono',consolas,'Courier New',monospace\"><span style=\"color: #808000; text-decoration-color: #808000\">Conteúdo da página:</span>\n",
       "</pre>\n"
      ],
      "text/plain": [
       "\u001b[33mConteúdo da página:\u001b[0m\n"
      ]
     },
     "metadata": {},
     "output_type": "display_data"
    },
    {
     "data": {
      "text/html": [
       "<pre style=\"white-space:pre;overflow-x:auto;line-height:normal;font-family:Menlo,'DejaVu Sans Mono',consolas,'Courier New',monospace\"><span style=\"font-weight: bold\">{</span><span style=\"color: #008000; text-decoration-color: #008000\">\"s\"</span>:<span style=\"color: #008000; text-decoration-color: #008000\">\"error\"</span>,<span style=\"color: #008000; text-decoration-color: #008000\">\"errmsg\"</span>:<span style=\"color: #008000; text-decoration-color: #008000\">\"sizeCalculation return invalid (expect positive integer)\"</span><span style=\"font-weight: bold\">}</span>\n",
       "</pre>\n"
      ],
      "text/plain": [
       "\u001b[1m{\u001b[0m\u001b[32m\"s\"\u001b[0m:\u001b[32m\"error\"\u001b[0m,\u001b[32m\"errmsg\"\u001b[0m:\u001b[32m\"sizeCalculation return invalid \u001b[0m\u001b[32m(\u001b[0m\u001b[32mexpect positive integer\u001b[0m\u001b[32m)\u001b[0m\u001b[32m\"\u001b[0m\u001b[1m}\u001b[0m\n"
      ]
     },
     "metadata": {},
     "output_type": "display_data"
    },
    {
     "data": {
      "text/html": [
       "<pre style=\"white-space:pre;overflow-x:auto;line-height:normal;font-family:Menlo,'DejaVu Sans Mono',consolas,'Courier New',monospace\"><span style=\"color: #800000; text-decoration-color: #800000\">Erro HTTP:</span> <span style=\"color: #008080; text-decoration-color: #008080; font-weight: bold\">400</span>\n",
       "</pre>\n"
      ],
      "text/plain": [
       "\u001b[31mErro HTTP:\u001b[0m \u001b[1;36m400\u001b[0m\n"
      ]
     },
     "metadata": {},
     "output_type": "display_data"
    },
    {
     "data": {
      "text/html": [
       "<pre style=\"white-space:pre;overflow-x:auto;line-height:normal;font-family:Menlo,'DejaVu Sans Mono',consolas,'Courier New',monospace\"><span style=\"color: #808000; text-decoration-color: #808000\">Conteúdo da página:</span>\n",
       "</pre>\n"
      ],
      "text/plain": [
       "\u001b[33mConteúdo da página:\u001b[0m\n"
      ]
     },
     "metadata": {},
     "output_type": "display_data"
    },
    {
     "data": {
      "text/html": [
       "<pre style=\"white-space:pre;overflow-x:auto;line-height:normal;font-family:Menlo,'DejaVu Sans Mono',consolas,'Courier New',monospace\"><span style=\"font-weight: bold\">{</span><span style=\"color: #008000; text-decoration-color: #008000\">\"s\"</span>:<span style=\"color: #008000; text-decoration-color: #008000\">\"error\"</span>,<span style=\"color: #008000; text-decoration-color: #008000\">\"errmsg\"</span>:<span style=\"color: #008000; text-decoration-color: #008000\">\"sizeCalculation return invalid (expect positive integer)\"</span><span style=\"font-weight: bold\">}</span>\n",
       "</pre>\n"
      ],
      "text/plain": [
       "\u001b[1m{\u001b[0m\u001b[32m\"s\"\u001b[0m:\u001b[32m\"error\"\u001b[0m,\u001b[32m\"errmsg\"\u001b[0m:\u001b[32m\"sizeCalculation return invalid \u001b[0m\u001b[32m(\u001b[0m\u001b[32mexpect positive integer\u001b[0m\u001b[32m)\u001b[0m\u001b[32m\"\u001b[0m\u001b[1m}\u001b[0m\n"
      ]
     },
     "metadata": {},
     "output_type": "display_data"
    },
    {
     "data": {
      "text/html": [
       "<pre style=\"white-space:pre;overflow-x:auto;line-height:normal;font-family:Menlo,'DejaVu Sans Mono',consolas,'Courier New',monospace\"><span style=\"color: #800000; text-decoration-color: #800000\">Erro HTTP:</span> <span style=\"color: #008080; text-decoration-color: #008080; font-weight: bold\">400</span>\n",
       "</pre>\n"
      ],
      "text/plain": [
       "\u001b[31mErro HTTP:\u001b[0m \u001b[1;36m400\u001b[0m\n"
      ]
     },
     "metadata": {},
     "output_type": "display_data"
    },
    {
     "data": {
      "text/html": [
       "<pre style=\"white-space:pre;overflow-x:auto;line-height:normal;font-family:Menlo,'DejaVu Sans Mono',consolas,'Courier New',monospace\"><span style=\"color: #808000; text-decoration-color: #808000\">Conteúdo da página:</span>\n",
       "</pre>\n"
      ],
      "text/plain": [
       "\u001b[33mConteúdo da página:\u001b[0m\n"
      ]
     },
     "metadata": {},
     "output_type": "display_data"
    },
    {
     "data": {
      "text/html": [
       "<pre style=\"white-space:pre;overflow-x:auto;line-height:normal;font-family:Menlo,'DejaVu Sans Mono',consolas,'Courier New',monospace\"><span style=\"font-weight: bold\">{</span><span style=\"color: #008000; text-decoration-color: #008000\">\"s\"</span>:<span style=\"color: #008000; text-decoration-color: #008000\">\"error\"</span>,<span style=\"color: #008000; text-decoration-color: #008000\">\"errmsg\"</span>:<span style=\"color: #008000; text-decoration-color: #008000\">\"sizeCalculation return invalid (expect positive integer)\"</span><span style=\"font-weight: bold\">}</span>\n",
       "</pre>\n"
      ],
      "text/plain": [
       "\u001b[1m{\u001b[0m\u001b[32m\"s\"\u001b[0m:\u001b[32m\"error\"\u001b[0m,\u001b[32m\"errmsg\"\u001b[0m:\u001b[32m\"sizeCalculation return invalid \u001b[0m\u001b[32m(\u001b[0m\u001b[32mexpect positive integer\u001b[0m\u001b[32m)\u001b[0m\u001b[32m\"\u001b[0m\u001b[1m}\u001b[0m\n"
      ]
     },
     "metadata": {},
     "output_type": "display_data"
    },
    {
     "data": {
      "text/html": [
       "<pre style=\"white-space:pre;overflow-x:auto;line-height:normal;font-family:Menlo,'DejaVu Sans Mono',consolas,'Courier New',monospace\"><span style=\"color: #800000; text-decoration-color: #800000\">Erro HTTP:</span> <span style=\"color: #008080; text-decoration-color: #008080; font-weight: bold\">400</span>\n",
       "</pre>\n"
      ],
      "text/plain": [
       "\u001b[31mErro HTTP:\u001b[0m \u001b[1;36m400\u001b[0m\n"
      ]
     },
     "metadata": {},
     "output_type": "display_data"
    },
    {
     "data": {
      "text/html": [
       "<pre style=\"white-space:pre;overflow-x:auto;line-height:normal;font-family:Menlo,'DejaVu Sans Mono',consolas,'Courier New',monospace\"><span style=\"color: #808000; text-decoration-color: #808000\">Conteúdo da página:</span>\n",
       "</pre>\n"
      ],
      "text/plain": [
       "\u001b[33mConteúdo da página:\u001b[0m\n"
      ]
     },
     "metadata": {},
     "output_type": "display_data"
    },
    {
     "data": {
      "text/html": [
       "<pre style=\"white-space:pre;overflow-x:auto;line-height:normal;font-family:Menlo,'DejaVu Sans Mono',consolas,'Courier New',monospace\"><span style=\"font-weight: bold\">{</span><span style=\"color: #008000; text-decoration-color: #008000\">\"s\"</span>:<span style=\"color: #008000; text-decoration-color: #008000\">\"error\"</span>,<span style=\"color: #008000; text-decoration-color: #008000\">\"errmsg\"</span>:<span style=\"color: #008000; text-decoration-color: #008000\">\"sizeCalculation return invalid (expect positive integer)\"</span><span style=\"font-weight: bold\">}</span>\n",
       "</pre>\n"
      ],
      "text/plain": [
       "\u001b[1m{\u001b[0m\u001b[32m\"s\"\u001b[0m:\u001b[32m\"error\"\u001b[0m,\u001b[32m\"errmsg\"\u001b[0m:\u001b[32m\"sizeCalculation return invalid \u001b[0m\u001b[32m(\u001b[0m\u001b[32mexpect positive integer\u001b[0m\u001b[32m)\u001b[0m\u001b[32m\"\u001b[0m\u001b[1m}\u001b[0m\n"
      ]
     },
     "metadata": {},
     "output_type": "display_data"
    },
    {
     "data": {
      "text/html": [
       "<pre style=\"white-space:pre;overflow-x:auto;line-height:normal;font-family:Menlo,'DejaVu Sans Mono',consolas,'Courier New',monospace\"><span style=\"color: #800000; text-decoration-color: #800000\">Erro HTTP:</span> <span style=\"color: #008080; text-decoration-color: #008080; font-weight: bold\">400</span>\n",
       "</pre>\n"
      ],
      "text/plain": [
       "\u001b[31mErro HTTP:\u001b[0m \u001b[1;36m400\u001b[0m\n"
      ]
     },
     "metadata": {},
     "output_type": "display_data"
    },
    {
     "data": {
      "text/html": [
       "<pre style=\"white-space:pre;overflow-x:auto;line-height:normal;font-family:Menlo,'DejaVu Sans Mono',consolas,'Courier New',monospace\"><span style=\"color: #808000; text-decoration-color: #808000\">Conteúdo da página:</span>\n",
       "</pre>\n"
      ],
      "text/plain": [
       "\u001b[33mConteúdo da página:\u001b[0m\n"
      ]
     },
     "metadata": {},
     "output_type": "display_data"
    },
    {
     "data": {
      "text/html": [
       "<pre style=\"white-space:pre;overflow-x:auto;line-height:normal;font-family:Menlo,'DejaVu Sans Mono',consolas,'Courier New',monospace\"><span style=\"font-weight: bold\">{</span><span style=\"color: #008000; text-decoration-color: #008000\">\"s\"</span>:<span style=\"color: #008000; text-decoration-color: #008000\">\"error\"</span>,<span style=\"color: #008000; text-decoration-color: #008000\">\"errmsg\"</span>:<span style=\"color: #008000; text-decoration-color: #008000\">\"sizeCalculation return invalid (expect positive integer)\"</span><span style=\"font-weight: bold\">}</span>\n",
       "</pre>\n"
      ],
      "text/plain": [
       "\u001b[1m{\u001b[0m\u001b[32m\"s\"\u001b[0m:\u001b[32m\"error\"\u001b[0m,\u001b[32m\"errmsg\"\u001b[0m:\u001b[32m\"sizeCalculation return invalid \u001b[0m\u001b[32m(\u001b[0m\u001b[32mexpect positive integer\u001b[0m\u001b[32m)\u001b[0m\u001b[32m\"\u001b[0m\u001b[1m}\u001b[0m\n"
      ]
     },
     "metadata": {},
     "output_type": "display_data"
    },
    {
     "data": {
      "text/html": [
       "<pre style=\"white-space:pre;overflow-x:auto;line-height:normal;font-family:Menlo,'DejaVu Sans Mono',consolas,'Courier New',monospace\"><span style=\"color: #800000; text-decoration-color: #800000\">Erro HTTP:</span> <span style=\"color: #008080; text-decoration-color: #008080; font-weight: bold\">400</span>\n",
       "</pre>\n"
      ],
      "text/plain": [
       "\u001b[31mErro HTTP:\u001b[0m \u001b[1;36m400\u001b[0m\n"
      ]
     },
     "metadata": {},
     "output_type": "display_data"
    },
    {
     "data": {
      "text/html": [
       "<pre style=\"white-space:pre;overflow-x:auto;line-height:normal;font-family:Menlo,'DejaVu Sans Mono',consolas,'Courier New',monospace\"><span style=\"color: #808000; text-decoration-color: #808000\">Conteúdo da página:</span>\n",
       "</pre>\n"
      ],
      "text/plain": [
       "\u001b[33mConteúdo da página:\u001b[0m\n"
      ]
     },
     "metadata": {},
     "output_type": "display_data"
    },
    {
     "data": {
      "text/html": [
       "<pre style=\"white-space:pre;overflow-x:auto;line-height:normal;font-family:Menlo,'DejaVu Sans Mono',consolas,'Courier New',monospace\"><span style=\"font-weight: bold\">{</span><span style=\"color: #008000; text-decoration-color: #008000\">\"s\"</span>:<span style=\"color: #008000; text-decoration-color: #008000\">\"error\"</span>,<span style=\"color: #008000; text-decoration-color: #008000\">\"errmsg\"</span>:<span style=\"color: #008000; text-decoration-color: #008000\">\"sizeCalculation return invalid (expect positive integer)\"</span><span style=\"font-weight: bold\">}</span>\n",
       "</pre>\n"
      ],
      "text/plain": [
       "\u001b[1m{\u001b[0m\u001b[32m\"s\"\u001b[0m:\u001b[32m\"error\"\u001b[0m,\u001b[32m\"errmsg\"\u001b[0m:\u001b[32m\"sizeCalculation return invalid \u001b[0m\u001b[32m(\u001b[0m\u001b[32mexpect positive integer\u001b[0m\u001b[32m)\u001b[0m\u001b[32m\"\u001b[0m\u001b[1m}\u001b[0m\n"
      ]
     },
     "metadata": {},
     "output_type": "display_data"
    },
    {
     "data": {
      "text/html": [
       "<pre style=\"white-space:pre;overflow-x:auto;line-height:normal;font-family:Menlo,'DejaVu Sans Mono',consolas,'Courier New',monospace\"><span style=\"color: #800000; text-decoration-color: #800000\">Erro HTTP:</span> <span style=\"color: #008080; text-decoration-color: #008080; font-weight: bold\">400</span>\n",
       "</pre>\n"
      ],
      "text/plain": [
       "\u001b[31mErro HTTP:\u001b[0m \u001b[1;36m400\u001b[0m\n"
      ]
     },
     "metadata": {},
     "output_type": "display_data"
    },
    {
     "data": {
      "text/html": [
       "<pre style=\"white-space:pre;overflow-x:auto;line-height:normal;font-family:Menlo,'DejaVu Sans Mono',consolas,'Courier New',monospace\"><span style=\"color: #808000; text-decoration-color: #808000\">Conteúdo da página:</span>\n",
       "</pre>\n"
      ],
      "text/plain": [
       "\u001b[33mConteúdo da página:\u001b[0m\n"
      ]
     },
     "metadata": {},
     "output_type": "display_data"
    },
    {
     "data": {
      "text/html": [
       "<pre style=\"white-space:pre;overflow-x:auto;line-height:normal;font-family:Menlo,'DejaVu Sans Mono',consolas,'Courier New',monospace\"><span style=\"font-weight: bold\">{</span><span style=\"color: #008000; text-decoration-color: #008000\">\"s\"</span>:<span style=\"color: #008000; text-decoration-color: #008000\">\"error\"</span>,<span style=\"color: #008000; text-decoration-color: #008000\">\"errmsg\"</span>:<span style=\"color: #008000; text-decoration-color: #008000\">\"sizeCalculation return invalid (expect positive integer)\"</span><span style=\"font-weight: bold\">}</span>\n",
       "</pre>\n"
      ],
      "text/plain": [
       "\u001b[1m{\u001b[0m\u001b[32m\"s\"\u001b[0m:\u001b[32m\"error\"\u001b[0m,\u001b[32m\"errmsg\"\u001b[0m:\u001b[32m\"sizeCalculation return invalid \u001b[0m\u001b[32m(\u001b[0m\u001b[32mexpect positive integer\u001b[0m\u001b[32m)\u001b[0m\u001b[32m\"\u001b[0m\u001b[1m}\u001b[0m\n"
      ]
     },
     "metadata": {},
     "output_type": "display_data"
    },
    {
     "data": {
      "text/html": [
       "<pre style=\"white-space:pre;overflow-x:auto;line-height:normal;font-family:Menlo,'DejaVu Sans Mono',consolas,'Courier New',monospace\"><span style=\"color: #800000; text-decoration-color: #800000\">Erro HTTP:</span> <span style=\"color: #008080; text-decoration-color: #008080; font-weight: bold\">400</span>\n",
       "</pre>\n"
      ],
      "text/plain": [
       "\u001b[31mErro HTTP:\u001b[0m \u001b[1;36m400\u001b[0m\n"
      ]
     },
     "metadata": {},
     "output_type": "display_data"
    },
    {
     "data": {
      "text/html": [
       "<pre style=\"white-space:pre;overflow-x:auto;line-height:normal;font-family:Menlo,'DejaVu Sans Mono',consolas,'Courier New',monospace\"><span style=\"color: #808000; text-decoration-color: #808000\">Conteúdo da página:</span>\n",
       "</pre>\n"
      ],
      "text/plain": [
       "\u001b[33mConteúdo da página:\u001b[0m\n"
      ]
     },
     "metadata": {},
     "output_type": "display_data"
    },
    {
     "data": {
      "text/html": [
       "<pre style=\"white-space:pre;overflow-x:auto;line-height:normal;font-family:Menlo,'DejaVu Sans Mono',consolas,'Courier New',monospace\"><span style=\"font-weight: bold\">{</span><span style=\"color: #008000; text-decoration-color: #008000\">\"s\"</span>:<span style=\"color: #008000; text-decoration-color: #008000\">\"error\"</span>,<span style=\"color: #008000; text-decoration-color: #008000\">\"errmsg\"</span>:<span style=\"color: #008000; text-decoration-color: #008000\">\"sizeCalculation return invalid (expect positive integer)\"</span><span style=\"font-weight: bold\">}</span>\n",
       "</pre>\n"
      ],
      "text/plain": [
       "\u001b[1m{\u001b[0m\u001b[32m\"s\"\u001b[0m:\u001b[32m\"error\"\u001b[0m,\u001b[32m\"errmsg\"\u001b[0m:\u001b[32m\"sizeCalculation return invalid \u001b[0m\u001b[32m(\u001b[0m\u001b[32mexpect positive integer\u001b[0m\u001b[32m)\u001b[0m\u001b[32m\"\u001b[0m\u001b[1m}\u001b[0m\n"
      ]
     },
     "metadata": {},
     "output_type": "display_data"
    },
    {
     "data": {
      "text/html": [
       "<pre style=\"white-space:pre;overflow-x:auto;line-height:normal;font-family:Menlo,'DejaVu Sans Mono',consolas,'Courier New',monospace\"><span style=\"color: #800000; text-decoration-color: #800000\">Erro HTTP:</span> <span style=\"color: #008080; text-decoration-color: #008080; font-weight: bold\">400</span>\n",
       "</pre>\n"
      ],
      "text/plain": [
       "\u001b[31mErro HTTP:\u001b[0m \u001b[1;36m400\u001b[0m\n"
      ]
     },
     "metadata": {},
     "output_type": "display_data"
    },
    {
     "data": {
      "text/html": [
       "<pre style=\"white-space:pre;overflow-x:auto;line-height:normal;font-family:Menlo,'DejaVu Sans Mono',consolas,'Courier New',monospace\"><span style=\"color: #808000; text-decoration-color: #808000\">Conteúdo da página:</span>\n",
       "</pre>\n"
      ],
      "text/plain": [
       "\u001b[33mConteúdo da página:\u001b[0m\n"
      ]
     },
     "metadata": {},
     "output_type": "display_data"
    },
    {
     "data": {
      "text/html": [
       "<pre style=\"white-space:pre;overflow-x:auto;line-height:normal;font-family:Menlo,'DejaVu Sans Mono',consolas,'Courier New',monospace\"><span style=\"font-weight: bold\">{</span><span style=\"color: #008000; text-decoration-color: #008000\">\"s\"</span>:<span style=\"color: #008000; text-decoration-color: #008000\">\"error\"</span>,<span style=\"color: #008000; text-decoration-color: #008000\">\"errmsg\"</span>:<span style=\"color: #008000; text-decoration-color: #008000\">\"sizeCalculation return invalid (expect positive integer)\"</span><span style=\"font-weight: bold\">}</span>\n",
       "</pre>\n"
      ],
      "text/plain": [
       "\u001b[1m{\u001b[0m\u001b[32m\"s\"\u001b[0m:\u001b[32m\"error\"\u001b[0m,\u001b[32m\"errmsg\"\u001b[0m:\u001b[32m\"sizeCalculation return invalid \u001b[0m\u001b[32m(\u001b[0m\u001b[32mexpect positive integer\u001b[0m\u001b[32m)\u001b[0m\u001b[32m\"\u001b[0m\u001b[1m}\u001b[0m\n"
      ]
     },
     "metadata": {},
     "output_type": "display_data"
    },
    {
     "data": {
      "text/html": [
       "<pre style=\"white-space:pre;overflow-x:auto;line-height:normal;font-family:Menlo,'DejaVu Sans Mono',consolas,'Courier New',monospace\"><span style=\"color: #800000; text-decoration-color: #800000\">Erro HTTP:</span> <span style=\"color: #008080; text-decoration-color: #008080; font-weight: bold\">400</span>\n",
       "</pre>\n"
      ],
      "text/plain": [
       "\u001b[31mErro HTTP:\u001b[0m \u001b[1;36m400\u001b[0m\n"
      ]
     },
     "metadata": {},
     "output_type": "display_data"
    },
    {
     "data": {
      "text/html": [
       "<pre style=\"white-space:pre;overflow-x:auto;line-height:normal;font-family:Menlo,'DejaVu Sans Mono',consolas,'Courier New',monospace\"><span style=\"color: #808000; text-decoration-color: #808000\">Conteúdo da página:</span>\n",
       "</pre>\n"
      ],
      "text/plain": [
       "\u001b[33mConteúdo da página:\u001b[0m\n"
      ]
     },
     "metadata": {},
     "output_type": "display_data"
    },
    {
     "data": {
      "text/html": [
       "<pre style=\"white-space:pre;overflow-x:auto;line-height:normal;font-family:Menlo,'DejaVu Sans Mono',consolas,'Courier New',monospace\"><span style=\"font-weight: bold\">{</span><span style=\"color: #008000; text-decoration-color: #008000\">\"s\"</span>:<span style=\"color: #008000; text-decoration-color: #008000\">\"error\"</span>,<span style=\"color: #008000; text-decoration-color: #008000\">\"errmsg\"</span>:<span style=\"color: #008000; text-decoration-color: #008000\">\"sizeCalculation return invalid (expect positive integer)\"</span><span style=\"font-weight: bold\">}</span>\n",
       "</pre>\n"
      ],
      "text/plain": [
       "\u001b[1m{\u001b[0m\u001b[32m\"s\"\u001b[0m:\u001b[32m\"error\"\u001b[0m,\u001b[32m\"errmsg\"\u001b[0m:\u001b[32m\"sizeCalculation return invalid \u001b[0m\u001b[32m(\u001b[0m\u001b[32mexpect positive integer\u001b[0m\u001b[32m)\u001b[0m\u001b[32m\"\u001b[0m\u001b[1m}\u001b[0m\n"
      ]
     },
     "metadata": {},
     "output_type": "display_data"
    },
    {
     "data": {
      "text/html": [
       "<pre style=\"white-space:pre;overflow-x:auto;line-height:normal;font-family:Menlo,'DejaVu Sans Mono',consolas,'Courier New',monospace\"><span style=\"color: #800000; text-decoration-color: #800000\">Erro HTTP:</span> <span style=\"color: #008080; text-decoration-color: #008080; font-weight: bold\">400</span>\n",
       "</pre>\n"
      ],
      "text/plain": [
       "\u001b[31mErro HTTP:\u001b[0m \u001b[1;36m400\u001b[0m\n"
      ]
     },
     "metadata": {},
     "output_type": "display_data"
    },
    {
     "data": {
      "text/html": [
       "<pre style=\"white-space:pre;overflow-x:auto;line-height:normal;font-family:Menlo,'DejaVu Sans Mono',consolas,'Courier New',monospace\"><span style=\"color: #808000; text-decoration-color: #808000\">Conteúdo da página:</span>\n",
       "</pre>\n"
      ],
      "text/plain": [
       "\u001b[33mConteúdo da página:\u001b[0m\n"
      ]
     },
     "metadata": {},
     "output_type": "display_data"
    },
    {
     "data": {
      "text/html": [
       "<pre style=\"white-space:pre;overflow-x:auto;line-height:normal;font-family:Menlo,'DejaVu Sans Mono',consolas,'Courier New',monospace\"><span style=\"font-weight: bold\">{</span><span style=\"color: #008000; text-decoration-color: #008000\">\"s\"</span>:<span style=\"color: #008000; text-decoration-color: #008000\">\"error\"</span>,<span style=\"color: #008000; text-decoration-color: #008000\">\"errmsg\"</span>:<span style=\"color: #008000; text-decoration-color: #008000\">\"sizeCalculation return invalid (expect positive integer)\"</span><span style=\"font-weight: bold\">}</span>\n",
       "</pre>\n"
      ],
      "text/plain": [
       "\u001b[1m{\u001b[0m\u001b[32m\"s\"\u001b[0m:\u001b[32m\"error\"\u001b[0m,\u001b[32m\"errmsg\"\u001b[0m:\u001b[32m\"sizeCalculation return invalid \u001b[0m\u001b[32m(\u001b[0m\u001b[32mexpect positive integer\u001b[0m\u001b[32m)\u001b[0m\u001b[32m\"\u001b[0m\u001b[1m}\u001b[0m\n"
      ]
     },
     "metadata": {},
     "output_type": "display_data"
    },
    {
     "data": {
      "text/html": [
       "<pre style=\"white-space:pre;overflow-x:auto;line-height:normal;font-family:Menlo,'DejaVu Sans Mono',consolas,'Courier New',monospace\"><span style=\"color: #800000; text-decoration-color: #800000\">Erro HTTP:</span> <span style=\"color: #008080; text-decoration-color: #008080; font-weight: bold\">400</span>\n",
       "</pre>\n"
      ],
      "text/plain": [
       "\u001b[31mErro HTTP:\u001b[0m \u001b[1;36m400\u001b[0m\n"
      ]
     },
     "metadata": {},
     "output_type": "display_data"
    },
    {
     "data": {
      "text/html": [
       "<pre style=\"white-space:pre;overflow-x:auto;line-height:normal;font-family:Menlo,'DejaVu Sans Mono',consolas,'Courier New',monospace\"><span style=\"color: #808000; text-decoration-color: #808000\">Conteúdo da página:</span>\n",
       "</pre>\n"
      ],
      "text/plain": [
       "\u001b[33mConteúdo da página:\u001b[0m\n"
      ]
     },
     "metadata": {},
     "output_type": "display_data"
    },
    {
     "data": {
      "text/html": [
       "<pre style=\"white-space:pre;overflow-x:auto;line-height:normal;font-family:Menlo,'DejaVu Sans Mono',consolas,'Courier New',monospace\"><span style=\"font-weight: bold\">{</span><span style=\"color: #008000; text-decoration-color: #008000\">\"s\"</span>:<span style=\"color: #008000; text-decoration-color: #008000\">\"error\"</span>,<span style=\"color: #008000; text-decoration-color: #008000\">\"errmsg\"</span>:<span style=\"color: #008000; text-decoration-color: #008000\">\"sizeCalculation return invalid (expect positive integer)\"</span><span style=\"font-weight: bold\">}</span>\n",
       "</pre>\n"
      ],
      "text/plain": [
       "\u001b[1m{\u001b[0m\u001b[32m\"s\"\u001b[0m:\u001b[32m\"error\"\u001b[0m,\u001b[32m\"errmsg\"\u001b[0m:\u001b[32m\"sizeCalculation return invalid \u001b[0m\u001b[32m(\u001b[0m\u001b[32mexpect positive integer\u001b[0m\u001b[32m)\u001b[0m\u001b[32m\"\u001b[0m\u001b[1m}\u001b[0m\n"
      ]
     },
     "metadata": {},
     "output_type": "display_data"
    },
    {
     "data": {
      "text/html": [
       "<pre style=\"white-space:pre;overflow-x:auto;line-height:normal;font-family:Menlo,'DejaVu Sans Mono',consolas,'Courier New',monospace\"><span style=\"color: #800000; text-decoration-color: #800000\">Erro HTTP:</span> <span style=\"color: #008080; text-decoration-color: #008080; font-weight: bold\">400</span>\n",
       "</pre>\n"
      ],
      "text/plain": [
       "\u001b[31mErro HTTP:\u001b[0m \u001b[1;36m400\u001b[0m\n"
      ]
     },
     "metadata": {},
     "output_type": "display_data"
    },
    {
     "data": {
      "text/html": [
       "<pre style=\"white-space:pre;overflow-x:auto;line-height:normal;font-family:Menlo,'DejaVu Sans Mono',consolas,'Courier New',monospace\"><span style=\"color: #808000; text-decoration-color: #808000\">Conteúdo da página:</span>\n",
       "</pre>\n"
      ],
      "text/plain": [
       "\u001b[33mConteúdo da página:\u001b[0m\n"
      ]
     },
     "metadata": {},
     "output_type": "display_data"
    },
    {
     "data": {
      "text/html": [
       "<pre style=\"white-space:pre;overflow-x:auto;line-height:normal;font-family:Menlo,'DejaVu Sans Mono',consolas,'Courier New',monospace\"><span style=\"font-weight: bold\">{</span><span style=\"color: #008000; text-decoration-color: #008000\">\"s\"</span>:<span style=\"color: #008000; text-decoration-color: #008000\">\"error\"</span>,<span style=\"color: #008000; text-decoration-color: #008000\">\"errmsg\"</span>:<span style=\"color: #008000; text-decoration-color: #008000\">\"sizeCalculation return invalid (expect positive integer)\"</span><span style=\"font-weight: bold\">}</span>\n",
       "</pre>\n"
      ],
      "text/plain": [
       "\u001b[1m{\u001b[0m\u001b[32m\"s\"\u001b[0m:\u001b[32m\"error\"\u001b[0m,\u001b[32m\"errmsg\"\u001b[0m:\u001b[32m\"sizeCalculation return invalid \u001b[0m\u001b[32m(\u001b[0m\u001b[32mexpect positive integer\u001b[0m\u001b[32m)\u001b[0m\u001b[32m\"\u001b[0m\u001b[1m}\u001b[0m\n"
      ]
     },
     "metadata": {},
     "output_type": "display_data"
    },
    {
     "data": {
      "text/html": [
       "<pre style=\"white-space:pre;overflow-x:auto;line-height:normal;font-family:Menlo,'DejaVu Sans Mono',consolas,'Courier New',monospace\"><span style=\"color: #800000; text-decoration-color: #800000\">Erro HTTP:</span> <span style=\"color: #008080; text-decoration-color: #008080; font-weight: bold\">400</span>\n",
       "</pre>\n"
      ],
      "text/plain": [
       "\u001b[31mErro HTTP:\u001b[0m \u001b[1;36m400\u001b[0m\n"
      ]
     },
     "metadata": {},
     "output_type": "display_data"
    },
    {
     "data": {
      "text/html": [
       "<pre style=\"white-space:pre;overflow-x:auto;line-height:normal;font-family:Menlo,'DejaVu Sans Mono',consolas,'Courier New',monospace\"><span style=\"color: #808000; text-decoration-color: #808000\">Conteúdo da página:</span>\n",
       "</pre>\n"
      ],
      "text/plain": [
       "\u001b[33mConteúdo da página:\u001b[0m\n"
      ]
     },
     "metadata": {},
     "output_type": "display_data"
    },
    {
     "data": {
      "text/html": [
       "<pre style=\"white-space:pre;overflow-x:auto;line-height:normal;font-family:Menlo,'DejaVu Sans Mono',consolas,'Courier New',monospace\"><span style=\"font-weight: bold\">{</span><span style=\"color: #008000; text-decoration-color: #008000\">\"s\"</span>:<span style=\"color: #008000; text-decoration-color: #008000\">\"error\"</span>,<span style=\"color: #008000; text-decoration-color: #008000\">\"errmsg\"</span>:<span style=\"color: #008000; text-decoration-color: #008000\">\"sizeCalculation return invalid (expect positive integer)\"</span><span style=\"font-weight: bold\">}</span>\n",
       "</pre>\n"
      ],
      "text/plain": [
       "\u001b[1m{\u001b[0m\u001b[32m\"s\"\u001b[0m:\u001b[32m\"error\"\u001b[0m,\u001b[32m\"errmsg\"\u001b[0m:\u001b[32m\"sizeCalculation return invalid \u001b[0m\u001b[32m(\u001b[0m\u001b[32mexpect positive integer\u001b[0m\u001b[32m)\u001b[0m\u001b[32m\"\u001b[0m\u001b[1m}\u001b[0m\n"
      ]
     },
     "metadata": {},
     "output_type": "display_data"
    },
    {
     "data": {
      "text/html": [
       "<pre style=\"white-space:pre;overflow-x:auto;line-height:normal;font-family:Menlo,'DejaVu Sans Mono',consolas,'Courier New',monospace\"><span style=\"color: #800000; text-decoration-color: #800000\">Erro HTTP:</span> <span style=\"color: #008080; text-decoration-color: #008080; font-weight: bold\">400</span>\n",
       "</pre>\n"
      ],
      "text/plain": [
       "\u001b[31mErro HTTP:\u001b[0m \u001b[1;36m400\u001b[0m\n"
      ]
     },
     "metadata": {},
     "output_type": "display_data"
    },
    {
     "data": {
      "text/html": [
       "<pre style=\"white-space:pre;overflow-x:auto;line-height:normal;font-family:Menlo,'DejaVu Sans Mono',consolas,'Courier New',monospace\"><span style=\"color: #808000; text-decoration-color: #808000\">Conteúdo da página:</span>\n",
       "</pre>\n"
      ],
      "text/plain": [
       "\u001b[33mConteúdo da página:\u001b[0m\n"
      ]
     },
     "metadata": {},
     "output_type": "display_data"
    },
    {
     "data": {
      "text/html": [
       "<pre style=\"white-space:pre;overflow-x:auto;line-height:normal;font-family:Menlo,'DejaVu Sans Mono',consolas,'Courier New',monospace\"><span style=\"font-weight: bold\">{</span><span style=\"color: #008000; text-decoration-color: #008000\">\"s\"</span>:<span style=\"color: #008000; text-decoration-color: #008000\">\"error\"</span>,<span style=\"color: #008000; text-decoration-color: #008000\">\"errmsg\"</span>:<span style=\"color: #008000; text-decoration-color: #008000\">\"sizeCalculation return invalid (expect positive integer)\"</span><span style=\"font-weight: bold\">}</span>\n",
       "</pre>\n"
      ],
      "text/plain": [
       "\u001b[1m{\u001b[0m\u001b[32m\"s\"\u001b[0m:\u001b[32m\"error\"\u001b[0m,\u001b[32m\"errmsg\"\u001b[0m:\u001b[32m\"sizeCalculation return invalid \u001b[0m\u001b[32m(\u001b[0m\u001b[32mexpect positive integer\u001b[0m\u001b[32m)\u001b[0m\u001b[32m\"\u001b[0m\u001b[1m}\u001b[0m\n"
      ]
     },
     "metadata": {},
     "output_type": "display_data"
    }
   ],
   "source": [
    "# Set the starting timestamp (e.g., September 1, 2017)\n",
    "start_time = int(datetime(2017, 9, 1).timestamp())\n",
    "\n",
    "# Get the current timestamp\n",
    "end_time = int(time.time())\n",
    "\n",
    "# Initialize a list to store data frames\n",
    "data_frames = []\n",
    "\n",
    "# Use the fixed interval of 1184400 seconds\n",
    "interval = 1184400\n",
    "\n",
    "# Loop over the time range\n",
    "current_time = start_time\n",
    "while current_time < end_time:\n",
    "    try:\n",
    "        next_time = min(current_time + interval, end_time)\n",
    "        df = fetch_bitpreco_history(\n",
    "            symbol='BTC_BRL',\n",
    "            resolution='1',\n",
    "            time_range={'from': current_time, 'to': next_time},\n",
    "            countback=0,\n",
    "            currency_code='BRL',\n",
    "        )\n",
    "        if df is not None:\n",
    "            data_frames.append(df)\n",
    "        current_time = next_time\n",
    "        time.sleep(1)  # Respect API rate limits\n",
    "    except Exception as e:\n",
    "        print(f'Error at timestamp {current_time}: {e}')\n",
    "        current_time += interval\n",
    "        continue\n",
    "\n",
    "# Combine all data frames into one\n",
    "if data_frames:\n",
    "    full_df = pd.concat(data_frames, ignore_index=True)\n",
    "    # Save the data to a CSV file\n",
    "    full_df.to_csv(BTCBRL_BITY, index=False)\n",
    "else:\n",
    "    print('No data was collected')"
   ]
  },
  {
   "cell_type": "code",
   "execution_count": null,
   "metadata": {},
   "outputs": [],
   "source": [
    "# import plotly.graph_objects as go\n",
    "\n",
    "# fig = go.Figure(\n",
    "#     data=[\n",
    "#         go.Candlestick(\n",
    "#             x=data['timestamp'],\n",
    "#             open=data['open'],\n",
    "#             high=data['high'],\n",
    "#             low=data['low'],\n",
    "#             close=data['close'],\n",
    "#         )\n",
    "#     ]\n",
    "# )\n",
    "# fig.show()"
   ]
  }
 ],
 "metadata": {
  "kernelspec": {
   "display_name": ".venv",
   "language": "python",
   "name": "python3"
  },
  "language_info": {
   "codemirror_mode": {
    "name": "ipython",
    "version": 3
   },
   "file_extension": ".py",
   "mimetype": "text/x-python",
   "name": "python",
   "nbconvert_exporter": "python",
   "pygments_lexer": "ipython3",
   "version": "3.12.8"
  }
 },
 "nbformat": 4,
 "nbformat_minor": 4
}
