{
 "cells": [
  {
   "cell_type": "markdown",
   "id": "b662a9e9",
   "metadata": {},
   "source": [
    "### Bibliotecas utilizadas em todas as celulas"
   ]
  },
  {
   "cell_type": "code",
   "execution_count": 1,
   "id": "ee6c2893",
   "metadata": {},
   "outputs": [
    {
     "name": "stderr",
     "output_type": "stream",
     "text": [
      "c:\\Users\\joaod\\Documents\\GitHub\\crypto\\.venv\\Lib\\site-packages\\backtesting\\_plotting.py:54: UserWarning: Jupyter Notebook detected. Setting Bokeh output to notebook. This may not work in Jupyter clients without JavaScript support (e.g. PyCharm, Spyder IDE). Reset with `backtesting.set_bokeh_output(notebook=False)`.\n",
      "  warnings.warn('Jupyter Notebook detected. '\n"
     ]
    },
    {
     "data": {
      "text/html": [
       "    <style>\n",
       "        .bk-notebook-logo {\n",
       "            display: block;\n",
       "            width: 20px;\n",
       "            height: 20px;\n",
       "            background-image: url(data:image/png;base64,iVBORw0KGgoAAAANSUhEUgAAABQAAAAUCAYAAACNiR0NAAAABHNCSVQICAgIfAhkiAAAAAlwSFlzAAALEgAACxIB0t1+/AAAABx0RVh0U29mdHdhcmUAQWRvYmUgRmlyZXdvcmtzIENTNui8sowAAAOkSURBVDiNjZRtaJVlGMd/1/08zzln5zjP1LWcU9N0NkN8m2CYjpgQYQXqSs0I84OLIC0hkEKoPtiH3gmKoiJDU7QpLgoLjLIQCpEsNJ1vqUOdO7ppbuec5+V+rj4ctwzd8IIbbi6u+8f1539dt3A78eXC7QizUF7gyV1fD1Yqg4JWz84yffhm0qkFqBogB9rM8tZdtwVsPUhWhGcFJngGeWrPzHm5oaMmkfEg1usvLFyc8jLRqDOMru7AyC8saQr7GG7f5fvDeH7Ej8CM66nIF+8yngt6HWaKh7k49Soy9nXurCi1o3qUbS3zWfrYeQDTB/Qj6kX6Ybhw4B+bOYoLKCC9H3Nu/leUTZ1JdRWkkn2ldcCamzrcf47KKXdAJllSlxAOkRgyHsGC/zRday5Qld9DyoM4/q/rUoy/CXh3jzOu3bHUVZeU+DEn8FInkPBFlu3+nW3Nw0mk6vCDiWg8CeJaxEwuHS3+z5RgY+YBR6V1Z1nxSOfoaPa4LASWxxdNp+VWTk7+4vzaou8v8PN+xo+KY2xsw6une2frhw05CTYOmQvsEhjhWjn0bmXPjpE1+kplmmkP3suftwTubK9Vq22qKmrBhpY4jvd5afdRA3wGjFAgcnTK2s4hY0/GPNIb0nErGMCRxWOOX64Z8RAC4oCXdklmEvcL8o0BfkNK4lUg9HTl+oPlQxdNo3Mg4Nv175e/1LDGzZen30MEjRUtmXSfiTVu1kK8W4txyV6BMKlbgk3lMwYCiusNy9fVfvvwMxv8Ynl6vxoByANLTWplvuj/nF9m2+PDtt1eiHPBr1oIfhCChQMBw6Aw0UulqTKZdfVvfG7VcfIqLG9bcldL/+pdWTLxLUy8Qq38heUIjh4XlzZxzQm19lLFlr8vdQ97rjZVOLf8nclzckbcD4wxXMidpX30sFd37Fv/GtwwhzhxGVAprjbg0gCAEeIgwCZyTV2Z1REEW8O4py0wsjeloKoMr6iCY6dP92H6Vw/oTyICIthibxjm/DfN9lVz8IqtqKYLUXfoKVMVQVVJOElGjrnnUt9T9wbgp8AyYKaGlqingHZU/uG2NTZSVqwHQTWkx9hxjkpWDaCg6Ckj5qebgBVbT3V3NNXMSiWSDdGV3hrtzla7J+duwPOToIg42ChPQOQjspnSlp1V+Gjdged7+8UN5CRAV7a5EdFNwCjEaBR27b3W890TE7g24NAP/mMDXRWrGoFPQI9ls/MWO2dWFAar/xcOIImbbpA3zgAAAABJRU5ErkJggg==);\n",
       "        }\n",
       "    </style>\n",
       "    <div>\n",
       "        <a href=\"https://bokeh.org\" target=\"_blank\" class=\"bk-notebook-logo\"></a>\n",
       "        <span id=\"aea2b14e-9244-4471-ab6b-abf25b7ed9d2\">Loading BokehJS ...</span>\n",
       "    </div>\n"
      ]
     },
     "metadata": {},
     "output_type": "display_data"
    },
    {
     "data": {
      "application/javascript": "'use strict';\n(function(root) {\n  function now() {\n    return new Date();\n  }\n\n  const force = true;\n\n  if (typeof root._bokeh_onload_callbacks === \"undefined\" || force === true) {\n    root._bokeh_onload_callbacks = [];\n    root._bokeh_is_loading = undefined;\n  }\n\nconst JS_MIME_TYPE = 'application/javascript';\n  const HTML_MIME_TYPE = 'text/html';\n  const EXEC_MIME_TYPE = 'application/vnd.bokehjs_exec.v0+json';\n  const CLASS_NAME = 'output_bokeh rendered_html';\n\n  /**\n   * Render data to the DOM node\n   */\n  function render(props, node) {\n    const script = document.createElement(\"script\");\n    node.appendChild(script);\n  }\n\n  /**\n   * Handle when an output is cleared or removed\n   */\n  function handleClearOutput(event, handle) {\n    function drop(id) {\n      const view = Bokeh.index.get_by_id(id)\n      if (view != null) {\n        view.model.document.clear()\n        Bokeh.index.delete(view)\n      }\n    }\n\n    const cell = handle.cell;\n\n    const id = cell.output_area._bokeh_element_id;\n    const server_id = cell.output_area._bokeh_server_id;\n\n    // Clean up Bokeh references\n    if (id != null) {\n      drop(id)\n    }\n\n    if (server_id !== undefined) {\n      // Clean up Bokeh references\n      const cmd_clean = \"from bokeh.io.state import curstate; print(curstate().uuid_to_server['\" + server_id + \"'].get_sessions()[0].document.roots[0]._id)\";\n      cell.notebook.kernel.execute(cmd_clean, {\n        iopub: {\n          output: function(msg) {\n            const id = msg.content.text.trim()\n            drop(id)\n          }\n        }\n      });\n      // Destroy server and session\n      const cmd_destroy = \"import bokeh.io.notebook as ion; ion.destroy_server('\" + server_id + \"')\";\n      cell.notebook.kernel.execute(cmd_destroy);\n    }\n  }\n\n  /**\n   * Handle when a new output is added\n   */\n  function handleAddOutput(event, handle) {\n    const output_area = handle.output_area;\n    const output = handle.output;\n\n    // limit handleAddOutput to display_data with EXEC_MIME_TYPE content only\n    if ((output.output_type != \"display_data\") || (!Object.prototype.hasOwnProperty.call(output.data, EXEC_MIME_TYPE))) {\n      return\n    }\n\n    const toinsert = output_area.element.find(\".\" + CLASS_NAME.split(' ')[0]);\n\n    if (output.metadata[EXEC_MIME_TYPE][\"id\"] !== undefined) {\n      toinsert[toinsert.length - 1].firstChild.textContent = output.data[JS_MIME_TYPE];\n      // store reference to embed id on output_area\n      output_area._bokeh_element_id = output.metadata[EXEC_MIME_TYPE][\"id\"];\n    }\n    if (output.metadata[EXEC_MIME_TYPE][\"server_id\"] !== undefined) {\n      const bk_div = document.createElement(\"div\");\n      bk_div.innerHTML = output.data[HTML_MIME_TYPE];\n      const script_attrs = bk_div.children[0].attributes;\n      for (let i = 0; i < script_attrs.length; i++) {\n        toinsert[toinsert.length - 1].firstChild.setAttribute(script_attrs[i].name, script_attrs[i].value);\n        toinsert[toinsert.length - 1].firstChild.textContent = bk_div.children[0].textContent\n      }\n      // store reference to server id on output_area\n      output_area._bokeh_server_id = output.metadata[EXEC_MIME_TYPE][\"server_id\"];\n    }\n  }\n\n  function register_renderer(events, OutputArea) {\n\n    function append_mime(data, metadata, element) {\n      // create a DOM node to render to\n      const toinsert = this.create_output_subarea(\n        metadata,\n        CLASS_NAME,\n        EXEC_MIME_TYPE\n      );\n      this.keyboard_manager.register_events(toinsert);\n      // Render to node\n      const props = {data: data, metadata: metadata[EXEC_MIME_TYPE]};\n      render(props, toinsert[toinsert.length - 1]);\n      element.append(toinsert);\n      return toinsert\n    }\n\n    /* Handle when an output is cleared or removed */\n    events.on('clear_output.CodeCell', handleClearOutput);\n    events.on('delete.Cell', handleClearOutput);\n\n    /* Handle when a new output is added */\n    events.on('output_added.OutputArea', handleAddOutput);\n\n    /**\n     * Register the mime type and append_mime function with output_area\n     */\n    OutputArea.prototype.register_mime_type(EXEC_MIME_TYPE, append_mime, {\n      /* Is output safe? */\n      safe: true,\n      /* Index of renderer in `output_area.display_order` */\n      index: 0\n    });\n  }\n\n  // register the mime type if in Jupyter Notebook environment and previously unregistered\n  if (root.Jupyter !== undefined) {\n    const events = require('base/js/events');\n    const OutputArea = require('notebook/js/outputarea').OutputArea;\n\n    if (OutputArea.prototype.mime_types().indexOf(EXEC_MIME_TYPE) == -1) {\n      register_renderer(events, OutputArea);\n    }\n  }\n  if (typeof (root._bokeh_timeout) === \"undefined\" || force === true) {\n    root._bokeh_timeout = Date.now() + 5000;\n    root._bokeh_failed_load = false;\n  }\n\n  const NB_LOAD_WARNING = {'data': {'text/html':\n     \"<div style='background-color: #fdd'>\\n\"+\n     \"<p>\\n\"+\n     \"BokehJS does not appear to have successfully loaded. If loading BokehJS from CDN, this \\n\"+\n     \"may be due to a slow or bad network connection. Possible fixes:\\n\"+\n     \"</p>\\n\"+\n     \"<ul>\\n\"+\n     \"<li>re-rerun `output_notebook()` to attempt to load from CDN again, or</li>\\n\"+\n     \"<li>use INLINE resources instead, as so:</li>\\n\"+\n     \"</ul>\\n\"+\n     \"<code>\\n\"+\n     \"from bokeh.resources import INLINE\\n\"+\n     \"output_notebook(resources=INLINE)\\n\"+\n     \"</code>\\n\"+\n     \"</div>\"}};\n\n  function display_loaded(error = null) {\n    const el = document.getElementById(\"aea2b14e-9244-4471-ab6b-abf25b7ed9d2\");\n    if (el != null) {\n      const html = (() => {\n        if (typeof root.Bokeh === \"undefined\") {\n          if (error == null) {\n            return \"BokehJS is loading ...\";\n          } else {\n            return \"BokehJS failed to load.\";\n          }\n        } else {\n          const prefix = `BokehJS ${root.Bokeh.version}`;\n          if (error == null) {\n            return `${prefix} successfully loaded.`;\n          } else {\n            return `${prefix} <b>encountered errors</b> while loading and may not function as expected.`;\n          }\n        }\n      })();\n      el.innerHTML = html;\n\n      if (error != null) {\n        const wrapper = document.createElement(\"div\");\n        wrapper.style.overflow = \"auto\";\n        wrapper.style.height = \"5em\";\n        wrapper.style.resize = \"vertical\";\n        const content = document.createElement(\"div\");\n        content.style.fontFamily = \"monospace\";\n        content.style.whiteSpace = \"pre-wrap\";\n        content.style.backgroundColor = \"rgb(255, 221, 221)\";\n        content.textContent = error.stack ?? error.toString();\n        wrapper.append(content);\n        el.append(wrapper);\n      }\n    } else if (Date.now() < root._bokeh_timeout) {\n      setTimeout(() => display_loaded(error), 100);\n    }\n  }\n\n  function run_callbacks() {\n    try {\n      root._bokeh_onload_callbacks.forEach(function(callback) {\n        if (callback != null)\n          callback();\n      });\n    } finally {\n      delete root._bokeh_onload_callbacks\n    }\n    console.debug(\"Bokeh: all callbacks have finished\");\n  }\n\n  function load_libs(css_urls, js_urls, callback) {\n    if (css_urls == null) css_urls = [];\n    if (js_urls == null) js_urls = [];\n\n    root._bokeh_onload_callbacks.push(callback);\n    if (root._bokeh_is_loading > 0) {\n      console.debug(\"Bokeh: BokehJS is being loaded, scheduling callback at\", now());\n      return null;\n    }\n    if (js_urls == null || js_urls.length === 0) {\n      run_callbacks();\n      return null;\n    }\n    console.debug(\"Bokeh: BokehJS not loaded, scheduling load and callback at\", now());\n    root._bokeh_is_loading = css_urls.length + js_urls.length;\n\n    function on_load() {\n      root._bokeh_is_loading--;\n      if (root._bokeh_is_loading === 0) {\n        console.debug(\"Bokeh: all BokehJS libraries/stylesheets loaded\");\n        run_callbacks()\n      }\n    }\n\n    function on_error(url) {\n      console.error(\"failed to load \" + url);\n    }\n\n    for (let i = 0; i < css_urls.length; i++) {\n      const url = css_urls[i];\n      const element = document.createElement(\"link\");\n      element.onload = on_load;\n      element.onerror = on_error.bind(null, url);\n      element.rel = \"stylesheet\";\n      element.type = \"text/css\";\n      element.href = url;\n      console.debug(\"Bokeh: injecting link tag for BokehJS stylesheet: \", url);\n      document.body.appendChild(element);\n    }\n\n    for (let i = 0; i < js_urls.length; i++) {\n      const url = js_urls[i];\n      const element = document.createElement('script');\n      element.onload = on_load;\n      element.onerror = on_error.bind(null, url);\n      element.async = false;\n      element.src = url;\n      console.debug(\"Bokeh: injecting script tag for BokehJS library: \", url);\n      document.head.appendChild(element);\n    }\n  };\n\n  function inject_raw_css(css) {\n    const element = document.createElement(\"style\");\n    element.appendChild(document.createTextNode(css));\n    document.body.appendChild(element);\n  }\n\n  const js_urls = [\"https://cdn.bokeh.org/bokeh/release/bokeh-3.6.3.min.js\", \"https://cdn.bokeh.org/bokeh/release/bokeh-gl-3.6.3.min.js\", \"https://cdn.bokeh.org/bokeh/release/bokeh-widgets-3.6.3.min.js\", \"https://cdn.bokeh.org/bokeh/release/bokeh-tables-3.6.3.min.js\", \"https://cdn.bokeh.org/bokeh/release/bokeh-mathjax-3.6.3.min.js\"];\n  const css_urls = [];\n\n  const inline_js = [    function(Bokeh) {\n      Bokeh.set_log_level(\"info\");\n    },\nfunction(Bokeh) {\n    }\n  ];\n\n  function run_inline_js() {\n    if (root.Bokeh !== undefined || force === true) {\n      try {\n            for (let i = 0; i < inline_js.length; i++) {\n      inline_js[i].call(root, root.Bokeh);\n    }\n\n      } catch (error) {display_loaded(error);throw error;\n      }if (force === true) {\n        display_loaded();\n      }} else if (Date.now() < root._bokeh_timeout) {\n      setTimeout(run_inline_js, 100);\n    } else if (!root._bokeh_failed_load) {\n      console.log(\"Bokeh: BokehJS failed to load within specified timeout.\");\n      root._bokeh_failed_load = true;\n    } else if (force !== true) {\n      const cell = $(document.getElementById(\"aea2b14e-9244-4471-ab6b-abf25b7ed9d2\")).parents('.cell').data().cell;\n      cell.output_area.append_execute_result(NB_LOAD_WARNING)\n    }\n  }\n\n  if (root._bokeh_is_loading === 0) {\n    console.debug(\"Bokeh: BokehJS loaded, going straight to plotting\");\n    run_inline_js();\n  } else {\n    load_libs(css_urls, js_urls, function() {\n      console.debug(\"Bokeh: BokehJS plotting callback run at\", now());\n      run_inline_js();\n    });\n  }\n}(window));",
      "application/vnd.bokehjs_load.v0+json": ""
     },
     "metadata": {},
     "output_type": "display_data"
    }
   ],
   "source": [
    "import matplotlib.pyplot as plt\n",
    "import numpy as np\n",
    "import seaborn as sns\n",
    "import talib as ta\n",
    "from backtesting import Backtest, Strategy\n",
    "from sklearn.ensemble import RandomForestClassifier, RandomForestRegressor\n",
    "from sklearn.metrics import (\n",
    "    accuracy_score,\n",
    "    classification_report,\n",
    "    confusion_matrix,\n",
    "    mean_absolute_error,\n",
    "    mean_squared_error,\n",
    ")\n",
    "from sklearn.model_selection import cross_val_score, train_test_split\n",
    "\n",
    "from bot.historico_precos import get_price_history\n",
    "from bot.logs.config_log import console\n",
    "from bot.models.coin_pair import CoinPair\n",
    "from db.duckdb_csv import load_csv_in_dataframe, save_to_csv_duckdb\n",
    "from segredos import BASE_DIR\n"
   ]
  },
  {
   "cell_type": "markdown",
   "id": "4109aca5",
   "metadata": {},
   "source": [
    "### Definição da única moeda utilizada"
   ]
  },
  {
   "cell_type": "code",
   "execution_count": 2,
   "id": "6a87052d",
   "metadata": {},
   "outputs": [],
   "source": [
    "coinpair = CoinPair(\n",
    "    base='BTC',\n",
    "    quote='BRL',\n",
    ")"
   ]
  },
  {
   "cell_type": "markdown",
   "id": "dc01343b",
   "metadata": {},
   "source": [
    "### Primeiro dataset:\n",
    " - Entradas: volume, preço de abertura, preço de fechamento, preço máximo e preço mínimo\n",
    " - Saida: preço de fechamento deslocado em uma linha"
   ]
  },
  {
   "cell_type": "code",
   "execution_count": 3,
   "id": "2b33ad6b",
   "metadata": {},
   "outputs": [
    {
     "data": {
      "text/plain": [
       "True"
      ]
     },
     "execution_count": 3,
     "metadata": {},
     "output_type": "execute_result"
    }
   ],
   "source": [
    "df = get_price_history(coin_pair=coinpair)\n",
    "df['y'] = df['close'].shift(-1)\n",
    "df = df.dropna()\n",
    "save_to_csv_duckdb(\n",
    "    df,\n",
    "    BASE_DIR\n",
    "    + '/datasets'\n",
    "    + '/saida_como_preco_do_ativo_'\n",
    "    + f'{coinpair.bitpreco_websocket}_{coinpair.exchange.value}'\n",
    "    + '.csv',\n",
    ")"
   ]
  },
  {
   "cell_type": "markdown",
   "id": "b5e2c5fc",
   "metadata": {},
   "source": [
    "1. Análise Exploratória dos Dados"
   ]
  },
  {
   "cell_type": "code",
   "execution_count": 3,
   "id": "80660c31",
   "metadata": {},
   "outputs": [
    {
     "data": {
      "image/png": "[encoded data removed]",
      "text/plain": [
       "<Figure size 800x600 with 1 Axes>"
      ]
     },
     "metadata": {},
     "output_type": "display_data"
    },
    {
     "data": {
      "image/png": "[encoded data removed]",
      "text/plain": [
       "<Figure size 1000x800 with 2 Axes>"
      ]
     },
     "metadata": {},
     "output_type": "display_data"
    }
   ],
   "source": [
    "# Recarregar o dataset\n",
    "df = load_csv_in_dataframe(\n",
    "    BASE_DIR\n",
    "    + '/datasets'\n",
    "    + '/saida_como_preco_do_ativo_'\n",
    "    + f'{coinpair.bitpreco_websocket}_{coinpair.exchange.value}'\n",
    "    + '.csv',\n",
    ")\n",
    "\n",
    "# Visualizar a distribuição dos preços\n",
    "plt.figure(figsize=(8, 6))\n",
    "sns.lineplot(x=df.index, y=df['close'])\n",
    "plt.title('Preços de Fechamento ao Longo do Tempo')\n",
    "plt.show()\n",
    "\n",
    "# Matriz de correlação entre as variáveis\n",
    "corr_matrix = df[['volume', 'open', 'close', 'high', 'low']].corr()\n",
    "plt.figure(figsize=(10, 8))\n",
    "sns.heatmap(corr_matrix, annot=True, cmap='coolwarm', square=True)\n",
    "plt.title('Matriz de Correlação')\n",
    "plt.show()\n"
   ]
  },
  {
   "cell_type": "markdown",
   "id": "df478202",
   "metadata": {},
   "source": [
    "2. Avaliação de Desempenho de Modelos\n",
    "\n",
    "Treinamento e Validação de Modelos\n",
    "\n",
    "Use um modelo de regressão para avaliar a qualidade do dataset. O objetivo é verificar se o modelo consegue aprender padrões significativos a partir das variáveis de entrada para prever o preço de fechamento deslocado."
   ]
  },
  {
   "cell_type": "code",
   "execution_count": null,
   "id": "faaac002",
   "metadata": {},
   "outputs": [],
   "source": [
    "# Dividir o dataset em treino e teste\n",
    "X = df[['volume', 'open', 'high', 'low']]\n",
    "y = df['y']  # Preço de fechamento deslocado\n",
    "\n",
    "X_train, X_test, y_train, y_test = train_test_split(X, y, test_size=0.2, random_state=42)\n",
    "\n",
    "# Treinar um modelo de regressão\n",
    "model = RandomForestRegressor(n_estimators=100, random_state=42)\n",
    "model.fit(X_train, y_train)\n",
    "\n",
    "# Prever os preços para o conjunto de teste\n",
    "y_pred = model.predict(X_test)\n",
    "\n",
    "# Avaliar o desempenho do modelo\n",
    "mse = mean_squared_error(y_test, y_pred)\n",
    "mae = mean_absolute_error(y_test, y_pred)\n",
    "console.print(f'Erro Quadrático Médio (MSE): {mse:.2f}')\n",
    "console.print(f'Erro Absoluto Médio (MAE): {mae:.2f}')\n"
   ]
  },
  {
   "cell_type": "markdown",
   "id": "b48ea432",
   "metadata": {},
   "source": [
    "3. Análise de Feature Importance\n",
    "\n",
    "Avaliar a Importância das Variáveis\n",
    "\n",
    "Verifique quais variáveis são mais importantes para a previsão do preço de fechamento deslocado."
   ]
  },
  {
   "cell_type": "code",
   "execution_count": null,
   "id": "86d57c3f",
   "metadata": {},
   "outputs": [],
   "source": [
    "# Avaliar a importância das features\n",
    "feature_importances = model.feature_importances_\n",
    "feature_names = X.columns\n",
    "\n",
    "plt.figure(figsize=(8, 6))\n",
    "sns.barplot(x=feature_names, y=feature_importances)\n",
    "plt.title('Importância das Features')\n",
    "plt.xlabel('Feature')\n",
    "plt.ylabel('Importância')\n",
    "plt.show()\n"
   ]
  },
  {
   "cell_type": "code",
   "execution_count": null,
   "id": "531bbe20",
   "metadata": {},
   "outputs": [],
   "source": [
    "# Avaliar o modelo com validação cruzada\n",
    "scores = cross_val_score(model, X_train, y_train, cv=5, scoring='neg_mean_squared_error')\n",
    "console.print(f'Scores de Validação Cruzada: {scores}')\n",
    "console.print(f'Média dos Scores: {-scores.mean():.2f}')"
   ]
  },
  {
   "cell_type": "markdown",
   "id": "7c9857bf",
   "metadata": {},
   "source": [
    "4. Validação Cruzada\n",
    "\n",
    "Avaliar o Desempenho em Diferentes Partições\n",
    "\n",
    "Use validação cruzada para garantir que o modelo não está sobreajustado (overfitting) a uma única partição dos dados."
   ]
  },
  {
   "cell_type": "markdown",
   "id": "b002753b",
   "metadata": {},
   "source": [
    "### Segundo dataset:\n",
    "- Entradas: volume, preço de abertura, preço de fechamento, preço máximo e preço mínimo\n",
    "- Saida: 5 níveis de tendência geral\n",
    "\n",
    "    -2: Baixa forte\n",
    "\n",
    "    -1: Tendência de baixa\n",
    "\n",
    "    0: Tendência neutra\n",
    "\n",
    "    1: Tendência de alta\n",
    "\n",
    "    2: Alta forte"
   ]
  },
  {
   "cell_type": "code",
   "execution_count": null,
   "id": "928ab11d",
   "metadata": {},
   "outputs": [],
   "source": [
    "# Carregar o arquivo CSV\n",
    "df = get_price_history(coin_pair=coinpair)\n",
    "df = df.copy()\n",
    "# Converter Series para numpy arrays\n",
    "close_arr = df['close'].to_numpy(dtype=float)\n",
    "high_arr = df['high'].to_numpy(dtype=float)\n",
    "low_arr = df['low'].to_numpy(dtype=float)\n",
    "volume_arr = df['volume'].to_numpy(dtype=float)"
   ]
  },
  {
   "cell_type": "markdown",
   "id": "0661406a",
   "metadata": {},
   "source": [
    "##### Calcular os indicadores osciladores"
   ]
  },
  {
   "cell_type": "code",
   "execution_count": null,
   "id": "092b22f3",
   "metadata": {},
   "outputs": [],
   "source": [
    "# Indicador Maravilhoso\n",
    "def AO(df):\n",
    "    \"\"\"\n",
    "    Awesome Oscillator\n",
    "    \"\"\"\n",
    "    df['media'] = (df['open'] + df['close']) / 2\n",
    "    df['media'] = df['media'].to_numpy(dtype=float)\n",
    "\n",
    "    # Definir os períodos para as médias móveis\n",
    "    periodo_curto = 5\n",
    "    periodo_longo = 34\n",
    "\n",
    "    # Calcular as médias móveis usando TA-Lib\n",
    "    df['SMA_Curta'] = ta.SMA(df['media'].values, timeperiod=periodo_curto)\n",
    "    df['SMA_Longa'] = ta.SMA(df['media'].values, timeperiod=periodo_longo)\n",
    "\n",
    "    return df['SMA_Curta'] - df['SMA_Longa']"
   ]
  },
  {
   "cell_type": "code",
   "execution_count": 6,
   "id": "863dd03f",
   "metadata": {},
   "outputs": [],
   "source": [
    "# Índice de Força Relativa (14)\n",
    "df['RSI'] = ta.RSI(close_arr, timeperiod=14)\n",
    "# Estocástico %K (14, 3, 3)\n",
    "df['stoch_k'], df['stoch_d'] = ta.STOCH(\n",
    "    high_arr,\n",
    "    low_arr,\n",
    "    close_arr,\n",
    "    fastk_period=14,\n",
    "    slowk_period=3,\n",
    "    slowd_period=3,\n",
    ")\n",
    "# índice Canal de Commodities\n",
    "df['CCI'] = ta.CCI(high_arr, low_arr, close_arr, timeperiod=20)\n",
    "# Índice Direcional Médio\n",
    "df['ADX'] = ta.ADX(high_arr, low_arr, close_arr, timeperiod=14)\n",
    "# Oscilador Maravilhoso\n",
    "df['AO'] = AO(df)\n",
    "# Momentum (10)\n",
    "df['MOM'] = ta.MOM(close_arr, timeperiod=10)\n",
    "# Nível MACD (12,26)\n",
    "df['MACD'], df['MACD_signal'], df['MACD_hist'] = ta.MACD(\n",
    "    close_arr,\n",
    "    fastperiod=12,\n",
    "    slowperiod=26,\n",
    "    signalperiod=9,\n",
    ")\n",
    "# IFR Estocástico Rápido (3, 3, 14, 14)\n",
    "df['stoch_rsi_k'], df['stoch_rsi_d'] = ta.STOCHF(\n",
    "    high=high_arr,\n",
    "    low=low_arr,\n",
    "    close=close_arr,\n",
    "    fastk_period=14,\n",
    "    fastd_period=3,\n",
    "    fastd_matype=0,\n",
    ")\n",
    "# Range Percentual de Williams (14)\n",
    "df['WILLR'] = ta.WILLR(high_arr, low_arr, close_arr, timeperiod=14)\n",
    "# Bull Bear Power\n",
    "df['BBP'] = ta.CDLKICKINGBYLENGTH(\n",
    "    open=df['open'].to_numpy(dtype=float),\n",
    "    high=high_arr,\n",
    "    low=low_arr,\n",
    "    close=close_arr,\n",
    ")\n",
    "# Ultimate Oscillator (7, 14, 28)\n",
    "df['ULTOSC'] = ta.ULTOSC(\n",
    "    high_arr,\n",
    "    low_arr,\n",
    "    close_arr,\n",
    "    timeperiod1=7,\n",
    "    timeperiod2=14,\n",
    "    timeperiod3=28,\n",
    ")"
   ]
  },
  {
   "cell_type": "markdown",
   "id": "98c29742",
   "metadata": {},
   "source": [
    "##### Calcular indicadores médias móveis"
   ]
  },
  {
   "cell_type": "code",
   "execution_count": 7,
   "id": "0bf14a8c",
   "metadata": {},
   "outputs": [],
   "source": [
    "# Calcular a VWMA\n",
    "def calcular_vwma(df, periodo):\n",
    "    # Calcular a soma ponderada dos preços\n",
    "    soma_ponderada = df['close'] * df['volume']\n",
    "\n",
    "    # Calcular a soma dos volumes\n",
    "    soma_volumes = df['volume']\n",
    "\n",
    "    # Calcular a VWMA\n",
    "    vwma = (\n",
    "        soma_ponderada.rolling(window=periodo).sum()\n",
    "        / soma_volumes.rolling(window=periodo).sum()\n",
    "    )\n",
    "\n",
    "    return vwma"
   ]
  },
  {
   "cell_type": "code",
   "execution_count": 8,
   "id": "34103d79",
   "metadata": {},
   "outputs": [],
   "source": [
    "# Calcular a Linha Base (Kijun-sen)\n",
    "def calcular_kijun_sen(df):\n",
    "    maximos = df['high'].rolling(window=26).max()\n",
    "    minimos = df['low'].rolling(window=26).min()\n",
    "    kijun_sen = (maximos + minimos) / 2\n",
    "    return kijun_sen"
   ]
  },
  {
   "cell_type": "code",
   "execution_count": 9,
   "id": "896660b0",
   "metadata": {},
   "outputs": [],
   "source": [
    "# Calcular a Média Móvel de Hull\n",
    "def calcular_hma(df, n):\n",
    "    df['close'] = df['close'].to_numpy(dtype=float)\n",
    "    wma_metade = ta.WMA(df['close'].values, timeperiod=int(n / 2))\n",
    "    wma_completa = ta.WMA(df['close'].values, timeperiod=n)\n",
    "    hma_intermediaria = 2 * wma_metade - wma_completa\n",
    "    hma = ta.WMA(hma_intermediaria, timeperiod=int(np.sqrt(n)))\n",
    "    return hma"
   ]
  },
  {
   "cell_type": "code",
   "execution_count": 10,
   "id": "a8aab49e",
   "metadata": {},
   "outputs": [],
   "source": [
    "# Média Movel Exponencial (10)\n",
    "df['EMA10'] = ta.EMA(close_arr, timeperiod=10)\n",
    "# Média Movel Simples (10)\n",
    "df['SMA10'] = ta.SMA(close_arr, timeperiod=10)\n",
    "# Média Movel Exponencial (20)\n",
    "df['EMA20'] = ta.EMA(close_arr, timeperiod=20)\n",
    "# Média Movel Simples (20)\n",
    "df['SMA20'] = ta.SMA(close_arr, timeperiod=20)\n",
    "# Média Movel Exponencial (30)\n",
    "df['EMA30'] = ta.EMA(close_arr, timeperiod=30)\n",
    "# Média Movel Simples (30)\n",
    "df['SMA30'] = ta.SMA(close_arr, timeperiod=30)\n",
    "# Média Movel Exponencial (50)\n",
    "df['EMA50'] = ta.EMA(close_arr, timeperiod=50)\n",
    "# Média Movel Simples (50)\n",
    "df['SMA50'] = ta.SMA(close_arr, timeperiod=50)\n",
    "# Média Movel Exponencial (100)\n",
    "df['EMA100'] = ta.EMA(close_arr, timeperiod=100)\n",
    "# Média Movel Simples (100)\n",
    "df['SMA100'] = ta.SMA(close_arr, timeperiod=100)\n",
    "# Média Movel Exponencial (200)\n",
    "df['EMA200'] = ta.EMA(close_arr, timeperiod=200)\n",
    "# Média Movel Simples (200)\n",
    "df['SMA200'] = ta.SMA(close_arr, timeperiod=200)\n",
    "# Linha Base Ichimoku (9, 26, 52, 26)\n",
    "df['Kijun-sen'] = calcular_kijun_sen(df)\n",
    "# Média Móvel Ponderada pelo Volume (20)\n",
    "df['VWMA'] = calcular_vwma(df, 20)\n",
    "# Média Móvel de Hull (9)\n",
    "df['HMA'] = calcular_hma(df, 9)"
   ]
  },
  {
   "cell_type": "markdown",
   "id": "cede9d4b",
   "metadata": {},
   "source": [
    "##### Calcular as tendências individuais de cada indicador"
   ]
  },
  {
   "cell_type": "code",
   "execution_count": 11,
   "id": "3c60d24a",
   "metadata": {},
   "outputs": [],
   "source": [
    "# Função para classificar tendências em 5 níveis\n",
    "def classificar_tendencia(valor, limites):\n",
    "    \"\"\"\n",
    "    Classifica um valor em 5 níveis de tendência:\n",
    "    -2: Baixa forte\n",
    "    -1: Tendência de baixa\n",
    "    0: Tendência neutra\n",
    "    1: Tendência de alta\n",
    "    2: Alta forte\n",
    "    \"\"\"\n",
    "    forte_baixa, baixa, alta, forte_alta = limites\n",
    "\n",
    "    if valor <= forte_baixa:\n",
    "        return -2  # Baixa forte\n",
    "    elif valor <= baixa:\n",
    "        return -1  # Tendência de baixa\n",
    "    elif valor >= forte_alta:\n",
    "        return 2  # Alta forte\n",
    "    elif valor >= alta:\n",
    "        return 1  # Tendência de alta\n",
    "    else:\n",
    "        return 0  # Tendência neutra\n",
    "\n",
    "\n",
    "# Classifica osciladores\n",
    "# RSI (0-100)\n",
    "df['tendencia_RSI'] = df['RSI'].apply(\n",
    "    lambda x: classificar_tendencia(x, (30, 40, 60, 70))\n",
    ")\n",
    "\n",
    "# Estocástico %K (0-100)\n",
    "df['tendencia_stoch_k'] = df['stoch_k'].apply(\n",
    "    lambda x: classificar_tendencia(x, (20, 35, 65, 80))\n",
    ")\n",
    "\n",
    "# Estocástico %D (0-100)\n",
    "df['tendencia_stoch_d'] = df['stoch_d'].apply(\n",
    "    lambda x: classificar_tendencia(x, (20, 35, 65, 80))\n",
    ")\n",
    "\n",
    "# CCI (-100 a +100 tipicamente)\n",
    "df['tendencia_CCI'] = df['CCI'].apply(\n",
    "    lambda x: classificar_tendencia(x, (-200, -100, 100, 200))\n",
    ")\n",
    "\n",
    "# ADX (0-100)\n",
    "df['tendencia_ADX'] = df['ADX'].apply(\n",
    "    lambda x: 2 if x > 50 else (1 if x > 25 else 0)\n",
    ")\n",
    "\n",
    "# Oscilador Maravilhoso (AO)\n",
    "# Criando coluna com o valor anterior para comparação\n",
    "df['AO_anterior'] = df['AO'].shift(1)\n",
    "df['tendencia_AO'] = df.apply(\n",
    "    lambda row: 2\n",
    "    if row['AO'] > 0 and row['AO'] > row['AO_anterior']\n",
    "    else (\n",
    "        1\n",
    "        if row['AO'] > 0\n",
    "        else (\n",
    "            -2\n",
    "            if row['AO'] < 0 and row['AO'] < row['AO_anterior']\n",
    "            else (-1 if row['AO'] < 0 else 0)\n",
    "        )\n",
    "    ),\n",
    "    axis=1,\n",
    ")\n",
    "\n",
    "# Momentum\n",
    "df['tendencia_MOM'] = df.apply(\n",
    "    lambda row: 2\n",
    "    if row['MOM'] > 3\n",
    "    else (\n",
    "        1\n",
    "        if row['MOM'] > 0\n",
    "        else (-2 if row['MOM'] < -3 else (-1 if row['MOM'] < 0 else 0))\n",
    "    ),\n",
    "    axis=1,\n",
    ")\n",
    "\n",
    "# MACD\n",
    "# Criando coluna com o valor anterior para comparação\n",
    "df['MACD_hist_anterior'] = df['MACD_hist'].shift(1)\n",
    "df['tendencia_MACD'] = df.apply(\n",
    "    lambda row: 2\n",
    "    if row['MACD'] > row['MACD_signal']\n",
    "    and row['MACD_hist'] > row['MACD_hist_anterior']\n",
    "    else (\n",
    "        1\n",
    "        if row['MACD'] > row['MACD_signal']\n",
    "        else (\n",
    "            -2\n",
    "            if row['MACD'] < row['MACD_signal']\n",
    "            and row['MACD_hist'] < row['MACD_hist_anterior']\n",
    "            else (-1 if row['MACD'] < row['MACD_signal'] else 0)\n",
    "        )\n",
    "    ),\n",
    "    axis=1,\n",
    ")\n",
    "\n",
    "# IFR Estocástico Rápido\n",
    "df['tendencia_stoch_rsi_k'] = df['stoch_rsi_k'].apply(\n",
    "    lambda x: classificar_tendencia(x, (20, 35, 65, 80))\n",
    ")\n",
    "df['tendencia_stoch_rsi_d'] = df['stoch_rsi_d'].apply(\n",
    "    lambda x: classificar_tendencia(x, (20, 35, 65, 80))\n",
    ")\n",
    "\n",
    "# Williams %R (0 a -100)\n",
    "df['tendencia_WILLR'] = df['WILLR'].apply(\n",
    "    lambda x: classificar_tendencia(-x, (-80, -65, -35, -20))\n",
    ")\n",
    "\n",
    "# Bull Bear Power\n",
    "df['tendencia_BBP'] = df['BBP'].apply(\n",
    "    lambda x: 2\n",
    "    if x > 75\n",
    "    else (1 if x > 0 else (-2 if x < -75 else (-1 if x < 0 else 0)))\n",
    ")\n",
    "\n",
    "# Ultimate Oscillator (0-100)\n",
    "df['tendencia_ULTOSC'] = df['ULTOSC'].apply(\n",
    "    lambda x: classificar_tendencia(x, (30, 40, 60, 70))\n",
    ")\n",
    "\n",
    "# Classificar tendências de médias móveis\n",
    "# Para todas as médias móveis, compara o preço atual (close) com a média\n",
    "df['tendencia_EMA10'] = df.apply(\n",
    "    lambda row: 2\n",
    "    if row['close'] > row['EMA10'] * 1.03\n",
    "    else (\n",
    "        1\n",
    "        if row['close'] > row['EMA10']\n",
    "        else (\n",
    "            -2\n",
    "            if row['close'] < row['EMA10'] * 0.97\n",
    "            else (-1 if row['close'] < row['EMA10'] else 0)\n",
    "        )\n",
    "    ),\n",
    "    axis=1,\n",
    ")\n",
    "\n",
    "df['tendencia_SMA10'] = df.apply(\n",
    "    lambda row: 2\n",
    "    if row['close'] > row['SMA10'] * 1.03\n",
    "    else (\n",
    "        1\n",
    "        if row['close'] > row['SMA10']\n",
    "        else (\n",
    "            -2\n",
    "            if row['close'] < row['SMA10'] * 0.97\n",
    "            else (-1 if row['close'] < row['SMA10'] else 0)\n",
    "        )\n",
    "    ),\n",
    "    axis=1,\n",
    ")\n",
    "\n",
    "df['tendencia_EMA20'] = df.apply(\n",
    "    lambda row: 2\n",
    "    if row['close'] > row['EMA20'] * 1.05\n",
    "    else (\n",
    "        1\n",
    "        if row['close'] > row['EMA20']\n",
    "        else (\n",
    "            -2\n",
    "            if row['close'] < row['EMA20'] * 0.95\n",
    "            else (-1 if row['close'] < row['EMA20'] else 0)\n",
    "        )\n",
    "    ),\n",
    "    axis=1,\n",
    ")\n",
    "\n",
    "df['tendencia_SMA20'] = df.apply(\n",
    "    lambda row: 2\n",
    "    if row['close'] > row['SMA20'] * 1.05\n",
    "    else (\n",
    "        1\n",
    "        if row['close'] > row['SMA20']\n",
    "        else (\n",
    "            -2\n",
    "            if row['close'] < row['SMA20'] * 0.95\n",
    "            else (-1 if row['close'] < row['SMA20'] else 0)\n",
    "        )\n",
    "    ),\n",
    "    axis=1,\n",
    ")\n",
    "\n",
    "df['tendencia_EMA30'] = df.apply(\n",
    "    lambda row: 2\n",
    "    if row['close'] > row['EMA30'] * 1.07\n",
    "    else (\n",
    "        1\n",
    "        if row['close'] > row['EMA30']\n",
    "        else (\n",
    "            -2\n",
    "            if row['close'] < row['EMA30'] * 0.93\n",
    "            else (-1 if row['close'] < row['EMA30'] else 0)\n",
    "        )\n",
    "    ),\n",
    "    axis=1,\n",
    ")\n",
    "\n",
    "df['tendencia_SMA30'] = df.apply(\n",
    "    lambda row: 2\n",
    "    if row['close'] > row['SMA30'] * 1.07\n",
    "    else (\n",
    "        1\n",
    "        if row['close'] > row['SMA30']\n",
    "        else (\n",
    "            -2\n",
    "            if row['close'] < row['SMA30'] * 0.93\n",
    "            else (-1 if row['close'] < row['SMA30'] else 0)\n",
    "        )\n",
    "    ),\n",
    "    axis=1,\n",
    ")\n",
    "\n",
    "df['tendencia_EMA50'] = df.apply(\n",
    "    lambda row: 2\n",
    "    if row['close'] > row['EMA50'] * 1.1\n",
    "    else (\n",
    "        1\n",
    "        if row['close'] > row['EMA50']\n",
    "        else (\n",
    "            -2\n",
    "            if row['close'] < row['EMA50'] * 0.9\n",
    "            else (-1 if row['close'] < row['EMA50'] else 0)\n",
    "        )\n",
    "    ),\n",
    "    axis=1,\n",
    ")\n",
    "\n",
    "df['tendencia_SMA50'] = df.apply(\n",
    "    lambda row: 2\n",
    "    if row['close'] > row['SMA50'] * 1.1\n",
    "    else (\n",
    "        1\n",
    "        if row['close'] > row['SMA50']\n",
    "        else (\n",
    "            -2\n",
    "            if row['close'] < row['SMA50'] * 0.9\n",
    "            else (-1 if row['close'] < row['SMA50'] else 0)\n",
    "        )\n",
    "    ),\n",
    "    axis=1,\n",
    ")\n",
    "\n",
    "df['tendencia_EMA100'] = df.apply(\n",
    "    lambda row: 2\n",
    "    if row['close'] > row['EMA100'] * 1.15\n",
    "    else (\n",
    "        1\n",
    "        if row['close'] > row['EMA100']\n",
    "        else (\n",
    "            -2\n",
    "            if row['close'] < row['EMA100'] * 0.85\n",
    "            else (-1 if row['close'] < row['EMA100'] else 0)\n",
    "        )\n",
    "    ),\n",
    "    axis=1,\n",
    ")\n",
    "\n",
    "df['tendencia_SMA100'] = df.apply(\n",
    "    lambda row: 2\n",
    "    if row['close'] > row['SMA100'] * 1.15\n",
    "    else (\n",
    "        1\n",
    "        if row['close'] > row['SMA100']\n",
    "        else (\n",
    "            -2\n",
    "            if row['close'] < row['SMA100'] * 0.85\n",
    "            else (-1 if row['close'] < row['SMA100'] else 0)\n",
    "        )\n",
    "    ),\n",
    "    axis=1,\n",
    ")\n",
    "\n",
    "df['tendencia_EMA200'] = df.apply(\n",
    "    lambda row: 2\n",
    "    if row['close'] > row['EMA200'] * 1.2\n",
    "    else (\n",
    "        1\n",
    "        if row['close'] > row['EMA200']\n",
    "        else (\n",
    "            -2\n",
    "            if row['close'] < row['EMA200'] * 0.8\n",
    "            else (-1 if row['close'] < row['EMA200'] else 0)\n",
    "        )\n",
    "    ),\n",
    "    axis=1,\n",
    ")\n",
    "\n",
    "df['tendencia_SMA200'] = df.apply(\n",
    "    lambda row: 2\n",
    "    if row['close'] > row['SMA200'] * 1.2\n",
    "    else (\n",
    "        1\n",
    "        if row['close'] > row['SMA200']\n",
    "        else (\n",
    "            -2\n",
    "            if row['close'] < row['SMA200'] * 0.8\n",
    "            else (-1 if row['close'] < row['SMA200'] else 0)\n",
    "        )\n",
    "    ),\n",
    "    axis=1,\n",
    ")\n",
    "\n",
    "df['tendencia_Kijun'] = df.apply(\n",
    "    lambda row: 2\n",
    "    if row['close'] > row['Kijun-sen'] * 1.05\n",
    "    else (\n",
    "        1\n",
    "        if row['close'] > row['Kijun-sen']\n",
    "        else (\n",
    "            -2\n",
    "            if row['close'] < row['Kijun-sen'] * 0.95\n",
    "            else (-1 if row['close'] < row['Kijun-sen'] else 0)\n",
    "        )\n",
    "    ),\n",
    "    axis=1,\n",
    ")\n",
    "\n",
    "df['tendencia_VWMA'] = df.apply(\n",
    "    lambda row: 2\n",
    "    if row['close'] > row['VWMA'] * 1.05\n",
    "    else (\n",
    "        1\n",
    "        if row['close'] > row['VWMA']\n",
    "        else (\n",
    "            -2\n",
    "            if row['close'] < row['VWMA'] * 0.95\n",
    "            else (-1 if row['close'] < row['VWMA'] else 0)\n",
    "        )\n",
    "    ),\n",
    "    axis=1,\n",
    ")\n",
    "\n",
    "df['tendencia_HMA'] = df.apply(\n",
    "    lambda row: 2\n",
    "    if row['close'] > row['HMA'] * 1.03\n",
    "    else (\n",
    "        1\n",
    "        if row['close'] > row['HMA']\n",
    "        else (\n",
    "            -2\n",
    "            if row['close'] < row['HMA'] * 0.97\n",
    "            else (-1 if row['close'] < row['HMA'] else 0)\n",
    "        )\n",
    "    ),\n",
    "    axis=1,\n",
    ")"
   ]
  },
  {
   "cell_type": "markdown",
   "id": "eafb03cd",
   "metadata": {},
   "source": [
    "##### Fazer a moda das tendências para a tendência geral"
   ]
  },
  {
   "cell_type": "code",
   "execution_count": null,
   "id": "43205555",
   "metadata": {},
   "outputs": [
    {
     "name": "stdout",
     "output_type": "stream",
     "text": [
      "Total de indicadores de tendência: 28\n",
      "Indicadores utilizados: tendencia_RSI, tendencia_stoch_k, tendencia_stoch_d, tendencia_CCI, tendencia_ADX, tendencia_AO, tendencia_MOM, tendencia_MACD, tendencia_stoch_rsi_k, tendencia_stoch_rsi_d, tendencia_WILLR, tendencia_BBP, tendencia_ULTOSC, tendencia_EMA10, tendencia_SMA10, tendencia_EMA20, tendencia_SMA20, tendencia_EMA30, tendencia_SMA30, tendencia_EMA50, tendencia_SMA50, tendencia_EMA100, tendencia_SMA100, tendencia_EMA200, tendencia_SMA200, tendencia_Kijun, tendencia_VWMA, tendencia_HMA\n"
     ]
    }
   ],
   "source": [
    "# Selecionar todas as colunas que começam com 'tendencia_'\n",
    "colunas_tendencia = [col for col in df.columns if col.startswith('tendencia_')]\n",
    "\n",
    "console.print(f'Total de indicadores de tendência: {len(colunas_tendencia)}')\n",
    "console.print(f\"Indicadores utilizados: {', '.join(colunas_tendencia)}\")\n",
    "\n",
    "# classificar tendência geral vendo o que a maioria\n",
    "# dos indicadores estão indicando\n",
    "df['tendencia_geral'] = df[colunas_tendencia].mode(axis=1)[0]"
   ]
  },
  {
   "cell_type": "markdown",
   "id": "0010f3da",
   "metadata": {},
   "source": [
    "##### fazer a saída que é a tendência geral deslocada para o minuto seguinte"
   ]
  },
  {
   "cell_type": "code",
   "execution_count": 14,
   "id": "41305c03",
   "metadata": {},
   "outputs": [
    {
     "data": {
      "text/plain": [
       "True"
      ]
     },
     "execution_count": 14,
     "metadata": {},
     "output_type": "execute_result"
    }
   ],
   "source": [
    "df['y'] = df['tendencia_geral'].shift(-1)\n",
    "# dropar as linhas que não tem o valor de y\n",
    "df = df.dropna()\n",
    "# Selecionar apenas as colunas volume, open, high, low, close e y\n",
    "df = df[\n",
    "    [\n",
    "        'timestamp',\n",
    "        'volume',\n",
    "        'open',\n",
    "        'high',\n",
    "        'low',\n",
    "        'close',\n",
    "        'y',\n",
    "    ]\n",
    "]\n",
    "# Salvar o dataframe em um arquivo CSV com o duckdb por que são muitos dados\n",
    "save_to_csv_duckdb(\n",
    "    df,\n",
    "    BASE_DIR\n",
    "    + '/datasets'\n",
    "    + '/saida_como_tendencia_geral_'\n",
    "    + f'{coinpair.bitpreco_websocket}_{coinpair.exchange.value}'\n",
    "    + '.csv',\n",
    ")"
   ]
  },
  {
   "cell_type": "markdown",
   "id": "1af8d929",
   "metadata": {},
   "source": [
    "#### Validação e Avaliação do Dataset"
   ]
  },
  {
   "cell_type": "code",
   "execution_count": null,
   "id": "48217fb3",
   "metadata": {},
   "outputs": [],
   "source": [
    "df = load_csv_in_dataframe(\n",
    "    BASE_DIR\n",
    "    + '/datasets'\n",
    "    + '/saida_como_tendencia_geral_'\n",
    "    + f'{coinpair.bitpreco_websocket}_{coinpair.exchange.value}'\n",
    "    + '.csv',\n",
    ")\n",
    "# Visualizar a distribuição das classes de tendência\n",
    "plt.figure(figsize=(8, 6))\n",
    "sns.countplot(x='y', data=df)\n",
    "plt.title('Distribuição das Classes de Tendência')\n",
    "plt.show()\n",
    "\n",
    "# Matriz de correlação entre as variáveis\n",
    "corr_matrix = df[['volume', 'open', 'close', 'high', 'low', 'y']].corr()\n",
    "plt.figure(figsize=(10, 8))\n",
    "sns.heatmap(corr_matrix, annot=True, cmap='coolwarm', square=True)\n",
    "plt.title('Matriz de Correlação')\n",
    "plt.show()"
   ]
  },
  {
   "cell_type": "markdown",
   "id": "eab9c101",
   "metadata": {},
   "source": [
    "2. Avaliação de Desempenho de Modelos"
   ]
  },
  {
   "cell_type": "code",
   "execution_count": null,
   "id": "cd7061eb",
   "metadata": {},
   "outputs": [],
   "source": [
    "# Dividir o dataset em treino e teste\n",
    "X = df[['volume', 'open', 'close', 'high', 'low']]\n",
    "y = df['tendencia']\n",
    "X_train, X_test, y_train, y_test = train_test_split(X, y, test_size=0.2, random_state=42)\n",
    "\n",
    "# Treinar um modelo de classificação\n",
    "model = RandomForestClassifier(n_estimators=100, random_state=42)\n",
    "model.fit(X_train, y_train)\n",
    "\n",
    "# Prever as classes para o conjunto de teste\n",
    "y_pred = model.predict(X_test)\n",
    "\n",
    "# Avaliar o desempenho do modelo\n",
    "accuracy = accuracy_score(y_test, y_pred)\n",
    "console.print(f'Acurácia: {accuracy:.3f}')\n",
    "console.print('Relatório de Classificação:')\n",
    "print(classification_report(y_test, y_pred))\n",
    "print('Matriz de Confusão:')\n",
    "print(confusion_matrix(y_test, y_pred))"
   ]
  },
  {
   "cell_type": "markdown",
   "id": "b39dc85c",
   "metadata": {},
   "source": [
    "3. Análise de Feature Importance"
   ]
  },
  {
   "cell_type": "code",
   "execution_count": null,
   "id": "6e0e862d",
   "metadata": {},
   "outputs": [],
   "source": [
    "# Avaliar a importância das features\n",
    "feature_importances = model.feature_importances_\n",
    "feature_names = X.columns\n",
    "\n",
    "plt.figure(figsize=(8, 6))\n",
    "sns.barplot(x=feature_names, y=feature_importances)\n",
    "plt.title('Importância das Features')\n",
    "plt.xlabel('Feature')\n",
    "plt.ylabel('Importância')\n",
    "plt.show()"
   ]
  },
  {
   "cell_type": "markdown",
   "id": "83afd048",
   "metadata": {},
   "source": [
    "4. Validação Cruzada\n",
    "\n",
    "Avaliar o Desempenho em Diferentes Partições\n",
    "\n",
    "Use validação cruzada para garantir que o modelo não está sobreajustado (overfitting) a uma única partição dos dados."
   ]
  },
  {
   "cell_type": "code",
   "execution_count": null,
   "id": "768f2be8",
   "metadata": {},
   "outputs": [],
   "source": [
    "# Avaliar o modelo com validação cruzada\n",
    "scores = cross_val_score(model, X_train, y_train, cv=5)\n",
    "console.print(f'Scores de Validação Cruzada: {scores}')\n",
    "console.print(f'Média dos Scores: {scores.mean():.3f}')"
   ]
  },
  {
   "cell_type": "markdown",
   "id": "77c7e35d",
   "metadata": {},
   "source": [
    "### Terceiro dataset:\n",
    "- Entradas: volume, preço de abertura, preço de fechamento, preço máximo e preço mínimo\n",
    "- Saida: sinal de compra(-1), venda(1) ou neutro, ou seja não comprar e nem vender (0)"
   ]
  },
  {
   "cell_type": "code",
   "execution_count": null,
   "id": "d90f7866",
   "metadata": {},
   "outputs": [],
   "source": [
    "# Carregar os dados do db\n",
    "df = get_price_history(coin_pair=coinpair)"
   ]
  },
  {
   "cell_type": "markdown",
   "id": "8f0b52b2",
   "metadata": {},
   "source": [
    "### Geração de Sinais Determinísticos\n",
    "Considerações Sobre Ajustes de Parâmetros\n",
    "\n",
    "A eficácia dos sinais determinísticos depende significativamente da configuração dos parâmetros. Alguns aspectos cruciais a considerar:\n",
    "\n",
    "Parâmetros Críticos\n",
    "\n",
    "- Janela de Análise Futura: Define quanto do futuro será considerado para geração de sinais. Janelas mais curtas resultam em sinais mais frequentes, enquanto janelas mais longas capturam tendências mais sustentadas.\n",
    "\n",
    "- Limiares de Compra e Venda: Determina a sensibilidade da geração de sinais. Valores mais baixos geram mais sinais (potencialmente mais falsos positivos), enquanto valores mais altos geram sinais apenas em movimentos significativos.\n",
    "\n",
    "- Metas de Lucro e Stop Loss: Define quando uma operação seria considerada bem-sucedida em um ambiente real de trading, impactando os sinais gerados.\n",
    "\n",
    "A escolha ideal destes parâmetros pode ser determinada através de backtesting sobre períodos históricos específicos, como recomendado no artigo sobre indicadores de compra e venda: \"a curva de crescimento logarítmico é apresentada pelo analista como uma forma de prever o movimento do preço do Bitcoin no mercado\"."
   ]
  },
  {
   "cell_type": "code",
   "execution_count": null,
   "id": "2041e7d4",
   "metadata": {},
   "outputs": [],
   "source": [
    "def generate_deterministic_signals(  # noqa: PLR0913, PLR0917\n",
    "    df,\n",
    "    future_window=7,\n",
    "    buy_threshold=0.05,\n",
    "    sell_threshold=0.05,\n",
    "    profit_target=0.1,\n",
    "    stop_loss=0.05,\n",
    "):\n",
    "    # Criar colunas para sinais\n",
    "    df['buy_signal'] = 0\n",
    "    df['sell_signal'] = 0\n",
    "\n",
    "    # Para cada dia no dataset\n",
    "    for i in range(len(df) - future_window):\n",
    "        current_price = df.iloc[i]['close']\n",
    "        future_window_data = df.iloc[i + 1 : i + future_window + 1]\n",
    "        future_max = future_window_data['high'].max()\n",
    "        future_min = future_window_data['low'].min()\n",
    "\n",
    "        # Condição de compra: preço atual X% abaixo do máximo futuro\n",
    "        potential_gain = (\n",
    "            float(future_max) - float(current_price)\n",
    "        ) / current_price\n",
    "        if potential_gain > buy_threshold:\n",
    "            # Verificar se o preço atingiria o profit_target antes do stop_loss\n",
    "            for j in range(i + 1, i + future_window + 1):\n",
    "                if df.iloc[j]['high'] >= current_price * (1 + profit_target):\n",
    "                    df.at[df.index[i], 'buy_signal'] = 1\n",
    "                    break\n",
    "                if df.iloc[j]['low'] <= current_price * (1 - stop_loss):\n",
    "                    break\n",
    "\n",
    "        # Condição de venda: preço atual X% acima do mínimo futuro\n",
    "        potential_drop = (\n",
    "            float(current_price) - float(future_min)\n",
    "        ) / current_price\n",
    "        if potential_drop > sell_threshold:\n",
    "            # Verificar se o preço cairia sell_threshold antes de subir novamente\n",
    "            for j in range(i + 1, i + future_window + 1):\n",
    "                if df.iloc[j]['low'] <= current_price * (1 - profit_target):\n",
    "                    df.at[df.index[i], 'sell_signal'] = 1\n",
    "                    break\n",
    "                if df.iloc[j]['high'] >= current_price * (1 + stop_loss):\n",
    "                    break\n",
    "\n",
    "    return df"
   ]
  },
  {
   "cell_type": "code",
   "execution_count": null,
   "id": "6216c4c8",
   "metadata": {},
   "outputs": [
    {
     "ename": "TypeError",
     "evalue": "unsupported operand type(s) for -: 'float' and 'decimal.Decimal'",
     "output_type": "error",
     "traceback": [
      "\u001b[1;31m---------------------------------------------------------------------------\u001b[0m",
      "\u001b[1;31mTypeError\u001b[0m                                 Traceback (most recent call last)",
      "Cell \u001b[1;32mIn[7], line 2\u001b[0m\n\u001b[0;32m      1\u001b[0m \u001b[38;5;66;03m# Gerar sinais determinísticos\u001b[39;00m\n\u001b[1;32m----> 2\u001b[0m df \u001b[38;5;241m=\u001b[39m \u001b[43mgenerate_deterministic_signals\u001b[49m\u001b[43m(\u001b[49m\u001b[43mdf\u001b[49m\u001b[43m)\u001b[49m\n",
      "Cell \u001b[1;32mIn[6], line 26\u001b[0m, in \u001b[0;36mgenerate_deterministic_signals\u001b[1;34m(df, future_window, buy_threshold, sell_threshold, profit_target, stop_loss)\u001b[0m\n\u001b[0;32m     23\u001b[0m             \u001b[38;5;28;01mbreak\u001b[39;00m\n\u001b[0;32m     25\u001b[0m \u001b[38;5;66;03m# Condição de venda: preço atual X% acima do mínimo futuro\u001b[39;00m\n\u001b[1;32m---> 26\u001b[0m potential_drop \u001b[38;5;241m=\u001b[39m (\u001b[43mcurrent_price\u001b[49m\u001b[43m \u001b[49m\u001b[38;5;241;43m-\u001b[39;49m\u001b[43m \u001b[49m\u001b[43mfuture_min\u001b[49m) \u001b[38;5;241m/\u001b[39m current_price\n\u001b[0;32m     27\u001b[0m \u001b[38;5;28;01mif\u001b[39;00m potential_drop \u001b[38;5;241m>\u001b[39m sell_threshold:\n\u001b[0;32m     28\u001b[0m     \u001b[38;5;66;03m# Verificar se o preço cairia sell_threshold antes de subir novamente\u001b[39;00m\n\u001b[0;32m     29\u001b[0m     \u001b[38;5;28;01mfor\u001b[39;00m j \u001b[38;5;129;01min\u001b[39;00m \u001b[38;5;28mrange\u001b[39m(i\u001b[38;5;241m+\u001b[39m\u001b[38;5;241m1\u001b[39m, i\u001b[38;5;241m+\u001b[39mfuture_window\u001b[38;5;241m+\u001b[39m\u001b[38;5;241m1\u001b[39m):\n",
      "\u001b[1;31mTypeError\u001b[0m: unsupported operand type(s) for -: 'float' and 'decimal.Decimal'"
     ]
    }
   ],
   "source": [
    "# Gerar sinais determinísticos\n",
    "df = generate_deterministic_signals(df)"
   ]
  },
  {
   "cell_type": "code",
   "execution_count": null,
   "id": "277c2a62",
   "metadata": {},
   "outputs": [],
   "source": [
    "df = df.dropna()\n",
    "save_to_csv_duckdb(\n",
    "    df,\n",
    "    BASE_DIR\n",
    "    + '/datasets'\n",
    "    + '/saida_como_preco_do_ativo_'\n",
    "    + f'{coinpair.bitpreco_websocket}_{coinpair.exchange.value}'\n",
    "    + '.csv',\n",
    ")"
   ]
  },
  {
   "cell_type": "markdown",
   "id": "41d8d9bb",
   "metadata": {},
   "source": [
    "# Validação e Avaliação do Dataset\n",
    "Métricas de Avaliação\n",
    "\n",
    "- Taxa de Acerto: Porcentagem de sinais que resultariam em operações lucrativas se seguidos.\n",
    "\n",
    "- Retorno por Operação: Lucro médio que cada sinal de compra/venda geraria.\n",
    "\n",
    "- Máximo Drawdown: Máxima perda entre pico e vale que a estratégia poderia gerar.\n",
    "\n",
    "- Sharpe Ratio: Relação retorno/risco dos sinais gerados."
   ]
  },
  {
   "cell_type": "code",
   "execution_count": null,
   "id": "471f5186",
   "metadata": {},
   "outputs": [],
   "source": [
    "class DeterministicSignals(Strategy):\n",
    "    def init(self):\n",
    "        super().init()\n",
    "        self.buy_signal = self.data.buy_signal\n",
    "        self.sell_signal = self.data.sell_signal\n",
    "\n",
    "    def next(self):\n",
    "        current_index = len(self.data) - 1\n",
    "\n",
    "        # Execução de ordens baseada nos sinais\n",
    "        if self.buy_signal[current_index] == 1 and not self.position:\n",
    "            self.buy(\n",
    "                size=0.1\n",
    "            )  # Altere o tamanho da posição conforme necessário\n",
    "\n",
    "        if self.sell_signal[current_index] == 1 and self.position:\n",
    "            self.position.close()"
   ]
  },
  {
   "cell_type": "code",
   "execution_count": null,
   "id": "e1684b23",
   "metadata": {},
   "outputs": [],
   "source": [
    "bt = Backtest(\n",
    "    df,\n",
    "    DeterministicSignals,\n",
    "    cash=10000,  # Capital inicial\n",
    "    commission=.002,  # Taxa de corretagem (0.2%)\n",
    "    exclusive_orders=True\n",
    ")\n"
   ]
  },
  {
   "cell_type": "code",
   "execution_count": null,
   "id": "7095e8be",
   "metadata": {},
   "outputs": [],
   "source": [
    "stats = bt.run()\n",
    "console.print(stats)"
   ]
  },
  {
   "cell_type": "markdown",
   "id": "5c22f37e",
   "metadata": {},
   "source": [
    "#### Visualização de Resultados\n",
    "Análise Gráfica\n",
    "\n",
    "Este gráfico interativo mostrará:\n",
    "\n",
    "Evolução do preço com marcadores de entradas/saídas\n",
    "\n",
    "Curva de equity (crescimento do capital)\n",
    "\n",
    "Drawdown máximo histórico\n",
    "\n",
    "Distribuição temporal das operações"
   ]
  },
  {
   "cell_type": "code",
   "execution_count": null,
   "id": "6a30590d",
   "metadata": {},
   "outputs": [],
   "source": [
    "bt.plot()"
   ]
  },
  {
   "cell_type": "markdown",
   "id": "ebb62b30",
   "metadata": {},
   "source": [
    "#### Validação Cruzada\n",
    "Para evitar overfitting, executei a validação walk-forward:"
   ]
  },
  {
   "cell_type": "code",
   "execution_count": null,
   "id": "d6d54320",
   "metadata": {},
   "outputs": [],
   "source": [
    "results = bt.optimize(\n",
    "    maximize='Sharpe Ratio',\n",
    "    method='walk_forward',\n",
    "    train_size=0.7,  # 70% dados para treino\n",
    "    test_size=0.3,   # 30% para teste\n",
    "    fixed={'commission': 0.002}\n",
    ")"
   ]
  }
 ],
 "metadata": {
  "kernelspec": {
   "display_name": ".venv",
   "language": "python",
   "name": "python3"
  },
  "language_info": {
   "codemirror_mode": {
    "name": "ipython",
    "version": 3
   },
   "file_extension": ".py",
   "mimetype": "text/x-python",
   "name": "python",
   "nbconvert_exporter": "python",
   "pygments_lexer": "ipython3",
   "version": "3.12.8"
  }
 },
 "nbformat": 4,
 "nbformat_minor": 5
}
