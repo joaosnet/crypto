{
 "cells": [
  {
   "cell_type": "markdown",
   "id": "b662a9e9",
   "metadata": {},
   "source": [
    "### Bibliotecas utilizadas em todas as celulas"
   ]
  },
  {
   "cell_type": "code",
   "execution_count": 1,
   "id": "ee6c2893",
   "metadata": {},
   "outputs": [],
   "source": [
    "from bot.historico_precos import get_price_history\n",
    "from bot.models.coin_pair import CoinPair\n",
    "from db.duckdb_csv import save_to_csv_duckdb\n",
    "from segredos import BASE_DIR"
   ]
  },
  {
   "cell_type": "markdown",
   "id": "4109aca5",
   "metadata": {},
   "source": [
    "### Definição da única moeda utilizada"
   ]
  },
  {
   "cell_type": "code",
   "execution_count": 2,
   "id": "6a87052d",
   "metadata": {},
   "outputs": [],
   "source": [
    "coinpair = CoinPair(\n",
    "    base='BTC',\n",
    "    quote='BRL',\n",
    ")"
   ]
  },
  {
   "cell_type": "markdown",
   "id": "dc01343b",
   "metadata": {},
   "source": [
    "### Primeiro dataset:\n",
    " - Entradas: volume, preço de abertura, preço de fechamento, preço máximo e preço mínimo\n",
    " - Saida: preço de fechamento deslocado em uma linha"
   ]
  },
  {
   "cell_type": "code",
   "execution_count": null,
   "id": "2b33ad6b",
   "metadata": {},
   "outputs": [
    {
     "data": {
      "text/plain": [
       "True"
      ]
     },
     "execution_count": 11,
     "metadata": {},
     "output_type": "execute_result"
    }
   ],
   "source": [
    "df = get_price_history(coin_pair=coinpair)\n",
    "# df = calculate_indicators(df)\n",
    "# df = generate_signals(df)\n",
    "df['y'] = df['close'].shift(-1)\n",
    "df = df.dropna()\n",
    "save_to_csv_duckdb(\n",
    "    df,\n",
    "    BASE_DIR\n",
    "    + '/datasets'\n",
    "    + '/saida_como_preco_do_ativo_'\n",
    "    + f'{coinpair.bitpreco_websocket}_{coinpair.exchange.value}'\n",
    "    + '.csv',\n",
    ")"
   ]
  },
  {
   "cell_type": "markdown",
   "id": "b002753b",
   "metadata": {},
   "source": [
    "### Segundo dataset:\n",
    "- Entradas: volume, preço de abertura, preço de fechamento, preço máximo e preço mínimo\n",
    "- Saida: forte aumento ou seja que vai dura muito tempo (strong up), aumento(up), estavel(neutral), queda(down) e forte queda ou seja que vai cair muito durante muito tempo(strong down)"
   ]
  },
  {
   "cell_type": "markdown",
   "id": "863dd03f",
   "metadata": {},
   "source": []
  },
  {
   "cell_type": "markdown",
   "id": "77c7e35d",
   "metadata": {},
   "source": [
    "### Terceiro dataset:\n",
    "- Entradas: volume, preço de abertura, preço de fechamento, preço máximo e preço mínimo\n",
    "- Saida: sinal de compra(-1), venda(1) ou neutro, ou seja não comprar e nem vender (0)"
   ]
  },
  {
   "cell_type": "code",
   "execution_count": null,
   "id": "d90f7866",
   "metadata": {},
   "outputs": [],
   "source": []
  }
 ],
 "metadata": {
  "kernelspec": {
   "display_name": ".venv",
   "language": "python",
   "name": "python3"
  },
  "language_info": {
   "codemirror_mode": {
    "name": "ipython",
    "version": 3
   },
   "file_extension": ".py",
   "mimetype": "text/x-python",
   "name": "python",
   "nbconvert_exporter": "python",
   "pygments_lexer": "ipython3",
   "version": "3.12.8"
  }
 },
 "nbformat": 4,
 "nbformat_minor": 5
}
