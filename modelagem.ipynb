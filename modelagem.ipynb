{
 "cells": [
  {
   "cell_type": "markdown",
   "id": "b662a9e9",
   "metadata": {},
   "source": [
    "### Bibliotecas utilizadas em todas as celulas"
   ]
  },
  {
   "cell_type": "code",
   "execution_count": null,
   "id": "ee6c2893",
   "metadata": {},
   "outputs": [],
   "source": [
    "import numpy as np\n",
    "import talib as ta\n",
    "\n",
    "from bot.historico_precos import get_price_history\n",
    "from bot.models.coin_pair import CoinPair\n",
    "from db.duckdb_csv import save_to_csv_duckdb\n",
    "from segredos import BASE_DIR\n"
   ]
  },
  {
   "cell_type": "markdown",
   "id": "4109aca5",
   "metadata": {},
   "source": [
    "### Definição da única moeda utilizada"
   ]
  },
  {
   "cell_type": "code",
   "execution_count": 2,
   "id": "6a87052d",
   "metadata": {},
   "outputs": [],
   "source": [
    "coinpair = CoinPair(\n",
    "    base='BTC',\n",
    "    quote='BRL',\n",
    ")"
   ]
  },
  {
   "cell_type": "markdown",
   "id": "dc01343b",
   "metadata": {},
   "source": [
    "### Primeiro dataset:\n",
    " - Entradas: volume, preço de abertura, preço de fechamento, preço máximo e preço mínimo\n",
    " - Saida: preço de fechamento deslocado em uma linha"
   ]
  },
  {
   "cell_type": "code",
   "execution_count": null,
   "id": "2b33ad6b",
   "metadata": {},
   "outputs": [
    {
     "data": {
      "text/plain": [
       "True"
      ]
     },
     "execution_count": 11,
     "metadata": {},
     "output_type": "execute_result"
    }
   ],
   "source": [
    "df = get_price_history(coin_pair=coinpair)\n",
    "df['y'] = df['close'].shift(-1)\n",
    "df = df.dropna()\n",
    "save_to_csv_duckdb(\n",
    "    df,\n",
    "    BASE_DIR\n",
    "    + '/datasets'\n",
    "    + '/saida_como_preco_do_ativo_'\n",
    "    + f'{coinpair.bitpreco_websocket}_{coinpair.exchange.value}'\n",
    "    + '.csv',\n",
    ")"
   ]
  },
  {
   "cell_type": "markdown",
   "id": "b002753b",
   "metadata": {},
   "source": [
    "### Segundo dataset:\n",
    "- Entradas: volume, preço de abertura, preço de fechamento, preço máximo e preço mínimo\n",
    "- Saida: forte aumento ou seja que vai dura muito tempo (strong up), aumento(up), estavel(neutral), queda(down) e forte queda ou seja que vai cair muito durante muito tempo(strong down)"
   ]
  },
  {
   "cell_type": "code",
   "execution_count": null,
   "id": "928ab11d",
   "metadata": {},
   "outputs": [],
   "source": [
    "df = get_price_history(coin_pair=coinpair)\n",
    "df = df.copy()\n",
    "# Converter Series para numpy arrays\n",
    "close_arr = df['close'].to_numpy(dtype=float)\n",
    "high_arr = df['high'].to_numpy(dtype=float)\n",
    "low_arr = df['low'].to_numpy(dtype=float)\n",
    "volume_arr = df['volume'].to_numpy(dtype=float)"
   ]
  },
  {
   "cell_type": "markdown",
   "id": "0661406a",
   "metadata": {},
   "source": [
    "##### Calcular os indicadores osciladores"
   ]
  },
  {
   "cell_type": "code",
   "execution_count": null,
   "id": "092b22f3",
   "metadata": {},
   "outputs": [],
   "source": [
    "def AO(df):\n",
    "    \"\"\"\n",
    "    Awesome Oscillator\n",
    "    \"\"\"\n",
    "    df = df.copy()\n",
    "    df['media'] = (df['open'] + df['close']) / 2\n",
    "\n",
    "    # Definir os períodos para as médias móveis\n",
    "    periodo_curto = 5\n",
    "    periodo_longo = 34\n",
    "\n",
    "    # Calcular as médias móveis usando TA-Lib\n",
    "    df['SMA_Curta'] = ta.SMA(df['media'].values, timeperiod=periodo_curto)\n",
    "    df['SMA_Longa'] = ta.SMA(df['media'].values, timeperiod=periodo_longo)\n",
    "\n",
    "    return df['SMA_Curta'] - df['SMA_Longa']"
   ]
  },
  {
   "cell_type": "code",
   "execution_count": null,
   "id": "863dd03f",
   "metadata": {},
   "outputs": [],
   "source": [
    "# Índice de Força Relativa (14)\n",
    "df['RSI'] = ta.RSI(close_arr, timeperiod=14)\n",
    "# Estocástico %K (14, 3, 3)\n",
    "df['stoch_k'], df['stoch_d'] = ta.STOCH(\n",
    "    high_arr,\n",
    "    low_arr,\n",
    "    close_arr,\n",
    "    fastk_period=14,\n",
    "    slowk_period=3,\n",
    "    slowd_period=3,\n",
    ")\n",
    "# índice Canal de Commodities\n",
    "df['CCI'] = ta.CCI(high_arr, low_arr, close_arr, timeperiod=20)\n",
    "# Índice Direcional Médio\n",
    "df['ADX'] = ta.ADX(high_arr, low_arr, close_arr, timeperiod=14)\n",
    "# Oscilador Maravilhoso\n",
    "df['AO'] = AO(df)\n",
    "# Momentum (10)\n",
    "df['MOM'] = ta.MOM(close_arr, timeperiod=10)\n",
    "# Nível MACD (12,26)\n",
    "df['MACD'], df['MACD_signal'], df['MACD_hist'] = ta.MACD(\n",
    "    close_arr,\n",
    "    fastperiod=12,\n",
    "    slowperiod=26,\n",
    "    signalperiod=9,\n",
    ")\n",
    "# IFR Estocástico Rápido (3, 3, 14, 14)\n",
    "df['stoch_rsi_k'], df['stoch_rsi_d'] = ta.STOCHF(\n",
    "    close_arr,\n",
    "    fastk_period=14,\n",
    "    fastd_period=3,\n",
    "    fastd_matype=0,\n",
    ")\n",
    "# Range Percentual de Williams (14)\n",
    "df['WILLR'] = ta.WILLR(high_arr, low_arr, close_arr, timeperiod=14)\n",
    "# Bull Bear Power\n",
    "df['BBP'] = ta.CDLKICKINGBYLENGTH(\n",
    "    open=df['open'].to_numpy(dtype=float),\n",
    "    high=high_arr,\n",
    "    low=low_arr,\n",
    "    close=close_arr,\n",
    ")\n",
    "# Ultimate Oscillator (7, 14, 28)\n",
    "df['ULTOSC'] = ta.ULTOSC(\n",
    "    high_arr,\n",
    "    low_arr,\n",
    "    close_arr,\n",
    "    timeperiod1=7,\n",
    "    timeperiod2=14,\n",
    "    timeperiod3=28,\n",
    ")"
   ]
  },
  {
   "cell_type": "markdown",
   "id": "98c29742",
   "metadata": {},
   "source": [
    "##### Calcular indicadores médias móveis"
   ]
  },
  {
   "cell_type": "code",
   "execution_count": null,
   "id": "0bf14a8c",
   "metadata": {},
   "outputs": [],
   "source": [
    "# Calcular a VWMA\n",
    "def calcular_vwma(df, periodo):\n",
    "    # Calcular a soma ponderada dos preços\n",
    "    soma_ponderada = df['close'] * df['volume']\n",
    "\n",
    "    # Calcular a soma dos volumes\n",
    "    soma_volumes = df['volume']\n",
    "\n",
    "    # Calcular a VWMA\n",
    "    vwma = (\n",
    "        soma_ponderada.rolling(window=periodo).sum()\n",
    "        / soma_volumes.rolling(window=periodo).sum()\n",
    "    )\n",
    "\n",
    "    return vwma"
   ]
  },
  {
   "cell_type": "code",
   "execution_count": null,
   "id": "34103d79",
   "metadata": {},
   "outputs": [],
   "source": [
    "# Calcular a Linha Base (Kijun-sen)\n",
    "def calcular_kijun_sen(df):\n",
    "    maximos = df['high'].rolling(window=26).max()\n",
    "    minimos = df['low'].rolling(window=26).min()\n",
    "    kijun_sen = (maximos + minimos) / 2\n",
    "    return kijun_sen"
   ]
  },
  {
   "cell_type": "code",
   "execution_count": null,
   "id": "896660b0",
   "metadata": {},
   "outputs": [],
   "source": [
    "# Calcular a Média Móvel de Hull\n",
    "def calcular_hma(df, n):\n",
    "    wma_metade = ta.WMA(df['close'].values, timeperiod=int(n / 2))\n",
    "    wma_completa = ta.WMA(df['close'].values, timeperiod=n)\n",
    "    hma_intermediaria = 2 * wma_metade - wma_completa\n",
    "    hma = ta.WMA(hma_intermediaria, timeperiod=int(np.sqrt(n)))\n",
    "    return hma"
   ]
  },
  {
   "cell_type": "code",
   "execution_count": null,
   "id": "a8aab49e",
   "metadata": {},
   "outputs": [],
   "source": [
    "# Média Movel Exponencial (10)\n",
    "df['EMA10'] = ta.EMA(close_arr, timeperiod=10)\n",
    "# Média Movel Simples (10)\n",
    "df['SMA10'] = ta.SMA(close_arr, timeperiod=10)\n",
    "# Média Movel Exponencial (20)\n",
    "df['EMA20'] = ta.EMA(close_arr, timeperiod=20)\n",
    "# Média Movel Simples (20)\n",
    "df['SMA20'] = ta.SMA(close_arr, timeperiod=20)\n",
    "# Média Movel Exponencial (30)\n",
    "df['EMA30'] = ta.EMA(close_arr, timeperiod=30)\n",
    "# Média Movel Simples (30)\n",
    "df['SMA30'] = ta.SMA(close_arr, timeperiod=30)\n",
    "# Média Movel Exponencial (50)\n",
    "df['EMA50'] = ta.EMA(close_arr, timeperiod=50)\n",
    "# Média Movel Simples (50)\n",
    "df['SMA50'] = ta.SMA(close_arr, timeperiod=50)\n",
    "# Média Movel Exponencial (100)\n",
    "df['EMA100'] = ta.EMA(close_arr, timeperiod=100)\n",
    "# Média Movel Simples (100)\n",
    "df['SMA100'] = ta.SMA(close_arr, timeperiod=100)\n",
    "# Média Movel Exponencial (200)\n",
    "df['EMA200'] = ta.EMA(close_arr, timeperiod=200)\n",
    "# Média Movel Simples (200)\n",
    "df['SMA200'] = ta.SMA(close_arr, timeperiod=200)\n",
    "# Linha Base Ichimoku (9, 26, 52, 26)\n",
    "df['Kijun-sen'] = calcular_kijun_sen(df)\n",
    "# Média Móvel Ponderada pelo Volume (20)\n",
    "df['VWMA'] = calcular_vwma(df, 20)\n",
    "# Média Móvel de Hull (9)\n",
    "df['HMA'] = calcular_hma(df, 9)"
   ]
  },
  {
   "cell_type": "markdown",
   "id": "cede9d4b",
   "metadata": {},
   "source": [
    "##### Calcular as tendências individuais de cada indicador"
   ]
  },
  {
   "cell_type": "markdown",
   "id": "eafb03cd",
   "metadata": {},
   "source": [
    "##### Fazer a média das tendências individuais do indicadores osciladores"
   ]
  },
  {
   "cell_type": "markdown",
   "id": "b8f6e4f2",
   "metadata": {},
   "source": [
    "##### Fazer a média das tendências individuais do indicadores médias móveis"
   ]
  },
  {
   "cell_type": "markdown",
   "id": "0010f3da",
   "metadata": {},
   "source": [
    "##### fazer a saída que é a tendência geral deslocada para o minuto seguinte"
   ]
  },
  {
   "cell_type": "code",
   "execution_count": null,
   "id": "41305c03",
   "metadata": {},
   "outputs": [],
   "source": [
    "df['y'] = df['tendencia geral'].shift(-1)\n",
    "# dropar as linhas que não tem o valor de y\n",
    "df = df.dropna()\n",
    "# Salvar o dataframe em um arquivo CSV com o duckdb por que são muitos dados\n",
    "save_to_csv_duckdb(\n",
    "    df,\n",
    "    BASE_DIR\n",
    "    + '/datasets'\n",
    "    + '/saida_como_preco_do_ativo_'\n",
    "    + f'{coinpair.bitpreco_websocket}_{coinpair.exchange.value}'\n",
    "    + '.csv',\n",
    ")"
   ]
  },
  {
   "cell_type": "markdown",
   "id": "77c7e35d",
   "metadata": {},
   "source": [
    "### Terceiro dataset:\n",
    "- Entradas: volume, preço de abertura, preço de fechamento, preço máximo e preço mínimo\n",
    "- Saida: sinal de compra(-1), venda(1) ou neutro, ou seja não comprar e nem vender (0)"
   ]
  },
  {
   "cell_type": "code",
   "execution_count": null,
   "id": "d90f7866",
   "metadata": {},
   "outputs": [],
   "source": []
  }
 ],
 "metadata": {
  "kernelspec": {
   "display_name": ".venv",
   "language": "python",
   "name": "python3"
  },
  "language_info": {
   "codemirror_mode": {
    "name": "ipython",
    "version": 3
   },
   "file_extension": ".py",
   "mimetype": "text/x-python",
   "name": "python",
   "nbconvert_exporter": "python",
   "pygments_lexer": "ipython3",
   "version": "3.12.8"
  }
 },
 "nbformat": 4,
 "nbformat_minor": 5
}
