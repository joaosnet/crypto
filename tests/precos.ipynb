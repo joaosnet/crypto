{
 "cells": [
  {
   "cell_type": "code",
   "execution_count": null,
   "metadata": {},
   "outputs": [],
   "source": [
    "from datetime import datetime\n",
    "from pprint import pprint as pp\n",
    "\n",
    "import pandas as pd\n",
    "import pygwalker as pyg\n",
    "from api_binance import get_klines\n",
    "from api_bitpreco import (\n",
    "    Balance,\n",
    "    OpenOrders,\n",
    "    Orderbook,\n",
    "    Ticker,\n",
    "    Trades,\n",
    "    get_coinpair,\n",
    ")\n",
    "from rich import print\n",
    "\n",
    "# Tabela da ordem de compra e venda executadas\n",
    "from segredos import CAMINHO\n"
   ]
  },
  {
   "cell_type": "code",
   "execution_count": null,
   "metadata": {},
   "outputs": [],
   "source": [
    "print(datetime.now().astimezone().timetz().tzinfo)\n",
    "# dois dias atrás em timestamp\n",
    "print(datetime.now().timestamp() - 2 * 24 * 60 * 60)"
   ]
  },
  {
   "cell_type": "code",
   "execution_count": null,
   "metadata": {},
   "outputs": [],
   "source": [
    "response = get_klines()\n",
    "\n",
    "display(response.columns)"
   ]
  },
  {
   "cell_type": "markdown",
   "metadata": {},
   "source": [
    "# Minhas Ordens executadas"
   ]
  },
  {
   "cell_type": "code",
   "execution_count": null,
   "metadata": {},
   "outputs": [],
   "source": [
    "coinpair = get_coinpair()\n",
    "coinpair = 'all-brl'\n",
    "pp(Ticker(coinpair).json().keys())"
   ]
  },
  {
   "cell_type": "code",
   "execution_count": null,
   "metadata": {},
   "outputs": [],
   "source": [
    "balance = Balance().json()\n",
    "# pp(balance)\n",
    "balance_df = pd.DataFrame([balance])\n",
    "\n",
    "balance_df"
   ]
  },
  {
   "cell_type": "code",
   "execution_count": null,
   "metadata": {},
   "outputs": [],
   "source": [
    "open_orders = OpenOrders().json()\n",
    "\n",
    "if open_orders != []:\n",
    "    open_orders_df = pd.DataFrame(open_orders)\n",
    "    pyg.walk(open_orders_df)"
   ]
  },
  {
   "cell_type": "code",
   "execution_count": null,
   "metadata": {},
   "outputs": [],
   "source": [
    "def calculate_fee(\n",
    "    order_type: str, origin: str, amount: float, price: float\n",
    ") -> float:\n",
    "    \"\"\"\n",
    "    Calcula a taxa da ordem baseado no tipo, origem e valor.\n",
    "\n",
    "    Args:\n",
    "        order_type: Tipo da ordem ('BUY' ou 'SELL')\n",
    "        origin: Origem da ordem ('API', 'APP' ou 'WEB')\n",
    "        amount: Quantidade de BTC\n",
    "        price: Preço unitário em BRL\n",
    "\n",
    "    Returns:\n",
    "        float: Valor da taxa em BTC\n",
    "    \"\"\"\n",
    "    valor_total = amount * price\n",
    "\n",
    "    # Taxa para ordens de venda (SELL)\n",
    "    if order_type == 'SELL':\n",
    "        if origin in {'API', 'WEB'}:\n",
    "            return amount * 0.002  # 0.2%\n",
    "        elif origin == 'APP':\n",
    "            return amount * 0.002  # 0.2%\n",
    "\n",
    "    # Taxa para ordens de compra (BUY)\n",
    "    elif order_type == 'BUY':\n",
    "        if origin == 'API':\n",
    "            return 2e-8 if valor_total < 50 else 5e-7  # noqa: PLR2004\n",
    "        elif origin == 'APP':\n",
    "            return 0.0  # Algumas ordens APP têm taxa zero\n",
    "        elif origin == 'WEB':\n",
    "            return 0.0  # Algumas ordens WEB têm taxa zero\n",
    "\n",
    "    return 0.0"
   ]
  },
  {
   "cell_type": "code",
   "execution_count": null,
   "metadata": {},
   "outputs": [],
   "source": [
    "ORDERS_FILE = CAMINHO + '/executed_orders.csv'\n",
    "\n",
    "executed_orders_df = pd.read_csv(ORDERS_FILE)\n",
    "# pegando todas as ordens de compra até a ultima ordem de venda\n",
    "# Filtra ordens executadas até a última ordem de venda\n",
    "last_sell_index = executed_orders_df[\n",
    "    executed_orders_df['type'] == 'SELL'\n",
    "].index[0]\n",
    "filtered_orders = executed_orders_df.loc[:last_sell_index]\n",
    "\n",
    "# Filtra apenas ordens de compra\n",
    "buy_orders = filtered_orders[filtered_orders['type'] == 'BUY']\n",
    "print(executed_orders_df)\n",
    "print(buy_orders)\n",
    "\n",
    "# criando uma lista de amount que ainda precisam ser\n",
    "# vendidos com seus respectivos preços e taxas\n",
    "amounts_to_sell = []\n"
   ]
  },
  {
   "cell_type": "markdown",
   "metadata": {},
   "source": [
    "Preciso de um grafico que me mostre o melhor momento para comprar bitcoin"
   ]
  },
  {
   "cell_type": "code",
   "execution_count": null,
   "metadata": {},
   "outputs": [],
   "source": [
    "orders_json = Orderbook().json()\n",
    "\n",
    "pp(orders_json)"
   ]
  },
  {
   "cell_type": "code",
   "execution_count": null,
   "metadata": {},
   "outputs": [],
   "source": [
    "# transformando em um dataframe pandas para ver no pygwalker\n",
    "df = pd.DataFrame(orders_json)\n",
    "\n",
    "# Expandir as colunas 'bids' e 'asks' em DataFrames separados\n",
    "bids_df = pd.DataFrame(orders_json['bids'])\n",
    "asks_df = pd.DataFrame(orders_json['asks'])\n",
    "\n",
    "# Adicionar uma coluna para indicar o tipo de ordem\n",
    "bids_df['type'] = 'bid'\n",
    "asks_df['type'] = 'ask'\n",
    "\n",
    "# Concatenar os DataFrames\n",
    "orders_df = pd.concat([bids_df, asks_df], ignore_index=True)\n",
    "\n",
    "# Exibir o DataFrame resultante\n",
    "display(orders_df)"
   ]
  },
  {
   "cell_type": "code",
   "execution_count": null,
   "metadata": {},
   "outputs": [],
   "source": [
    "pyg.walk(orders_df)"
   ]
  },
  {
   "cell_type": "markdown",
   "metadata": {},
   "source": [
    "### Retorna uma lista de ordens já executadas.\n",
    "\n",
    "Os retornos terão a seguinte estrutura:\n",
    "\n",
    "type - Se a ordem é do tipo compra ou do tipo venda;\n",
    "amount - Volume negociado na ordem;\n",
    "market - Moedas envolvidas na ordem;\n",
    "price - Preço do BTC no momento da ordem;\n",
    "timestamp - Timestamp da ordem."
   ]
  },
  {
   "cell_type": "code",
   "execution_count": null,
   "metadata": {},
   "outputs": [],
   "source": [
    "trades_df = pd.DataFrame(Trades().json())\n",
    "\n",
    "pyg.walk(trades_df)"
   ]
  },
  {
   "cell_type": "code",
   "execution_count": null,
   "metadata": {},
   "outputs": [],
   "source": [
    "# import plotly.graph_objects as go\n",
    "\n",
    "# fig = go.Figure(\n",
    "#     data=[\n",
    "#         go.Candlestick(\n",
    "#             x=data['timestamp'],\n",
    "#             open=data['open'],\n",
    "#             high=data['high'],\n",
    "#             low=data['low'],\n",
    "#             close=data['close'],\n",
    "#         )\n",
    "#     ]\n",
    "# )\n",
    "# fig.show()"
   ]
  }
 ],
 "metadata": {
  "kernelspec": {
   "display_name": ".venv",
   "language": "python",
   "name": "python3"
  },
  "language_info": {
   "codemirror_mode": {
    "name": "ipython",
    "version": 3
   },
   "file_extension": ".py",
   "mimetype": "text/x-python",
   "name": "python",
   "nbconvert_exporter": "python",
   "pygments_lexer": "ipython3",
   "version": "3.13.0"
  }
 },
 "nbformat": 4,
 "nbformat_minor": 4
}
